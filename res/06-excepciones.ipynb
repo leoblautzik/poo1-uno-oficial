{
 "cells": [
  {
   "cell_type": "markdown",
   "id": "7a7184a0-e923-46ed-bd31-a16a5fae4b9d",
   "metadata": {},
   "source": [
    "# TP - Excepciones\n",
    "---"
   ]
  },
  {
   "cell_type": "markdown",
   "id": "780c5c6d-ee94-42b2-8fb5-ed9900dac5de",
   "metadata": {},
   "source": [
    "## Lanzar y tratar excepción"
   ]
  },
  {
   "cell_type": "markdown",
   "id": "bcfa5021-6f33-4b9a-9117-f592b0468162",
   "metadata": {},
   "source": [
    "Cree una clase con un método main() que genere un objeto de la clase Exception dentro de un bloque try. Proporcione al constructor de Exception un argumento String. Capture la excepción dentro de una cláusula catch e imprima el argumento String. Añada una cláusula finally e imprima un mensaje para demostrar que pasó por allí"
   ]
  },
  {
   "cell_type": "code",
   "execution_count": null,
   "id": "d244c507-309c-4273-b4a3-96a862f9f669",
   "metadata": {},
   "outputs": [],
   "source": []
  },
  {
   "cell_type": "markdown",
   "id": "25308296-296d-4a7b-8a3d-42942442c4cf",
   "metadata": {},
   "source": [
    "## Objeto nulo"
   ]
  },
  {
   "cell_type": "markdown",
   "id": "fdc4900f-437c-4eef-b747-5e61626550a2",
   "metadata": {},
   "source": [
    "Defina una referencia a un objeto e inicializela a null. Trate de invocar un método a través de esta referencia. Ahora rodee el código con una cláusula try-catch para probar la nueva excepción"
   ]
  },
  {
   "cell_type": "code",
   "execution_count": null,
   "id": "282f8d8f-3705-4624-a635-07e91d6cbe9a",
   "metadata": {},
   "outputs": [],
   "source": []
  },
  {
   "cell_type": "markdown",
   "id": "79538a25-e965-40e1-85c5-43460c9f479c",
   "metadata": {},
   "source": [
    "## Índice de matriz fuera de límites"
   ]
  },
  {
   "cell_type": "markdown",
   "id": "2e5d275f-8cd0-45e7-8245-41f6506aae2d",
   "metadata": {},
   "source": [
    "Escriba código para generar y capturar una excepción ArrayIndexOutOfBoundsException"
   ]
  },
  {
   "cell_type": "code",
   "execution_count": null,
   "id": "5648b82c-9503-4ff2-909f-af956c63382a",
   "metadata": {},
   "outputs": [],
   "source": []
  },
  {
   "cell_type": "markdown",
   "id": "0b365eec-d5f5-4f61-9c19-70b1bac788da",
   "metadata": {},
   "source": [
    "## Excepción propia"
   ]
  },
  {
   "cell_type": "markdown",
   "id": "3c8c4de0-1013-4cfb-bd7d-f6ea60efdf66",
   "metadata": {},
   "source": [
    "Cree su propia clase de excepción utilizando la palabra clave extends. Escriba un constructor para dicha clase que tome un argumento String y lo almacene dentro del objeto como una referencia de tipo String. Escriba un método que muestre la cadena de caracteres almacenada. Cree una cláusula try-catch para probar la nueva excepción"
   ]
  },
  {
   "cell_type": "code",
   "execution_count": null,
   "id": "21c958c8-747a-4cad-9caa-2e11dc78216b",
   "metadata": {},
   "outputs": [],
   "source": []
  },
  {
   "cell_type": "markdown",
   "id": "b7ebd416-3c35-4c30-bdf8-728eafaea766",
   "metadata": {},
   "source": [
    "## Reanudación"
   ]
  },
  {
   "cell_type": "markdown",
   "id": "0c072f44-db31-47e1-a80c-b5b1e38dc97d",
   "metadata": {},
   "source": [
    "Defina un comportamiento de tipo reanudación utilizando un bucle while que se repita hasta que se deje de generar una excepción"
   ]
  },
  {
   "cell_type": "code",
   "execution_count": null,
   "id": "e472b563-3cfc-487c-b89d-10f489f21f2f",
   "metadata": {},
   "outputs": [],
   "source": []
  },
  {
   "cell_type": "markdown",
   "id": "b4c5c167-f2fa-4e9a-b417-2c83a5e24a66",
   "metadata": {},
   "source": [
    "## Cuentas de un Banco"
   ]
  },
  {
   "cell_type": "markdown",
   "id": "50b09a4f-b9a2-4334-9a3c-04e546cb7500",
   "metadata": {},
   "source": [
    "Un banco contiene las Cuentas de sus clientes. Las cuentas de ahorro no pueden tener números rojos. Las cuentas corrientes pueden tener una cuenta de ahorro asociada, de forma que si se intenta retirar más dinero del saldo actual, se debe retirar el dinero que falte de la cuenta de ahorro asociada\n",
    "1. Define Cuenta de forma que no pueda instanciarse. De toda Cuenta se debe poder ingresar y retirar dinero, preguntar por el saldo, por el DNI del titular y debe tener un método toString de devuelva al menos el saldo y el DNI del titular\n",
    "1. Implementa las clases CuentaCorriente y CuentaDeAhorro\n",
    "1. Crea una especialización CuentaDeAhorroEsp de CuentaDeAhorro en la que se añade un entero penalización, de forma que se penaliza la retirada con una penalización % del dinero retirado. Sobrescribe sólo los métodos necesarios (incluyendo constructor y toString)\n",
    "1. Si el saldo de CuentaDeAhorro fuese a quedar negativo, antes de debe lanzar una excepción SaldoNegativo (que hereda de Exception)\n",
    "1. Implementa la clase Banco que contiene una colección de Cuentas, incluyendo el constructor que consideres más apropiado\n",
    "1. Incluye el método totalSaldoMaxPenalización en la clase Banco que devuelva la suma de los saldos de todas las cuentas corrientes y la máxima penalización entre las CuentaDeAhorroEsp\n",
    "1. Crea una clase con método main en la que instanciamos un Banco de 100 Cuentas, nos creamos una CuentaCorriente con 5000 pesos y una cuenta de ahorro especial con una penalización del 5%. Finalmente debe mostrar información de todas las Cuentas del Banco. En un bloque try & catch retirar dinero de una Cuenta de Ahorro"
   ]
  },
  {
   "cell_type": "code",
   "execution_count": null,
   "id": "7f3d9bad-e1f8-40c7-bcc8-2a1860de933b",
   "metadata": {},
   "outputs": [],
   "source": []
  }
 ],
 "metadata": {
  "kernelspec": {
   "display_name": "Python [conda env:base] *",
   "language": "python",
   "name": "conda-base-py"
  },
  "language_info": {
   "codemirror_mode": {
    "name": "ipython",
    "version": 3
   },
   "file_extension": ".py",
   "mimetype": "text/x-python",
   "name": "python",
   "nbconvert_exporter": "python",
   "pygments_lexer": "ipython3",
   "version": "3.12.7"
  }
 },
 "nbformat": 4,
 "nbformat_minor": 5
}
