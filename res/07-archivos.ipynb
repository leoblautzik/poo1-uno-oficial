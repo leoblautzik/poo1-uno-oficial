{
 "cells": [
  {
   "cell_type": "markdown",
   "id": "d7529273-e762-4662-ade2-0af1be0fa711",
   "metadata": {},
   "source": [
    "# Archivos"
   ]
  },
  {
   "cell_type": "markdown",
   "id": "d47077b5-eb43-4cce-a9c8-7b759bf36202",
   "metadata": {},
   "source": [
    "## Tabla multiplicar"
   ]
  },
  {
   "cell_type": "markdown",
   "id": "e3d734c4-7c7f-4688-8e71-e366abfb14e8",
   "metadata": {},
   "source": [
    "Escribir una función que pida un número entero entre 1 y 10 y guarde en un archivo con el nombre tabla-n.txt la tabla de multiplicar de ese número donde n es el número introducido"
   ]
  },
  {
   "cell_type": "code",
   "execution_count": 3,
   "id": "4533fcce-ea59-45dc-9236-33ab16d6b39e",
   "metadata": {},
   "outputs": [],
   "source": [
    "def escritura_tabla_multiplicar():\n",
    "    numero = int(input('Número [1..10]: '))\n",
    "    f = open('/Users/ppando/Materias/data/materias/programacion/python/tabla-' + str(numero) + '.txt', 'w')\n",
    "    [f.write(f'{numero} x {i} = {numero * i} \\n') for i in range(1, 11)]\n",
    "    f.close()"
   ]
  },
  {
   "cell_type": "code",
   "execution_count": 4,
   "id": "eda214e4-4ef4-44bb-b784-977f0c348067",
   "metadata": {},
   "outputs": [
    {
     "name": "stdin",
     "output_type": "stream",
     "text": [
      "Número [1..10]:  2\n"
     ]
    }
   ],
   "source": [
    "escritura_tabla_multiplicar()"
   ]
  },
  {
   "cell_type": "markdown",
   "id": "e6c18e32-07cf-4f24-a353-149621b1473a",
   "metadata": {},
   "source": [
    "## Lectura archivo tabla multiplicar"
   ]
  },
  {
   "cell_type": "markdown",
   "id": "17b61a24-7503-49eb-9816-61a23eea7bfe",
   "metadata": {},
   "source": [
    "Escribir una función que pida un número entero entre 1 y 10, lea el archivo tabla-n.txt con la tabla de multiplicar de ese número, donde n es el número introducido, y la muestre por pantalla. Si el archivo no existe debe mostrar un mensaje por pantalla informando de ello"
   ]
  },
  {
   "cell_type": "code",
   "execution_count": 5,
   "id": "961b1cae-7dd8-4798-9235-87b9a392f70f",
   "metadata": {},
   "outputs": [],
   "source": [
    "def lectura_tabla_multiplicar():\n",
    "    try:\n",
    "        f = open(f'/Users/ppando/Materias/data/materias/programacion/python/tabla-{input('Número [1..10]: ')}.txt', 'r')\n",
    "        print(f.read())\n",
    "        f.close()\n",
    "    except FileNotFoundError:\n",
    "        print('El archivo no existe!')"
   ]
  },
  {
   "cell_type": "code",
   "execution_count": 6,
   "id": "df3b41d8-52ce-4e1e-9902-ca0f051833fd",
   "metadata": {},
   "outputs": [
    {
     "name": "stdin",
     "output_type": "stream",
     "text": [
      "Número [1..10]:  2\n"
     ]
    },
    {
     "name": "stdout",
     "output_type": "stream",
     "text": [
      "2 x 1 = 2 \n",
      "2 x 2 = 4 \n",
      "2 x 3 = 6 \n",
      "2 x 4 = 8 \n",
      "2 x 5 = 10 \n",
      "2 x 6 = 12 \n",
      "2 x 7 = 14 \n",
      "2 x 8 = 16 \n",
      "2 x 9 = 18 \n",
      "2 x 10 = 20 \n",
      "\n"
     ]
    }
   ],
   "source": [
    "lectura_tabla_multiplicar()"
   ]
  },
  {
   "cell_type": "markdown",
   "id": "f0069254-709f-407a-803f-c7999179c96e",
   "metadata": {},
   "source": [
    "## Lectura archivo línea tabla multiplicar"
   ]
  },
  {
   "cell_type": "markdown",
   "id": "5c6496c3-28b0-444e-ad70-77e6068a565f",
   "metadata": {},
   "source": [
    "Escribir una función que pida dos números n y m entre 1 y 10, lea el archivo tabla-n.txt con la tabla de multiplicar de ese número, y muestre por pantalla la línea m del archivo. Si el archivo no existe debe mostrar un mensaje por pantalla informando de ello"
   ]
  },
  {
   "cell_type": "code",
   "execution_count": 7,
   "id": "0dace1a8-4d82-4f36-b67f-0426e06cc883",
   "metadata": {},
   "outputs": [],
   "source": [
    "def lectura_linea_tabla_multiplicar():\n",
    "    try:\n",
    "        f = open(f'/Users/ppando/Materias/data/materias/programacion/python/tabla-{input('Número N [1..10]: ')}.txt', 'r')\n",
    "        print(f.readlines()[int(input('Número M [1..10]: ')) - 1])\n",
    "        f.close()\n",
    "    except FileNotFoundError:\n",
    "        print('El archivo no existe!')"
   ]
  },
  {
   "cell_type": "code",
   "execution_count": 8,
   "id": "b76bb4d4-7761-4acd-8e4d-e4f8b5c87464",
   "metadata": {},
   "outputs": [
    {
     "name": "stdin",
     "output_type": "stream",
     "text": [
      "Número N [1..10]:  2\n",
      "Número M [1..10]:  8\n"
     ]
    },
    {
     "name": "stdout",
     "output_type": "stream",
     "text": [
      "2 x 8 = 16 \n",
      "\n"
     ]
    }
   ],
   "source": [
    "lectura_linea_tabla_multiplicar()"
   ]
  },
  {
   "cell_type": "markdown",
   "id": "c912204a-4695-40c9-a0d9-57f4d0b24e60",
   "metadata": {},
   "source": [
    "## Lectura archivo internet"
   ]
  },
  {
   "cell_type": "markdown",
   "id": "acaed9e2-2ad6-4b27-8074-a4a4749e157f",
   "metadata": {},
   "source": [
    "Escribir un programa que acceda a un archivo de internet mediante su url y muestre por pantalla el número de palabras que contiene"
   ]
  },
  {
   "cell_type": "code",
   "execution_count": 9,
   "id": "855ff0cf-3ad0-49e5-9305-5ddc13d5fdda",
   "metadata": {},
   "outputs": [
    {
     "name": "stdout",
     "output_type": "stream",
     "text": [
      "276\n"
     ]
    }
   ],
   "source": [
    "import urllib.request\n",
    "\n",
    "response = urllib.request.urlopen('https://www.python.org/') \n",
    "print(len(response.read().split()))"
   ]
  },
  {
   "cell_type": "markdown",
   "id": "c37b745d-d2f4-402d-9455-173e46d76377",
   "metadata": {},
   "source": [
    "## Listado telefónico"
   ]
  },
  {
   "cell_type": "markdown",
   "id": "3d573fbf-0352-429c-84fd-84ced8cb9416",
   "metadata": {},
   "source": [
    "Escribir un programa para gestionar un listado telefónico con los nombres y los teléfonos de los clientes de una empresa. El programa debe incorporar funciones crear el fichero con el listín si no existe, para consultar el teléfono de un cliente, añadir el teléfono de un nuevo cliente y eliminar el teléfono de un cliente. El listado debe estar guardado en el archivo de texto listado.txt donde el nombre del cliente y su teléfono deben aparecer separados por comas y cada cliente en una línea\n",
    "distinta"
   ]
  },
  {
   "cell_type": "code",
   "execution_count": 10,
   "id": "0e4e66e9-0a56-4e68-b501-9d247171673a",
   "metadata": {},
   "outputs": [],
   "source": [
    "mapa = {}\n",
    "\n",
    "def menu():\n",
    "    opc = 0\n",
    "    leer_archivo()\n",
    "    while (opc != 4):\n",
    "        if opc == 1:\n",
    "            agregar()\n",
    "        if opc == 2:\n",
    "            eliminar()\n",
    "        if opc == 3:\n",
    "            consultar()\n",
    "        if opc != 0:\n",
    "            input()\n",
    "        print()\n",
    "        print('--------MENU---------')\n",
    "        print('1. Agregar teléfono')\n",
    "        print('2. Eliminar teléfono')\n",
    "        print('3. Consultar teléfono')\n",
    "        print('4. Salir')\n",
    "        print()\n",
    "        opc = int(input('?- '))\n",
    "    guardar()\n",
    "\n",
    "def leer_archivo():\n",
    "    try:\n",
    "        arch = open('/Users/ppando/Materias/data/materias/programacion/python/listado.txt', 'r')\n",
    "        for linea in arch.readlines():\n",
    "            lparser = linea.split(';')\n",
    "            mapa[lparser[0]] = lparser[1]\n",
    "        arch.close()\n",
    "    except FileNotFoundError:\n",
    "        open('listado.txt', 'w')\n",
    "        \n",
    "def agregar():\n",
    "    cli = input('Cliente: ')\n",
    "    tel = input('Tel. :')\n",
    "    mapa[cli] = tel\n",
    "\n",
    "def eliminar():\n",
    "    cli = input('Cliente: ')\n",
    "    if cli in mapa.keys():\n",
    "        mapa.pop(cli)\n",
    "    else:\n",
    "        print('Cliente no encontrado...')\n",
    "\n",
    "def consultar():\n",
    "    cli = input('Cliente: ')\n",
    "    if cli in mapa.keys():\n",
    "        print('Tel.: ' + mapa[cli])\n",
    "    else:\n",
    "        print('Cliente no encontrado...')\n",
    "\n",
    "def guardar():\n",
    "    arch = open('/Users/ppando/Materias/data/materias/programacion/python/listado.txt', 'w')\n",
    "    for item in mapa.items():\n",
    "        arch.write(item[0] + ',' + item[1] + '\\n')\n",
    "    arch.close()"
   ]
  },
  {
   "cell_type": "code",
   "execution_count": 11,
   "id": "5860beff-248b-4889-a647-4cd0f3c45a22",
   "metadata": {},
   "outputs": [
    {
     "name": "stdout",
     "output_type": "stream",
     "text": [
      "\n",
      "--------MENU---------\n",
      "1. Agregar teléfono\n",
      "2. Eliminar teléfono\n",
      "3. Consultar teléfono\n",
      "4. Salir\n",
      "\n"
     ]
    },
    {
     "name": "stdin",
     "output_type": "stream",
     "text": [
      "?-  1\n",
      "Cliente:  Pablo\n",
      "Tel. : 59817493\n",
      " \n"
     ]
    },
    {
     "name": "stdout",
     "output_type": "stream",
     "text": [
      "\n",
      "--------MENU---------\n",
      "1. Agregar teléfono\n",
      "2. Eliminar teléfono\n",
      "3. Consultar teléfono\n",
      "4. Salir\n",
      "\n"
     ]
    },
    {
     "name": "stdin",
     "output_type": "stream",
     "text": [
      "?-  3\n",
      "Cliente:  Pablo\n"
     ]
    },
    {
     "name": "stdout",
     "output_type": "stream",
     "text": [
      "Tel.: 59817493\n"
     ]
    },
    {
     "name": "stdin",
     "output_type": "stream",
     "text": [
      " \n"
     ]
    },
    {
     "name": "stdout",
     "output_type": "stream",
     "text": [
      "\n",
      "--------MENU---------\n",
      "1. Agregar teléfono\n",
      "2. Eliminar teléfono\n",
      "3. Consultar teléfono\n",
      "4. Salir\n",
      "\n"
     ]
    },
    {
     "name": "stdin",
     "output_type": "stream",
     "text": [
      "?-  4\n"
     ]
    }
   ],
   "source": [
    "menu()"
   ]
  },
  {
   "cell_type": "markdown",
   "id": "8a186f27-c2fe-4c28-888b-f4ff1fd6b8af",
   "metadata": {},
   "source": [
    "## Cotización"
   ]
  },
  {
   "cell_type": "markdown",
   "id": "3655f94c-df0f-47b5-b7bb-09e64a128003",
   "metadata": {},
   "source": [
    "El fichero cotizacion.csv contiene las cotizaciones de las empresas del IBEX35 con las siguientes columnas: Nombre (nombre de la empresa), Final (precio de la acción al cierre de bolsa), Máximo (precio máximo de la acción durante la jornada), Mínimo (precio mínimo de la acción durante la\n",
    "jornada), Volumen (Volumen al cierre de bolsa), Efectivo (capitalización al cierre en miles de euros)\n",
    "1. Construir una función que reciba el archivo de cotizaciones y devuelva un diccionario con los datos del archivo por columnas\n",
    "2. Construir una función que reciba el diccionario devuelto por la función anterior y cree un archivo en formato csv con el mínimo, el máximo y la media de dada columna"
   ]
  },
  {
   "cell_type": "code",
   "execution_count": 13,
   "id": "edbf1cd1-ac5f-43a2-a669-cca59c0e85a5",
   "metadata": {},
   "outputs": [],
   "source": [
    "def generar_dicc_cotizaciones(archivo):\n",
    "    dicc = {}\n",
    "    arch = open(archivo, 'r')\n",
    "    lineas = arch.readlines()\n",
    "    for linea in lineas:\n",
    "        lparser = linea.split(';')\n",
    "        datos = {}\n",
    "        datos['final'] = float(lparser[1])\n",
    "        datos['max'] = float(lparser[2])\n",
    "        datos['min'] = float(lparser[3])\n",
    "        datos['vol'] = float(lparser[4])\n",
    "        datos['efvo'] = float(lparser[5])\n",
    "        dicc[lparser[0]] = datos\n",
    "    return dicc\n",
    "\n",
    "def calcular_data(dicc):\n",
    "    lista_fin = []\n",
    "    lista_max = []\n",
    "    lista_min = []\n",
    "    lista_vol = []\n",
    "    lista_efvo = []\n",
    "    for cotizacion in dicc.items():\n",
    "        for col in cotizacion[1].items():\n",
    "            if col[0] == 'final':\n",
    "                lista_fin.append(col[1])\n",
    "            if col[0] == 'max':\n",
    "                lista_max.append(col[1])\n",
    "            if col[0] == 'min':\n",
    "                lista_min.append(col[1])\n",
    "            if col[0] == 'vol':\n",
    "                lista_vol.append(col[1])\n",
    "            if col[0] == 'efvo':\n",
    "                lista_efvo.append(col[1])\n",
    "    arch = open('/Users/ppando/Materias/data/materias/programacion/python/estadisticas.csv', 'w')\n",
    "    arch.write('Final;' + str(max(*lista_fin)) + ';' + str(min(*lista_fin)) + ';' + str(sum(lista_fin)/len(lista_fin)) + '\\n')\n",
    "    arch.write('Máximo;' + str(max(*lista_max)) + ';' + str(min(*lista_max)) + ';' + str(sum(lista_max)/len(lista_max)) + '\\n')\n",
    "    arch.write('Mínimo;' + str(max(*lista_min)) + ';' + str(min(*lista_min)) + ';' + str(sum(lista_min)/len(lista_min)) + '\\n')\n",
    "    arch.write('Volumen;' + str(max(*lista_vol)) + ';' + str(min(*lista_vol)) + ';' + str(sum(lista_vol)/len(lista_vol)) + '\\n')\n",
    "    arch.write('Efectivo;' + str(max(*lista_efvo)) + ';' + str(min(*lista_efvo)) + ';' + str(sum(lista_efvo)/len(lista_efvo)) + '\\n')"
   ]
  },
  {
   "cell_type": "code",
   "execution_count": 14,
   "id": "9a0095bf-c528-4fa6-a60c-5fa4aaa9bf88",
   "metadata": {},
   "outputs": [],
   "source": [
    "calcular_data(generar_dicc_cotizaciones('/Users/ppando/Materias/data/materias/programacion/python/cotizacion.csv'))"
   ]
  },
  {
   "cell_type": "markdown",
   "id": "376fc99f-115b-473b-b743-05935d4afe3d",
   "metadata": {},
   "source": [
    "## Lectura de archivo"
   ]
  },
  {
   "cell_type": "markdown",
   "id": "e72e4f6a-cc0a-4b9e-9a37-ea13e300c512",
   "metadata": {},
   "source": [
    "Crear un archivo de texto con el nombre y contenido que quiera. Crear una aplicación que lea el archivo de texto y muestre su contenido por pantalla sin espacios. Por ejemplo, si el archivo tiene el siguiente texto \"Esto es una prueba\", deberá mostrar \"Estoesunaprueba\". Capturar las excepciones que sean necesarias"
   ]
  },
  {
   "cell_type": "code",
   "execution_count": null,
   "id": "6a01c7eb-2ad7-43b1-9108-7c6bcd635a3a",
   "metadata": {},
   "outputs": [],
   "source": []
  },
  {
   "cell_type": "markdown",
   "id": "d8e66573-71c3-4af9-9a5e-a62896b72cd1",
   "metadata": {},
   "source": [
    "## Escritura y lectura de archivo"
   ]
  },
  {
   "cell_type": "markdown",
   "id": "35e83974-aa8a-4ffd-b3a0-ddb516c0e910",
   "metadata": {},
   "source": [
    "Crear una aplicación donde se solicite la ruta de un archivo por teclado y un texto que se desea escribir en el archivo. Se deberá mostrar por pantalla el mismo texto pero variando entre mayúsculas y minúsculas, es decir, si se escribe \"Bienvenido\" deberá devolver \"bIENVENIDO\". Si se escribe cualquier otro carácter, se quedará tal y como se escribió. Se deberá crear un método para escribir en el archivo el texto introducido y otro para mostrar el contenido en mayúsculas"
   ]
  },
  {
   "cell_type": "code",
   "execution_count": null,
   "id": "4fd4efd7-cc36-46d6-9525-195436488477",
   "metadata": {},
   "outputs": [],
   "source": []
  },
  {
   "cell_type": "markdown",
   "id": "bd0d1549-81f1-4739-aa5b-e53da81e5cd8",
   "metadata": {},
   "source": [
    "## Juntar archivos"
   ]
  },
  {
   "cell_type": "markdown",
   "id": "65f2259f-44a2-448f-b157-d24eb321e70c",
   "metadata": {},
   "source": [
    "Crear una aplicación que solicite la ruta de dos archivos de texto y de una ruta de destino (solo la ruta, sin archivo al final). Se deberá copiar el contenido de los dos archivos en uno, este tendrá el nombre de los dos archivos separados por un guión bajo, y se guardará en la ruta donde se le haya indicado por teclado. Para unir los archivos en uno, crear un método donde se le pase como parámetro todas las rutas. En este método, además de copiar debe comprobar que sí existe el archivo de destino, muestre un mensaje informando de si se quiere sobrescribir el archivo. Por ejemplo, si se tiene un archivo A.txt con \"ABC\" como contenido, un archivo B.txt con \"DEF\" y una ruta de destino D:\\, el resultado será un archivo llamado A_B.txt en la ruta D:\\ con el contenido \"ABCDEF\""
   ]
  },
  {
   "cell_type": "code",
   "execution_count": null,
   "id": "9950993b-28f8-43e6-8b59-10ec4ead3533",
   "metadata": {},
   "outputs": [],
   "source": []
  },
  {
   "cell_type": "markdown",
   "id": "9f285e16-92cb-4ce9-9c20-61264ad9f84a",
   "metadata": {},
   "source": [
    "## Empresa de auxilio mecánico"
   ]
  },
  {
   "cell_type": "markdown",
   "id": "84b9044e-7f6d-45fb-9c4e-a09eb2f3495f",
   "metadata": {},
   "source": [
    "Una empresa que brinda auxilio mecánico cubre 20 zonas, numeradas de 0 a 19. Cuando un abonado necesita ayuda se comunica telefónicamente, generándose así un nuevo caso por resolver. Para abrir un caso, el abonado debe informarle al operador los siguientes datos:\n",
    "* Número de abonado (8 dígitos)\n",
    "* Número de zona (0 a 19)\n",
    "* Dirección exacta en donde debe ser auxiliado (hasta 256 caracteres)\n",
    "* Diremos que un caso está \"abierto\" mientras no se le haya asignado un móvil de auxilio. Una vez establecida la asignación de un móvil a un caso, diremos que el caso está \"asignado\". Por último, el caso estará \"cerrado\" cuando el móvil que le fuera asignado reporte por radio al operador los siguientes datos:\n",
    "    * Número de caso (8 dígitos)\n",
    "    * Tipo de problema (3 dígitos)\n",
    "* En cada zona operan varios móviles, todos exclusivos de la zona. La información de estos móviles se encuentran en el archivo MOVILES.dat, donde cada registro tiene:\n",
    "    * Número de móvil (3 dígitos)\n",
    "    * Número de zona (0 a 19)\n",
    "* La asignación de casos debe ser uniforme. Es decir, a medida que los móviles de una zona se vayan liberando deberán formar una cola de espera para recibir un nuevo caso. Análogamente, los serán atendidos según la zona en que se encuentren y según el orden en el que fueron llamando para solicitar auxilio\n",
    "* Se dispone de la función horalActual que retorna la hora del sistema expresada como un valor numérico entero con el siguiente formato: hhmm. Se pide desarrollar un programa que automatice la asignación de móviles a los diferentes casos. Al finalizar, se pide generar un archivo CASOS.dat con los siguientes datos: Número de caso, Número de abonado, Número de zona, Número de móvil, Tipo de problema, Hora de apertura, Hora de cierre"
   ]
  },
  {
   "cell_type": "code",
   "execution_count": null,
   "id": "39872e97-621c-4c8a-969f-8ec04867b782",
   "metadata": {},
   "outputs": [],
   "source": []
  },
  {
   "cell_type": "markdown",
   "id": "4c59dc55-2db3-444d-af67-7deff17e3ffd",
   "metadata": {},
   "source": [
    "## Compañia de seguros"
   ]
  },
  {
   "cell_type": "markdown",
   "id": "f4df6490-e4dc-4345-b39a-4e1882badee4",
   "metadata": {},
   "source": [
    "Se debe procesar un archivo que contiene información sobre los siniestros denunciados por los clientes de una compañía de seguros. En el archivo existe un registro por cada denuncia, con los siguientes campos:\n",
    "* Número de matrícula (6 caracteres)\n",
    "* Fecha (10 caracteres, con formato \"dd/mm/aaaa\")\n",
    "* Detalles (256 caracteres)\n",
    "* No se conoce cuántas matrículas diferentes existen ni tampoco la cantidad máxima de siniestros denunciados que puede haber por cada una de ellas. Los registros en el archivo están ordenados ascendentemente por fecha\n",
    "* Se pide emitir un listado ordenado por número de matrícula informando, por cada una, la fecha y el detalle de cada uno de los siniestros denunciados"
   ]
  },
  {
   "cell_type": "code",
   "execution_count": null,
   "id": "4dc32edc-986b-4ae3-8719-4da4ffe21cc2",
   "metadata": {},
   "outputs": [],
   "source": []
  },
  {
   "cell_type": "markdown",
   "id": "13c81ade-4db1-4a8e-a1e3-ece145308ea8",
   "metadata": {},
   "source": [
    "## Rendimiento de empleados"
   ]
  },
  {
   "cell_type": "markdown",
   "id": "0317217a-2d88-4b66-8f9a-9e5eee1125b0",
   "metadata": {},
   "source": [
    "Para analizar el rendimiento de sus empleados, una empresa decide llevar el registro de las actividades que cada uno desarrolla durante su tiempo de trabajo. En la empresa trabajan hasta 50 empleados (numerados de 0 a 49) y existen hasta 200 proyectos (numerados de 0 a 199). Al finalizar la jornada laboral, cada empleado completa uno o varios registros en el archivo HORAS.dat cuya estructura es la siguiente:\n",
    "* Número de empleado\n",
    "* Número de proyecto\n",
    "* Cantidad de horas\n",
    "* Descripción de la tarea realizada\n",
    "* Fecha de la tarea\n",
    "* El archivo se encuentra ordenado naturalmente, es decir, por fecha ascendente. Se pide generar un listado que informe por cada empleado el detalle de las tareas realizadas en cada uno de los proyectos en los que participó. El listado debe estar ordenado por número de empleado, luego por número de proyecto y, finalmente, por fecha descendente, es decir, primero las tareas más recientes"
   ]
  },
  {
   "cell_type": "code",
   "execution_count": null,
   "id": "2dd5fa3d-a509-44a1-957e-61e5487b91cd",
   "metadata": {},
   "outputs": [],
   "source": []
  }
 ],
 "metadata": {
  "kernelspec": {
   "display_name": "Python [conda env:base] *",
   "language": "python",
   "name": "conda-base-py"
  },
  "language_info": {
   "codemirror_mode": {
    "name": "ipython",
    "version": 3
   },
   "file_extension": ".py",
   "mimetype": "text/x-python",
   "name": "python",
   "nbconvert_exporter": "python",
   "pygments_lexer": "ipython3",
   "version": "3.12.7"
  }
 },
 "nbformat": 4,
 "nbformat_minor": 5
}
