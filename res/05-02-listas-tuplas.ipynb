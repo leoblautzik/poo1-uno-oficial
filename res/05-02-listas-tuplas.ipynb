{
 "cells": [
  {
   "cell_type": "markdown",
   "id": "78f99388-3d7e-44d5-a725-2348cc44aea2",
   "metadata": {},
   "source": [
    "# TP - Listas\n",
    "---"
   ]
  },
  {
   "cell_type": "markdown",
   "id": "ad71c212-1859-474c-b4a3-53026d67b2c2",
   "metadata": {},
   "source": [
    "## Pertenencia"
   ]
  },
  {
   "cell_type": "markdown",
   "id": "456ab368-c4dc-4964-ab4d-be8e7dcb34cb",
   "metadata": {},
   "source": [
    "Se ingresa por teclado un conjunto de valores enteros, El ingreso de datos finalizará cuando ingrese el valor 0 (cero). Luego se ingresa otro conjunto de valores enteros y, por cada uno de estos, se debe informar si el valor ingresado pertenece o no al primer conjunto"
   ]
  },
  {
   "cell_type": "code",
   "execution_count": null,
   "id": "53f8fba9-0a04-47d6-9a5e-85eea1503d0b",
   "metadata": {},
   "outputs": [],
   "source": []
  },
  {
   "cell_type": "markdown",
   "id": "6301a035-70b2-4ced-9969-6eee9cc87a25",
   "metadata": {},
   "source": [
    "## Diferencia"
   ]
  },
  {
   "cell_type": "markdown",
   "id": "992e5966-548e-4a59-b3c1-07d35c758954",
   "metadata": {},
   "source": [
    "Utilizando la función eliminar, se pide ingresar dos listas A y B para mostrar el contenido resultante C = A – B"
   ]
  },
  {
   "cell_type": "code",
   "execution_count": null,
   "id": "06fd7e58-57b3-4c97-8a4d-55685848dbf1",
   "metadata": {},
   "outputs": [],
   "source": []
  },
  {
   "cell_type": "markdown",
   "id": "1ecd2388-903b-474f-ab94-bd1419e24ab9",
   "metadata": {},
   "source": [
    "## Duplicados"
   ]
  },
  {
   "cell_type": "markdown",
   "id": "baa811db-95ea-4ce0-98ad-1cb36f67d377",
   "metadata": {},
   "source": [
    "Eliminar elementos duplicados de una lista"
   ]
  },
  {
   "cell_type": "code",
   "execution_count": null,
   "id": "097f0267-e6a4-44b6-aa02-cad020e98f35",
   "metadata": {},
   "outputs": [],
   "source": []
  },
  {
   "cell_type": "markdown",
   "id": "d954e97d-e655-46ab-8295-94034f14bdd9",
   "metadata": {},
   "source": [
    "## Unicos"
   ]
  },
  {
   "cell_type": "markdown",
   "id": "0b7f2bc5-e16a-4d57-80ef-3953029eecab",
   "metadata": {},
   "source": [
    "Determinar si todos los elementos de una lista son únicos"
   ]
  },
  {
   "cell_type": "code",
   "execution_count": null,
   "id": "f1f18529-0028-4f65-88f3-8ad5273a79f1",
   "metadata": {},
   "outputs": [],
   "source": []
  },
  {
   "cell_type": "markdown",
   "id": "38d2b287-aae8-41e1-ac8c-d329e050f4e1",
   "metadata": {},
   "source": [
    "## Números ordenados"
   ]
  },
  {
   "cell_type": "markdown",
   "id": "76ef4334-c70c-4571-b9b3-44897793e902",
   "metadata": {},
   "source": [
    "Escribir una función que reciba una lista de enteros y devuelva true si la lista está ordenada de mayor a menor y false si está desordenada"
   ]
  },
  {
   "cell_type": "code",
   "execution_count": null,
   "id": "6a9fa876-16f3-46bb-b12f-737c4750889a",
   "metadata": {},
   "outputs": [],
   "source": []
  },
  {
   "cell_type": "markdown",
   "id": "ba26592a-702b-459c-80a4-d8902ee7dc0e",
   "metadata": {},
   "source": [
    "## Posiciones pares"
   ]
  },
  {
   "cell_type": "markdown",
   "id": "84893492-66c9-46e5-96a2-a34072bc679d",
   "metadata": {},
   "source": [
    "Escribir una función que reciba una lista de enteros y devuelva la suma de los elementos que se encuentran en posiciones pares (incluido el elemento de la posición 0). Por ejemplo:  Dada la lista [1, 2, 13 ,4, 8, 6] => devuelve 22 (1+13+8)"
   ]
  },
  {
   "cell_type": "code",
   "execution_count": null,
   "id": "4b5586f1-9c6a-4109-92fe-e6077a67daa4",
   "metadata": {},
   "outputs": [],
   "source": []
  },
  {
   "cell_type": "markdown",
   "id": "213f04b5-0948-491b-8b95-65dd683ba410",
   "metadata": {},
   "source": [
    "## Repetición de números"
   ]
  },
  {
   "cell_type": "markdown",
   "id": "c4e8629a-1066-4d6b-8e93-e57aaa7c527a",
   "metadata": {},
   "source": [
    "Implementar una función que reciba como parámetro una lista de enteros y muestre por pantalla cuántas veces se repite cada uno. La lista no está ordenada. Se garantiza que a los sumo habrá 100 números diferentes"
   ]
  },
  {
   "cell_type": "code",
   "execution_count": null,
   "id": "62623b87-a991-463b-809b-5aeee9fb30cd",
   "metadata": {},
   "outputs": [],
   "source": []
  },
  {
   "cell_type": "markdown",
   "id": "22b4b7b0-f173-4ce8-9037-d151f45b2103",
   "metadata": {},
   "source": [
    "## Intercalar elementos"
   ]
  },
  {
   "cell_type": "markdown",
   "id": "136d4ee7-f882-4c48-b208-4975c133e94d",
   "metadata": {},
   "source": [
    "Escribir una función que reciba dos listas l1 y l2, de enteros ordenados de menor a mayor e intercale los elementos de las listas que recibe en una nueva lista, tal que la lista resultante también esté ordenado. Por ejemplo:\n",
    "* l1 = [-5, 0, 0, 1, 5]\n",
    "* l2 = [-10, 0, 7]\n",
    "* resultado = [-10, -5, 0, 0, 0, 1, 5, 7]"
   ]
  },
  {
   "cell_type": "code",
   "execution_count": null,
   "id": "a90dcce1-626e-4c40-a596-4cde4fa617ee",
   "metadata": {},
   "outputs": [],
   "source": []
  },
  {
   "cell_type": "markdown",
   "id": "bc3cafab-39b1-45f4-9f67-668435ad80df",
   "metadata": {},
   "source": [
    "## Productos"
   ]
  },
  {
   "cell_type": "markdown",
   "id": "5fa209df-9a58-41de-a3d3-fbaa82d73c69",
   "metadata": {},
   "source": [
    "Se tiene ordenada por código de producto, una lista donde cada Producto, tiene como atributos código,  descripción, importe y  stock. Implementar métodos para:\n",
    "* Imprimir la lista completa\n",
    "* Dado un entero k, imprimir el k-ésimo elemento\n",
    "* Incrementar el importe de un producto dado en un 10%\n",
    "* Devolver el stock de un producto dado o cero si no esta\n",
    "* Devolver una lista de productos con stock inferior a 50 unidades\n",
    "* Devolver una lista de productos con stock superior o igual a 50 unidades"
   ]
  },
  {
   "cell_type": "code",
   "execution_count": null,
   "id": "e0c23238-9af3-406a-8f64-3cfb16ce7ee9",
   "metadata": {},
   "outputs": [],
   "source": []
  },
  {
   "cell_type": "markdown",
   "id": "e7bafc38-d779-4e46-9a1c-9d588c3c1c7b",
   "metadata": {},
   "source": [
    "## Juego de memoria"
   ]
  },
  {
   "cell_type": "markdown",
   "id": "cc96541f-ff2c-4bc3-8e18-53968391c673",
   "metadata": {},
   "source": [
    "Implemente un juego de memoria donde la idea es para un nivel inicial encontrar los pares de coincidencias\n",
    "* La solución debe contemplar varios niveles de dificultad, para ello debe disponer de una colección de tableros, modelizados a través de una jerarquía\n",
    "* La clase abstracta Tablero debe incluir métodos para inicializar el tablero y para indicar las selecciones sucesivas del usuario\n",
    "* Para la entrega del ejercicio, debe implementar un tablero de 6x6 celdas que contengan números dispuestos aleatoriamente\n",
    "* Cuando el usuario escoge una celda se visualiza el número que contiene la misma, si la segunda selección resulta en coincidencia entonces ambas celdas desaparecen, sino ambas ocultan nuevamente el número que contienen\n",
    "* Durante el juego además del tablero se debe mostrar la cantidad de selecciones que realiza el usuario"
   ]
  },
  {
   "cell_type": "code",
   "execution_count": null,
   "id": "668bb3fe-daa3-478f-a277-74dd372de474",
   "metadata": {},
   "outputs": [],
   "source": []
  },
  {
   "cell_type": "markdown",
   "id": "b6de2b40-9bb8-422c-9e32-0f8a465ca84b",
   "metadata": {},
   "source": [
    "## Restaurante"
   ]
  },
  {
   "cell_type": "markdown",
   "id": "0b6cfbc6-4e13-4eaf-8726-c4a3f2a3cc70",
   "metadata": {},
   "source": [
    "Desarrollar un sistema para administrar la entrega de platos y bebidas en las diferentes mesas de un restaurante. Cada mesa se identifica con un número entero (el número de mesa) y cada plato o bebida se identifica con un código numérico entero (el código del plato o bebida). Durante su permanencia los comensales solicitan al mozo que les sirva diferentes cantidades de platos y bebidas. Luego, al finalizar el almuerzo o la cena, le solicitarán la cuenta, que consiste en un detalle de lo que han consumido y el importe total que deben pagar"
   ]
  },
  {
   "cell_type": "code",
   "execution_count": null,
   "id": "22a4f777-34a9-4b34-acc1-6649b2780d38",
   "metadata": {},
   "outputs": [],
   "source": []
  },
  {
   "cell_type": "markdown",
   "id": "1991ac1e-8a7e-47d2-b26b-95e455ba2679",
   "metadata": {},
   "source": [
    "## Biblioteca"
   ]
  },
  {
   "cell_type": "markdown",
   "id": "dc280b3e-9a80-47bc-b0bc-b574180f4ed3",
   "metadata": {},
   "source": [
    "Una biblioteca desea sistematizar sus sistema de préstamos a sus asociados. Tener en cuenta que la biblioteca maneja libros, revistas nacionales, revistas importadas y periódicos. Los préstamos se efectúan únicamente a socios que tengan su cuota actualizada y que no estén suspendidos. El lapso de préstamo es de 15 días. Ningún socio puede tener más de tres libros en su poder al mismo tiempo. Las demoras en la devolución de libros se castigan con un lapso de suspensión igual al lapso de la demora. Si un libro pedido no está disponible el socio puede quedar en una cola de reservas. Un libro reservado sólo puede prestarse al primer socio en su cola de reservas. La biblioteca espera obtener información estadística de las preferencias de sus asociados. Diseñe el conjunto de clases necesarias para modelar el sistema"
   ]
  },
  {
   "cell_type": "code",
   "execution_count": null,
   "id": "397f497f-0217-47e7-a7c3-8dabb068ae77",
   "metadata": {},
   "outputs": [],
   "source": []
  },
  {
   "cell_type": "markdown",
   "id": "861cd004-9424-4cd2-b8fb-889d37d1d7b0",
   "metadata": {},
   "source": [
    "## Mostrar lista"
   ]
  },
  {
   "cell_type": "markdown",
   "id": "be35784a-1eeb-4109-a6d3-bc1b2a8ff776",
   "metadata": {},
   "source": [
    "Escribir un programa que almacene las asignaturas de un curso (por ejemplo Matemática, Física, Química, Historia y Lengua) en una lista y la muestre por pantalla"
   ]
  },
  {
   "cell_type": "code",
   "execution_count": 2,
   "id": "37dcb9b8-05c3-484b-9dcb-da15cba1d872",
   "metadata": {},
   "outputs": [
    {
     "name": "stdout",
     "output_type": "stream",
     "text": [
      "['Matemática', 'Física', 'Química', 'Historia', 'Lengua']\n"
     ]
    }
   ],
   "source": [
    "lista = ['Matemática', 'Física', 'Química', 'Historia', 'Lengua']\n",
    "print(lista)"
   ]
  },
  {
   "cell_type": "markdown",
   "id": "d9728d4f-5505-4b33-89c1-b58474dc3f3c",
   "metadata": {},
   "source": [
    "## Notas"
   ]
  },
  {
   "cell_type": "markdown",
   "id": "8b83df06-26f9-4d42-8f85-ec35ea06fcd8",
   "metadata": {},
   "source": [
    "Escribir un programa que almacene las asignaturas de un curso (por ejemplo Matemáticas, Física, Química, Historia y Lengua) en una lista, pregunte al usuario la nota que ha sacado en cada asignatura, y después las muestre por pantalla con el mensaje En \\<asignatura> has sacado \\<nota> donde \\<asignatura> es cada una de las asignaturas de la lista y \\<nota> cada una de las correspondientes notas introducidas por el usuario"
   ]
  },
  {
   "cell_type": "code",
   "execution_count": 3,
   "id": "a00941f3-46ff-498b-8cc7-43c6d5248f56",
   "metadata": {},
   "outputs": [
    {
     "name": "stdin",
     "output_type": "stream",
     "text": [
      "Nota para Matemática :  5\n",
      "Nota para Física :  6\n",
      "Nota para Química :  7\n",
      "Nota para Historia :  8\n",
      "Nota para Lengua :  9\n"
     ]
    },
    {
     "name": "stdout",
     "output_type": "stream",
     "text": [
      "En Matemática has sacado 5\n",
      "En Física has sacado 6\n",
      "En Química has sacado 7\n",
      "En Historia has sacado 8\n",
      "En Lengua has sacado 9\n"
     ]
    }
   ],
   "source": [
    "materias = ['Matemática', 'Física', 'Química', 'Historia', 'Lengua']\n",
    "notas = []\n",
    "\n",
    "for i in range(0, len(materias)):\n",
    "    notas.append(int(input(f'Nota para {materias[i]} : ')))\n",
    "\n",
    "for i in range(0, len(materias)):\n",
    "    print(f'En {materias[i]} has sacado {notas[i]}')"
   ]
  },
  {
   "cell_type": "markdown",
   "id": "2220ae88-d24a-4a82-bca5-6603f14a933e",
   "metadata": {},
   "source": [
    "## Loteria"
   ]
  },
  {
   "cell_type": "markdown",
   "id": "212d969b-161b-49f5-a35e-ef7359c30ace",
   "metadata": {},
   "source": [
    "Escribir un programa que pregunte al usuario los números ganadores de la lotería y los almacene en una lista y los muestre por pantalla ordenados de menor a mayor"
   ]
  },
  {
   "cell_type": "code",
   "execution_count": 4,
   "id": "95c71b64-7131-4363-84a4-0aea47a707c2",
   "metadata": {},
   "outputs": [
    {
     "name": "stdin",
     "output_type": "stream",
     "text": [
      "Número ganador de la lotería:  17\n",
      "Número ganador de la lotería:  5\n",
      "Número ganador de la lotería:  9\n",
      "Número ganador de la lotería:  25\n",
      "Número ganador de la lotería:  17\n",
      "Número ganador de la lotería:  -1\n"
     ]
    },
    {
     "name": "stdout",
     "output_type": "stream",
     "text": [
      "[5, 9, 17, 17, 25]\n"
     ]
    }
   ],
   "source": [
    "numero = int(input('Número ganador de la lotería: '))\n",
    "numeros = []\n",
    "while numero != -1:\n",
    "    numeros.append(numero)\n",
    "    numero = int(input('Número ganador de la lotería: '))\n",
    "numeros.sort()\n",
    "print(numeros)"
   ]
  },
  {
   "cell_type": "markdown",
   "id": "32797beb-cf11-443e-92ff-8df38dc18cdf",
   "metadata": {},
   "source": [
    "## Inverso lista"
   ]
  },
  {
   "cell_type": "markdown",
   "id": "b46665c6-f0de-418d-bbee-0ce31436c5d1",
   "metadata": {},
   "source": [
    "Escribir un programa que almacene en una lista los números del 1 al 10 y los muestre por pantalla en orden inverso separados por comas"
   ]
  },
  {
   "cell_type": "code",
   "execution_count": 5,
   "id": "ed62d777-d190-419b-b697-1cab0157d173",
   "metadata": {},
   "outputs": [
    {
     "name": "stdout",
     "output_type": "stream",
     "text": [
      "[10, 9, 8, 7, 6, 5, 4, 3, 2, 1]\n"
     ]
    }
   ],
   "source": [
    "lista = [1, 2, 3, 4, 5, 6, 7, 8, 9, 10]\n",
    "lista.reverse()\n",
    "print(lista)"
   ]
  },
  {
   "cell_type": "markdown",
   "id": "ec831860-37e3-406b-b314-c92e5c09dd3f",
   "metadata": {},
   "source": [
    "## Materias reprobadas"
   ]
  },
  {
   "cell_type": "markdown",
   "id": "92277be2-d538-4724-98bb-e99bf172ab34",
   "metadata": {},
   "source": [
    "Escribir un programa que almacene las asignaturas de un curso (por ejemplo, Matemáticas, Física, Química, Historia y Lengua) en una lista, pregunte al usuario la nota que ha sacado en cada asignatura y elimine de la lista las asignaturas aprobadas. Al final el programa debe mostrar por pantalla las asignaturas que el usuario tiene que repetir"
   ]
  },
  {
   "cell_type": "code",
   "execution_count": 6,
   "id": "7a9f4f48-879c-40c6-a32c-2e69a928bc18",
   "metadata": {},
   "outputs": [
    {
     "name": "stdin",
     "output_type": "stream",
     "text": [
      "Nota para Matemática :  2\n",
      "Nota para Física :  2\n",
      "Nota para Química :  4\n",
      "Nota para Historia :  8\n",
      "Nota para Lengua :  7\n"
     ]
    },
    {
     "name": "stdout",
     "output_type": "stream",
     "text": [
      "['Matemática', 'Física']\n"
     ]
    }
   ],
   "source": [
    "materias = ['Matemática', 'Física', 'Química', 'Historia', 'Lengua']\n",
    "notas = []\n",
    "materias2 = []\n",
    "\n",
    "for i in range(0, len(materias)):\n",
    "    notas.append(int(input(f'Nota para {materias[i]} : ')))\n",
    "    materias2.append(materias[i])\n",
    "\n",
    "\n",
    "for i in range(0, len(notas)):\n",
    "    if notas[i] >= 4:\n",
    "        materias.remove(materias2[i])\n",
    "\n",
    "print(materias)"
   ]
  },
  {
   "cell_type": "markdown",
   "id": "743aeaa2-f7a2-489b-8641-c560f9ea9f99",
   "metadata": {},
   "source": [
    "## Palindromo"
   ]
  },
  {
   "cell_type": "markdown",
   "id": "b559c46d-da91-4cf9-8dac-9194c7204816",
   "metadata": {},
   "source": [
    "Escribir un programa que pida al usuario una palabra y muestre por pantalla si es un palíndromo"
   ]
  },
  {
   "cell_type": "code",
   "execution_count": 7,
   "id": "3f3c4aec-616c-41a8-a8fe-2e622368687e",
   "metadata": {},
   "outputs": [
    {
     "name": "stdin",
     "output_type": "stream",
     "text": [
      "Palabras:  neuquen\n"
     ]
    },
    {
     "name": "stdout",
     "output_type": "stream",
     "text": [
      "Palíndromo\n"
     ]
    }
   ],
   "source": [
    "palabra = input('Palabras: ')\n",
    "lista1 = []\n",
    "lista2 = []\n",
    "for i in range(0, len(palabra)):\n",
    "    lista1.append(palabra[i])\n",
    "    lista2.append(palabra[i])\n",
    "lista2.reverse()\n",
    "print('Palíndromo' if lista1.__eq__(lista2) else 'NO Palíndromo')"
   ]
  },
  {
   "cell_type": "markdown",
   "id": "68082f76-7ced-431a-8e45-e7a564fa45c6",
   "metadata": {},
   "source": [
    "## Veces vocal"
   ]
  },
  {
   "cell_type": "markdown",
   "id": "b2a9abd2-d297-418d-b7e6-f4281a035180",
   "metadata": {},
   "source": [
    "Escribir un programa que pida al usuario una palabra y muestre por pantalla el número de veces que contiene cada vocal"
   ]
  },
  {
   "cell_type": "code",
   "execution_count": 8,
   "id": "b25e6178-6b74-40fa-b8cf-44565a0873ad",
   "metadata": {},
   "outputs": [
    {
     "name": "stdin",
     "output_type": "stream",
     "text": [
      "Palabra:  portugues\n"
     ]
    },
    {
     "name": "stdout",
     "output_type": "stream",
     "text": [
      "Cant. de a = 0\n",
      "Cant. de e = 1\n",
      "Cant. de i = 0\n",
      "Cant. de o = 1\n",
      "Cant. de u = 2\n"
     ]
    }
   ],
   "source": [
    "palabra = input('Palabra: ')\n",
    "cant_a, cant_e, cant_i, cant_o, cant_u = 0, 0, 0, 0, 0\n",
    "for i in range(0, len(palabra)):\n",
    "    if palabra[i] == 'a':\n",
    "        cant_a += 1\n",
    "    elif palabra[i] == 'e':\n",
    "        cant_e += 1\n",
    "    elif palabra[i] == 'i':\n",
    "        cant_i += 1\n",
    "    elif palabra[i] == 'o':\n",
    "        cant_o += 1\n",
    "    elif palabra[i] == 'u':\n",
    "        cant_u += 1\n",
    "print(f'Cant. de a = {cant_a}')\n",
    "print(f'Cant. de e = {cant_e}')\n",
    "print(f'Cant. de i = {cant_i}')\n",
    "print(f'Cant. de o = {cant_o}')\n",
    "print(f'Cant. de u = {cant_u}')"
   ]
  },
  {
   "cell_type": "markdown",
   "id": "d5eb3b29-3204-4b71-94c3-691ecd32d384",
   "metadata": {},
   "source": [
    "## Menor / Mayor"
   ]
  },
  {
   "cell_type": "markdown",
   "id": "d328164b-7a42-40d5-9e2b-bdf143e01553",
   "metadata": {},
   "source": [
    "Escribir un programa que almacene en una lista los siguientes precios, 50, 75, 46, 22, 80, 65, 8, y muestre por pantalla el menor y el mayor de los precios"
   ]
  },
  {
   "cell_type": "code",
   "execution_count": 9,
   "id": "a7b3ff43-028b-442f-9763-83c5b683d460",
   "metadata": {},
   "outputs": [
    {
     "name": "stdout",
     "output_type": "stream",
     "text": [
      "8 80\n"
     ]
    }
   ],
   "source": [
    "precios = [50, 75, 46, 22, 80, 65, 8]\n",
    "print(min(precios), max(precios))"
   ]
  },
  {
   "cell_type": "markdown",
   "id": "e282455c-42e4-40f0-9189-18f6b245c967",
   "metadata": {},
   "source": [
    "## Media / Desviación"
   ]
  },
  {
   "cell_type": "markdown",
   "id": "06cc1f64-b579-4774-8896-1dfe8926c053",
   "metadata": {},
   "source": [
    "Escribir un programa que pregunte por una muestra de números, separados por comas, los guarde en una lista y muestre por pantalla su media y desviación típica"
   ]
  },
  {
   "cell_type": "code",
   "execution_count": 10,
   "id": "f75cff2f-b8b4-4665-95f8-fa647b1a00ba",
   "metadata": {},
   "outputs": [
    {
     "name": "stdin",
     "output_type": "stream",
     "text": [
      "Número:  2\n",
      "Número:  4\n",
      "Número:  3\n",
      "Número:  6\n",
      "Número:  5\n",
      "Número:  -1\n"
     ]
    },
    {
     "name": "stdout",
     "output_type": "stream",
     "text": [
      "Media: 4.0\n",
      "Desviación típica: 2.5\n"
     ]
    }
   ],
   "source": [
    "lista = []\n",
    "numero = int(input('Número: '))\n",
    "acum, cont, cuadrados = 0, 0, 0\n",
    "while numero != -1:\n",
    "    lista.append(numero)\n",
    "    acum += numero\n",
    "    cont += 1\n",
    "    cuadrados += pow(numero, 2)\n",
    "    numero = int(input('Número: '))\n",
    "print(f'Media: {acum/cont}')\n",
    "print(f'Desviación típica: {(cuadrados - pow(acum, 2)/cont)/(cont-1)}')"
   ]
  }
 ],
 "metadata": {
  "kernelspec": {
   "display_name": "Python [conda env:base] *",
   "language": "python",
   "name": "conda-base-py"
  },
  "language_info": {
   "codemirror_mode": {
    "name": "ipython",
    "version": 3
   },
   "file_extension": ".py",
   "mimetype": "text/x-python",
   "name": "python",
   "nbconvert_exporter": "python",
   "pygments_lexer": "ipython3",
   "version": "3.12.7"
  }
 },
 "nbformat": 4,
 "nbformat_minor": 5
}
