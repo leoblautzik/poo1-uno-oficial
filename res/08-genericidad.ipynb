{
 "cells": [
  {
   "cell_type": "markdown",
   "id": "8b2d95cb-2b45-4f54-88f2-2d411f032208",
   "metadata": {},
   "source": [
    "# TP - Genericidad\n",
    "---"
   ]
  },
  {
   "cell_type": "markdown",
   "id": "72f08bd0-ac1d-401c-b23c-0df8e5df5c9c",
   "metadata": {},
   "source": [
    "## Pila genérica"
   ]
  },
  {
   "cell_type": "markdown",
   "id": "7793c026-04c3-4a9b-b4ed-589865b237aa",
   "metadata": {},
   "source": [
    "Escribir una clase Pila genérica\n",
    "\n",
    "|||\n",
    "| -- | -- |\n",
    "| isVacia()   | devuelve true si la pila está vacía y false en caso contrario |\n",
    "| desapilar() | elimina el primer elemento de la colección |\n",
    "| ver()       | devuelve el primer elemento de la colección |\n",
    "| apilar()    | agrega un objeto por el extremo que corresponda |\n",
    "| toString()  | devuelve en forma de String la información de la colección |"
   ]
  },
  {
   "cell_type": "code",
   "execution_count": null,
   "id": "d808f6ef-ec73-45db-87c9-ce2943970aeb",
   "metadata": {},
   "outputs": [],
   "source": []
  },
  {
   "cell_type": "markdown",
   "id": "2c8306fb-8677-4216-840e-6ae68cd19fec",
   "metadata": {},
   "source": [
    "## Matriz genérica"
   ]
  },
  {
   "cell_type": "markdown",
   "id": "6489ab53-ad3d-4264-a211-75f3b42e8633",
   "metadata": {},
   "source": [
    "Escribir una clase Matriz genérica\n",
    "\n",
    "|||\n",
    "| -- | -- |\n",
    "| constructor | recibe por parámetro el número de filas y columnas de la matriz |\n",
    "| set()       | recibe por parámetro la fila, la columna y el elemento a insertar. El elemento es de tipo genérico. Este método inserta el elemento en la posición indicada |\n",
    "| get()       | recibe por parámetro la fila y la columna. Devuelve el elemento en esa posición. El elemento devuelto es genérico |\n",
    "| columnas()  | devuelve el número de columnas de la matriz |\n",
    "| filas()     | devuelve el número de filas de las matriz |\n",
    "| toString()  | devuelve en forma de String la información de la matriz |"
   ]
  },
  {
   "cell_type": "code",
   "execution_count": null,
   "id": "b1112d8a-8675-45c8-8f03-df2eda70ece2",
   "metadata": {},
   "outputs": [],
   "source": []
  },
  {
   "cell_type": "markdown",
   "id": "0650a6a7-8096-49cc-ba5b-c6d69316157e",
   "metadata": {},
   "source": [
    "## Lista genérica"
   ]
  },
  {
   "cell_type": "markdown",
   "id": "bc7f7a7c-5901-4558-a97d-5abd9fc4dbe0",
   "metadata": {},
   "source": [
    "Escribir una clase Lista genérica\n",
    "\n",
    "| |\n",
    "| -- |\n",
    "| constructor |\n",
    "| void add(E o) |\n",
    "| E get(int index) |\n",
    "| int size() |\n",
    "| boolean isEmpty() |\n",
    "| boolean remove(E o) |\n",
    "| int indexOf(E o) |\n",
    "| String toString() |"
   ]
  },
  {
   "cell_type": "code",
   "execution_count": null,
   "id": "f326a3ac-473a-4b36-a108-5c9632fa3b9e",
   "metadata": {},
   "outputs": [],
   "source": []
  },
  {
   "cell_type": "markdown",
   "id": "b98a54aa-29f1-4b59-b8b7-a68ba592d2b8",
   "metadata": {},
   "source": [
    "## Interface genérica Operable"
   ]
  },
  {
   "cell_type": "markdown",
   "id": "7d4a2bd4-60ca-488e-acdf-a74fd3f300c1",
   "metadata": {},
   "source": [
    "Escribir una interface genérica Operable, que sea genérica y que declare las cuatro operaciones básicas: suma, resta, producto y división"
   ]
  },
  {
   "cell_type": "code",
   "execution_count": null,
   "id": "92ddad99-e83e-4b62-bb73-9f2247786340",
   "metadata": {},
   "outputs": [],
   "source": []
  }
 ],
 "metadata": {
  "kernelspec": {
   "display_name": "Python [conda env:base] *",
   "language": "python",
   "name": "conda-base-py"
  },
  "language_info": {
   "codemirror_mode": {
    "name": "ipython",
    "version": 3
   },
   "file_extension": ".py",
   "mimetype": "text/x-python",
   "name": "python",
   "nbconvert_exporter": "python",
   "pygments_lexer": "ipython3",
   "version": "3.12.7"
  }
 },
 "nbformat": 4,
 "nbformat_minor": 5
}
