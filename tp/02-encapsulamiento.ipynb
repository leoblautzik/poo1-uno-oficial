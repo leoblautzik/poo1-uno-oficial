{
 "cells": [
  {
   "cell_type": "markdown",
   "id": "ff12425e-2bd6-46de-b869-194b1cb00ef2",
   "metadata": {},
   "source": [
    "# TP - Encapsulamiento\n",
    "---"
   ]
  },
  {
   "cell_type": "markdown",
   "id": "c04d6d81-4eed-4b82-9331-bc25609304d2",
   "metadata": {},
   "source": [
    "## Estudiante"
   ]
  },
  {
   "cell_type": "markdown",
   "id": "c7c54344-cbd3-43e7-a735-5520217ecec2",
   "metadata": {},
   "source": [
    "Realizar un programa que conste de una clase llamada Estudiante, que tenga  como atributos el nombre y la nota del alumno. Definir los métodos para inicializar sus atributos, imprimirlos y mostrar un mensaje con el resultado de la nota y si ha aprobado o no"
   ]
  },
  {
   "cell_type": "code",
   "execution_count": 3,
   "id": "1eb3f133-d4fb-4856-935b-cbd696d0d48c",
   "metadata": {},
   "outputs": [],
   "source": [
    "class Estudiante:\n",
    "\n",
    "    def __init__(self, nombre, nota):\n",
    "        self.nombre = nombre\n",
    "        self.nota = nota\n",
    "    \n",
    "    def imprimir(self):\n",
    "        print(f'Nombre: {self.nombre}')\n",
    "        print(f'Nota: {self.nota}')\n",
    "    \n",
    "    def resultado(self):\n",
    "        print('aprobado' if self.nota >= 4 else 'desaprobado')"
   ]
  },
  {
   "cell_type": "code",
   "execution_count": 4,
   "id": "e5204c15-b2cc-4c1f-9c23-f11672c23c69",
   "metadata": {},
   "outputs": [
    {
     "name": "stdout",
     "output_type": "stream",
     "text": [
      "Nombre: Pablo\n",
      "Nota: 8\n",
      "aprobado\n",
      "Nombre: Ana\n",
      "Nota: 2\n",
      "desaprobado\n"
     ]
    }
   ],
   "source": [
    "estudiante_1 = Estudiante('Pablo', 8)\n",
    "estudiante_2 = Estudiante('Ana', 2)\n",
    "\n",
    "estudiante_1.imprimir()\n",
    "estudiante_1.resultado()\n",
    "\n",
    "estudiante_2.imprimir()\n",
    "estudiante_2.resultado()"
   ]
  },
  {
   "cell_type": "markdown",
   "id": "9fa87b75-be68-4e96-91f5-64c42e31a8ac",
   "metadata": {},
   "source": [
    "## Persona"
   ]
  },
  {
   "cell_type": "markdown",
   "id": "42f484bf-7abc-4194-8348-e8373ac2a64a",
   "metadata": {},
   "source": [
    "Crea una clase Persona. Con atributos nombre y edad. Además, crear un método cumpleaños, que aumente en 1 la edad de la persona cuando se invoque sobre un objeto creado con Persona"
   ]
  },
  {
   "cell_type": "code",
   "execution_count": 5,
   "id": "1202a53a-7e63-409c-9898-841550a04f4f",
   "metadata": {},
   "outputs": [],
   "source": [
    "class Persona:\n",
    "\n",
    "    def __init__(self, nombre, edad):\n",
    "        self.nombre = nombre\n",
    "        self.edad = edad\n",
    "    \n",
    "    def cumpleaños(self):\n",
    "        self.edad += 1\n",
    "    \n",
    "    def __str__(self):\n",
    "        return f'{self.nombre} -> {self.edad}'"
   ]
  },
  {
   "cell_type": "code",
   "execution_count": 6,
   "id": "35337f0a-e0b9-49ae-b33b-4286b607b47e",
   "metadata": {},
   "outputs": [
    {
     "name": "stdout",
     "output_type": "stream",
     "text": [
      "Pablo -> 49\n",
      "Pablo -> 50\n"
     ]
    }
   ],
   "source": [
    "persona_1 = Persona('Pablo', 49)\n",
    "print(persona_1)\n",
    "persona_1.cumpleaños()\n",
    "print(persona_1)"
   ]
  },
  {
   "cell_type": "markdown",
   "id": "2d71c053-ca85-40af-a889-f51dc6e65ae5",
   "metadata": {},
   "source": [
    "## Calculadora"
   ]
  },
  {
   "cell_type": "markdown",
   "id": "6f99b34b-cacb-41f8-84cc-ebddab20228e",
   "metadata": {},
   "source": [
    "Realizar un programa en el cual se declaren dos valores enteros por teclado utilizando el método __init__. Calcular después la suma, resta, multiplicación y división. Utilizar un método para cada una e imprimir los \n",
    "resultados obtenidos. Llamar a la clase Calculadora"
   ]
  },
  {
   "cell_type": "code",
   "execution_count": 7,
   "id": "528f78c2-5542-4da2-979a-586298f3fa5c",
   "metadata": {},
   "outputs": [],
   "source": [
    "class Calculadora:\n",
    "\n",
    "    def __init__(self):\n",
    "        self.n1 = int(input('Número 1: '))\n",
    "        self.n2 = int(input('Número 2: '))\n",
    "    \n",
    "    def sumar(self):\n",
    "        return self.n1 + self.n2\n",
    "    \n",
    "    def restar(self):\n",
    "        return self.n1 - self.n2\n",
    "    \n",
    "    def multiplicar(self):\n",
    "        return self.n1 * self.n2\n",
    "    \n",
    "    def dividir(self):\n",
    "        if self.n2 != 0:\n",
    "            return self.n1 / self.n2\n",
    "        return 0"
   ]
  },
  {
   "cell_type": "code",
   "execution_count": 8,
   "id": "03243bf8-5a73-4521-aadb-fd7c255e6ea8",
   "metadata": {},
   "outputs": [
    {
     "name": "stdin",
     "output_type": "stream",
     "text": [
      "Número 1:  2\n",
      "Número 2:  3\n"
     ]
    },
    {
     "name": "stdout",
     "output_type": "stream",
     "text": [
      "5\n",
      "-1\n",
      "6\n",
      "0.6666666666666666\n"
     ]
    }
   ],
   "source": [
    "calc = Calculadora()\n",
    "print(calc.sumar())\n",
    "print(calc.restar()) \n",
    "print(calc.multiplicar())\n",
    "print(calc.dividir())"
   ]
  },
  {
   "cell_type": "markdown",
   "id": "030459db-8290-4424-8603-c61cd30e851f",
   "metadata": {},
   "source": [
    "## Nota"
   ]
  },
  {
   "cell_type": "markdown",
   "id": "349b9cde-d91c-4da4-aeb8-dd18e3280769",
   "metadata": {},
   "source": [
    "Crear la clase Nota:\n",
    "* constructor que reciba como parámetro valorInicial comprendido entre 0 y 10\n",
    "* obtenerValor(): devuelve el valor numérico de la Nota, comprendido entre 0 y 10\n",
    "* aprobado(): devuelve valor booleano que indica si la Nota permite o no la aprobación\n",
    "* desaprobado(): devuelve valor booleano que indica si la Nota implica desaprobación\n",
    "* recuperar(nuevoValor): recibe como parámetro nuevoValor comprendido entre 0 y 10 y modifica el valor numérico de la Nota, cambiándolo por nuevoValor, siempre y cuando nuevoValor sea superior al valor numérico actual"
   ]
  },
  {
   "cell_type": "code",
   "execution_count": null,
   "id": "922a14e1-75b2-4abf-89f6-849f8a000728",
   "metadata": {},
   "outputs": [],
   "source": []
  },
  {
   "cell_type": "markdown",
   "id": "a3c5a04a-79a6-4292-aeb1-1df0e0252a91",
   "metadata": {},
   "source": [
    "## Punto"
   ]
  },
  {
   "cell_type": "markdown",
   "id": "00df3833-97c9-4181-90bc-13ab33da211d",
   "metadata": {},
   "source": [
    "Crear la clase Punto que tendrá dos atributos numéricos, x e y, que representarán las coordenadas del punto dentro del plano. Implemente los siguientes métodos:\n",
    "* estaSobreElEjeX(): devuelve valor booleano\n",
    "* estaSobreElEjeY(): devuelve valor boolean\n",
    "* esElOrigenDeCoordenadas(): devuelve valor booleano\n",
    "* distanciaAlOrigen(): devuelve valor numérico\n",
    "* distancia(Punto p1, Punto p2): devuelve valor numérico\n",
    "* distancia(Punto p): devuelve valor numérico"
   ]
  },
  {
   "cell_type": "code",
   "execution_count": null,
   "id": "432adb74-4a0e-4625-8246-64d0596c3184",
   "metadata": {},
   "outputs": [],
   "source": []
  },
  {
   "cell_type": "markdown",
   "id": "e861132f-a9d7-42a6-81b0-d73ef704ced5",
   "metadata": {},
   "source": [
    "## Círculo"
   ]
  },
  {
   "cell_type": "markdown",
   "id": "8cd50cfb-8189-4cb8-8dd8-ad1531a60744",
   "metadata": {},
   "source": [
    "Implementar una clase que modele un círculo, del que se desea manipular (obtener y cambiar):\n",
    "* radio\n",
    "* diámetro\n",
    "* perímetro\n",
    "* área"
   ]
  },
  {
   "cell_type": "code",
   "execution_count": null,
   "id": "23bc1bf0-4e78-45af-bed3-177bd9b31327",
   "metadata": {},
   "outputs": [],
   "source": []
  },
  {
   "cell_type": "markdown",
   "id": "fdec8150-6313-4357-8ec1-4fda9c3acb55",
   "metadata": {},
   "source": [
    "## Corona circular"
   ]
  },
  {
   "cell_type": "markdown",
   "id": "6c3fbe2c-f2d8-4142-98ca-f8d5d4bb8595",
   "metadata": {},
   "source": [
    "Implementar una clase que modele una corona circular utilizando la clase Circulo desarrollada previamente. Se desea manipular (obtener y cambiar):\n",
    "* radio interior\n",
    "* radio exterior\n",
    "* perímetro interior\n",
    "* perímetro exterior\n",
    "* área"
   ]
  },
  {
   "cell_type": "code",
   "execution_count": null,
   "id": "64155384-b3c9-4b8c-a0b5-875107024ecb",
   "metadata": {},
   "outputs": [],
   "source": []
  }
 ],
 "metadata": {
  "kernelspec": {
   "display_name": "Python [conda env:base] *",
   "language": "python",
   "name": "conda-base-py"
  },
  "language_info": {
   "codemirror_mode": {
    "name": "ipython",
    "version": 3
   },
   "file_extension": ".py",
   "mimetype": "text/x-python",
   "name": "python",
   "nbconvert_exporter": "python",
   "pygments_lexer": "ipython3",
   "version": "3.12.7"
  }
 },
 "nbformat": 4,
 "nbformat_minor": 5
}
