{
 "cells": [
  {
   "cell_type": "markdown",
   "id": "019fbf51-cfd6-4fa5-beb3-e2215ea93d05",
   "metadata": {},
   "source": [
    "# TP - Archivos\n",
    "---"
   ]
  },
  {
   "cell_type": "markdown",
   "id": "0f8c42e8-7d36-4ec4-b27f-db6709688718",
   "metadata": {},
   "source": [
    "## Lectura de archivo"
   ]
  },
  {
   "cell_type": "markdown",
   "id": "d563bb6c-2212-4751-bed6-e9cfa700b993",
   "metadata": {},
   "source": [
    "Crear un archivo de texto con el nombre y contenido que quiera. Crear una aplicación que lea el archivo de texto y muestre su contenido por pantalla sin espacios. Por ejemplo, si el archivo tiene el siguiente texto \"Esto es una prueba\", deberá mostrar \"Estoesunaprueba\". Capturar las excepciones que sean necesarias"
   ]
  },
  {
   "cell_type": "code",
   "execution_count": null,
   "id": "0578cded-7c95-47e5-877d-c9e80e8d4ec2",
   "metadata": {},
   "outputs": [],
   "source": []
  },
  {
   "cell_type": "markdown",
   "id": "1ead82b5-934a-4de0-bdce-79fe32a94ea2",
   "metadata": {},
   "source": [
    "## Escritura y lectura de archivo"
   ]
  },
  {
   "cell_type": "markdown",
   "id": "9e5f33dc-18af-40c2-b388-823e116d2fab",
   "metadata": {},
   "source": [
    "Crear una aplicación donde se solicite la ruta de un archivo por teclado y un texto que se desea escribir en el archivo. Se deberá mostrar por pantalla el mismo texto pero variando entre mayúsculas y minúsculas, es decir, si se escribe \"Bienvenido\" deberá devolver \"bIENVENIDO\". Si se escribe cualquier otro carácter, se quedará tal y como se escribió. Se deberá crear un método para escribir en el archivo el texto introducido y otro para mostrar el contenido en mayúsculas"
   ]
  },
  {
   "cell_type": "code",
   "execution_count": null,
   "id": "318baa73-ad50-464f-abdd-a7582a67b042",
   "metadata": {},
   "outputs": [],
   "source": []
  },
  {
   "cell_type": "markdown",
   "id": "128e1def-61f5-4820-b506-ce0a07c5e729",
   "metadata": {},
   "source": [
    "## Juntar archivos"
   ]
  },
  {
   "cell_type": "markdown",
   "id": "f8eb6e87-45d4-44bb-8aa3-0cdc8f5779b6",
   "metadata": {},
   "source": [
    "Crear una aplicación que solicite la ruta de dos archivos de texto y de una ruta de destino (solo la ruta, sin archivo al final). Se deberá copiar el contenido de los dos archivos en uno, este tendrá el nombre de los dos archivos separados por un guión bajo, y se guardará en la ruta donde se le haya indicado por teclado. Para unir los archivos en uno, crear un método donde se le pase como parámetro todas las rutas. En este método, además de copiar debe comprobar que sí existe el archivo de destino, muestre un mensaje informando de si se quiere sobrescribir el archivo. Por ejemplo, si se tiene un archivo A.txt con \"ABC\" como contenido, un archivo B.txt con \"DEF\" y una ruta de destino D:\\, el resultado será un archivo llamado A_B.txt en la ruta D:\\ con el contenido \"ABCDEF\""
   ]
  },
  {
   "cell_type": "code",
   "execution_count": null,
   "id": "57623638-4985-4c76-8013-1b98fce79a9e",
   "metadata": {},
   "outputs": [],
   "source": []
  },
  {
   "cell_type": "markdown",
   "id": "70d15bdf-c2a3-4c2e-ba0a-eb3645110c88",
   "metadata": {},
   "source": [
    "## Empresa de auxilio mecánico"
   ]
  },
  {
   "cell_type": "markdown",
   "id": "0cc67538-a05e-4b86-be4a-2b7f689f0b60",
   "metadata": {},
   "source": [
    "Una empresa que brinda auxilio mecánico cubre 20 zonas, numeradas de 0 a 19. Cuando un abonado necesita ayuda se comunica telefónicamente, generándose así un nuevo caso por resolver. Para abrir un caso, el abonado debe informarle al operador los siguientes datos:\n",
    "* Número de abonado (8 dígitos)\n",
    "* Número de zona (0 a 19)\n",
    "* Dirección exacta en donde debe ser auxiliado (hasta 256 caracteres)\n",
    "* Diremos que un caso está \"abierto\" mientras no se le haya asignado un móvil de auxilio. Una vez establecida la asignación de un móvil a un caso, diremos que el caso está \"asignado\". Por último, el caso estará \"cerrado\" cuando el móvil que le fuera asignado reporte por radio al operador los siguientes datos:\n",
    "    * Número de caso (8 dígitos)\n",
    "    * Tipo de problema (3 dígitos)\n",
    "* En cada zona operan varios móviles, todos exclusivos de la zona. La información de estos móviles se encuentran en el archivo MOVILES.dat, donde cada registro tiene:\n",
    "    * Número de móvil (3 dígitos)\n",
    "    * Número de zona (0 a 19)\n",
    "* La asignación de casos debe ser uniforme. Es decir, a medida que los móviles de una zona se vayan liberando deberán formar una cola de espera para recibir un nuevo caso. Análogamente, los serán atendidos según la zona en que se encuentren y según el orden en el que fueron llamando para solicitar auxilio\n",
    "* Se dispone de la función horalActual que retorna la hora del sistema expresada como un valor numérico entero con el siguiente formato: hhmm. Se pide desarrollar un programa que automatice la asignación de móviles a los diferentes casos. Al finalizar, se pide generar un archivo CASOS.dat con los siguientes datos: Número de caso, Número de abonado, Número de zona, Número de móvil, Tipo de problema, Hora de apertura, Hora de cierre"
   ]
  },
  {
   "cell_type": "code",
   "execution_count": null,
   "id": "ff865060-4f29-431a-a377-6c5635c2be2f",
   "metadata": {},
   "outputs": [],
   "source": []
  },
  {
   "cell_type": "markdown",
   "id": "05be8cdc-f77a-4f46-861f-0980289f7856",
   "metadata": {},
   "source": [
    "## Compañia de seguros"
   ]
  },
  {
   "cell_type": "markdown",
   "id": "dc78f84d-1425-456f-8e6d-4c216d38590e",
   "metadata": {},
   "source": [
    "Se debe procesar un archivo que contiene información sobre los siniestros denunciados por los clientes de una compañía de seguros. En el archivo existe un registro por cada denuncia, con los siguientes campos:\n",
    "* Número de matrícula (6 caracteres)\n",
    "* Fecha (10 caracteres, con formato \"dd/mm/aaaa\")\n",
    "* Detalles (256 caracteres)\n",
    "* No se conoce cuántas matrículas diferentes existen ni tampoco la cantidad máxima de siniestros denunciados que puede haber por cada una de ellas. Los registros en el archivo están ordenados ascendentemente por fecha\n",
    "* Se pide emitir un listado ordenado por número de matrícula informando, por cada una, la fecha y el detalle de cada uno de los siniestros denunciados"
   ]
  },
  {
   "cell_type": "code",
   "execution_count": null,
   "id": "f7fb1758-e345-4fdb-85dc-9b570ad0a539",
   "metadata": {},
   "outputs": [],
   "source": []
  },
  {
   "cell_type": "markdown",
   "id": "7c98ada7-e51d-43e6-9631-f5e9b1006dba",
   "metadata": {},
   "source": [
    "## Rendimiento de empleados"
   ]
  },
  {
   "cell_type": "markdown",
   "id": "97add9c2-d27c-4631-ae33-8b43ed79a802",
   "metadata": {},
   "source": [
    "Para analizar el rendimiento de sus empleados, una empresa decide llevar el registro de las actividades que cada uno desarrolla durante su tiempo de trabajo. En la empresa trabajan hasta 50 empleados (numerados de 0 a 49) y existen hasta 200 proyectos (numerados de 0 a 199). Al finalizar la jornada laboral, cada empleado completa uno o varios registros en el archivo HORAS.dat cuya estructura es la siguiente:\n",
    "* Número de empleado\n",
    "* Número de proyecto\n",
    "* Cantidad de horas\n",
    "* Descripción de la tarea realizada\n",
    "* Fecha de la tarea\n",
    "* El archivo se encuentra ordenado naturalmente, es decir, por fecha ascendente. Se pide generar un listado que informe por cada empleado el detalle de las tareas realizadas en cada uno de los proyectos en los que participó. El listado debe estar ordenado por número de empleado, luego por número de proyecto y, finalmente, por fecha descendente, es decir, primero las tareas más recientes"
   ]
  },
  {
   "cell_type": "code",
   "execution_count": null,
   "id": "306a3be7-3f10-434f-99ce-e425132460bd",
   "metadata": {},
   "outputs": [],
   "source": []
  }
 ],
 "metadata": {
  "kernelspec": {
   "display_name": "Python [conda env:base] *",
   "language": "python",
   "name": "conda-base-py"
  },
  "language_info": {
   "codemirror_mode": {
    "name": "ipython",
    "version": 3
   },
   "file_extension": ".py",
   "mimetype": "text/x-python",
   "name": "python",
   "nbconvert_exporter": "python",
   "pygments_lexer": "ipython3",
   "version": "3.12.7"
  }
 },
 "nbformat": 4,
 "nbformat_minor": 5
}
