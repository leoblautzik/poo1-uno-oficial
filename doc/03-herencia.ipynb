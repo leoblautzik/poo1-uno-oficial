{
 "cells": [
  {
   "cell_type": "markdown",
   "id": "bb9cafd2-2937-495e-b7f0-c5b7829c18d2",
   "metadata": {},
   "source": [
    "# Herencia\n",
    "---"
   ]
  },
  {
   "cell_type": "markdown",
   "id": "e9e8eea3-e97b-411b-bec6-16ee4975c84f",
   "metadata": {},
   "source": [
    "* Usamos las clases para representar parte del conocimiento que adquirimos del dominio de problema\n",
    "* ¿Qué sucede cuando las clases comparten parte del conocimiento que representan? ==> Subclasificación\n",
    "* Crear clases nuevas que se construyan tomando como base clases ya existentes\n",
    "* Cuando se hereda, se reutilizan métodos y atributos\n",
    "* Permite extender la funcionalidad de un objeto"
   ]
  },
  {
   "cell_type": "markdown",
   "id": "f81382e7-f31b-4611-99ed-7e52f0b59767",
   "metadata": {},
   "source": [
    "## Tipos\n",
    "---"
   ]
  },
  {
   "cell_type": "markdown",
   "id": "c75401b2-9fdc-4e50-bc66-568eef8e759e",
   "metadata": {},
   "source": [
    "| Tipos | | Ejemplo | LOO |\n",
    "| -- | -- | -- | -- |\n",
    "| **Simple**   | una clase puede heredar de una única clase | Circulo es una Figura              | **Java**, C# |\n",
    "| **Múltiple** | una clase puede heredar de varias clases   | Alumno es una Persona y es un Hijo | **Python**, Eiffel, C++ |"
   ]
  },
  {
   "cell_type": "markdown",
   "id": "d395a8de-de9e-45e4-ba41-087733d55b54",
   "metadata": {},
   "source": [
    "## ¿Cómo funciona?\n",
    "---"
   ]
  },
  {
   "cell_type": "markdown",
   "id": "05085ce2-3b53-45b9-bbad-1b0777c9c44c",
   "metadata": {},
   "source": [
    "![Como funciona](img/herencia1.png)"
   ]
  },
  {
   "cell_type": "markdown",
   "id": "8bbd51d7-69bd-4188-b9c1-2a3f80eb4b2f",
   "metadata": {},
   "source": [
    "## Subclasificación\n",
    "---"
   ]
  },
  {
   "cell_type": "markdown",
   "id": "fba404e2-f401-4944-84e9-5f26c30700f7",
   "metadata": {},
   "source": [
    "![Subclasificación](img/herencia2.png)"
   ]
  },
  {
   "cell_type": "markdown",
   "id": "648fde2a-fcc3-4a91-9412-33d3b7f59443",
   "metadata": {},
   "source": [
    "## Ejemplo\n",
    "---"
   ]
  },
  {
   "cell_type": "markdown",
   "id": "68ab1054-3faf-47d8-9d63-4161b1b6f97c",
   "metadata": {},
   "source": [
    "![Cuenta Bancaria](img/herencia3.png)"
   ]
  },
  {
   "cell_type": "markdown",
   "id": "c01680de-432a-454f-8a59-2c9ec44307ab",
   "metadata": {},
   "source": [
    "## Uso correcto\n",
    "---"
   ]
  },
  {
   "cell_type": "markdown",
   "id": "4f24440b-e23b-4613-8798-d9d52190cf9d",
   "metadata": {},
   "source": [
    "![Herencia uso correcto](img/herencia-uso-correcto.JPG)"
   ]
  }
 ],
 "metadata": {
  "kernelspec": {
   "display_name": "Python [conda env:base] *",
   "language": "python",
   "name": "conda-base-py"
  },
  "language_info": {
   "codemirror_mode": {
    "name": "ipython",
    "version": 3
   },
   "file_extension": ".py",
   "mimetype": "text/x-python",
   "name": "python",
   "nbconvert_exporter": "python",
   "pygments_lexer": "ipython3",
   "version": "3.12.7"
  }
 },
 "nbformat": 4,
 "nbformat_minor": 5
}
