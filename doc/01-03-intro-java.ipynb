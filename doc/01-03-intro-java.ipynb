{
 "cells": [
  {
   "cell_type": "markdown",
   "id": "bca09691-bdd8-4afa-9179-4fe8214ef926",
   "metadata": {},
   "source": [
    "# Java\n",
    "---"
   ]
  },
  {
   "cell_type": "markdown",
   "id": "39e081d6-b04b-4d12-92d0-92b83d1ab468",
   "metadata": {},
   "source": [
    "* Es un lenguaje de programación\n",
    "* Es compilador e interpretado\n",
    "* Multipropósito: app web, video juegos, ingenieria de software, ...\n",
    "* Multiplataforma: win, mac, linux, ...\n",
    "* Multiparadigma: procedimental, oo, funcional\n",
    "* Software libre (gratuito)\n",
    "* Gran comunidad (dan soporte y ayudan a mejorar continuamente el lenguaje)"
   ]
  },
  {
   "cell_type": "markdown",
   "id": "37f0973e-9d59-41db-bebe-828839c1b5b4",
   "metadata": {},
   "source": [
    "![Plataforma de Java](img/java-plataforma.png)"
   ]
  },
  {
   "cell_type": "markdown",
   "id": "23e4b384-ca94-4a31-8a1f-a4c0a934c28f",
   "metadata": {},
   "source": [
    "## Instalación\n",
    "---"
   ]
  },
  {
   "cell_type": "markdown",
   "id": "10f61f17-fe45-4fdb-a5c6-27d82d77af50",
   "metadata": {},
   "source": [
    "* Comprobar instalación"
   ]
  },
  {
   "cell_type": "code",
   "execution_count": 3,
   "id": "cf6866ea-b124-4f74-aa12-08ced374bb24",
   "metadata": {},
   "outputs": [
    {
     "name": "stdout",
     "output_type": "stream",
     "text": [
      "openjdk 11.0.11 2021-04-20\n",
      "OpenJDK Runtime Environment AdoptOpenJDK-11.0.11+9 (build 11.0.11+9)\n",
      "OpenJDK 64-Bit Server VM AdoptOpenJDK-11.0.11+9 (build 11.0.11+9, mixed mode)\n"
     ]
    }
   ],
   "source": [
    "!java --version"
   ]
  },
  {
   "cell_type": "markdown",
   "id": "0836b0d6-07e2-440b-97f5-c0f2c61540c9",
   "metadata": {},
   "source": [
    "* [Sitio web para descarga gratuita: https://learn.microsoft.com/es-es/java/openjdk/download](https://learn.microsoft.com/es-es/java/openjdk/download)"
   ]
  },
  {
   "cell_type": "markdown",
   "id": "54e74f6c-faf5-4f1e-8799-c2ea2be20d83",
   "metadata": {},
   "source": [
    "## IDE\n",
    "---"
   ]
  },
  {
   "cell_type": "markdown",
   "id": "5924e8aa-5b37-471c-b570-97c3c259e8fe",
   "metadata": {},
   "source": [
    "* Es una aplicación que provee un entorno de desarrollo de software con diversas herramientas integradas:\n",
    "    * editor de código con resaltador de sintaxis\n",
    "    * compilador\n",
    "    * depurador\n",
    "    * terminal\n",
    "    * control de versiones\n",
    "    * etc"
   ]
  },
  {
   "cell_type": "markdown",
   "id": "44221f3f-34d2-48f2-b8db-c06ac3f7d7b7",
   "metadata": {},
   "source": [
    "* Herramientas:\n",
    "    * Eclipse\n",
    "    * IntelliJ IDEA\n",
    "    * [Visual Studio Code](https://code.visualstudio.com/)"
   ]
  },
  {
   "cell_type": "markdown",
   "id": "600ddc08-f0d6-40ac-a114-23845e37f19c",
   "metadata": {},
   "source": [
    "## Comandos\n",
    "---\n",
    "\n",
    "* Un programa de Java es un archivo de texto que contiene secuencia de sentencias o comandos\n",
    "* Cada comando se termina con un **;**\n",
    "* Los comandos son ejecutados uno luego del otro"
   ]
  },
  {
   "cell_type": "markdown",
   "id": "40f11710-937a-416f-b4db-ac6416b8008f",
   "metadata": {},
   "source": [
    "## Hola mundo"
   ]
  },
  {
   "cell_type": "raw",
   "id": "8754870b-924d-444e-beae-eb8d8742f8aa",
   "metadata": {},
   "source": [
    "public class HolaMundo { \n",
    "    public static void main(String[] args) { \n",
    "        System.out.println(\"Hola Mundo\"); \n",
    "    }\n",
    "}"
   ]
  },
  {
   "cell_type": "markdown",
   "id": "08b67df7-3787-4c0e-9956-a6b5bef0a332",
   "metadata": {},
   "source": [
    "## Ejecución por línea de comandos"
   ]
  },
  {
   "cell_type": "raw",
   "id": "a4a30383-64f4-4c67-8300-1ddd88b7c99b",
   "metadata": {},
   "source": [
    "javac HolaMundo.java\n",
    "java HolaMundo"
   ]
  },
  {
   "cell_type": "markdown",
   "id": "4c1b12c3-03d3-4abb-b76f-a9298f2edfbd",
   "metadata": {},
   "source": [
    "## Comentarios\n",
    "---\n",
    "\n",
    "* Documentación dentro del código\n",
    "* No se interpreta, no se ejecuta"
   ]
  },
  {
   "cell_type": "raw",
   "id": "8d0ce0c4-e102-44f4-bcf1-59467ea2c8ec",
   "metadata": {},
   "source": [
    "// Esto es un comentario unilínea\n",
    "\n",
    "/* Esto es un comentario\n",
    "    multilíneas\n",
    "*/\n",
    "\n",
    "/** \n",
    " *  Esto es un comentario para documentar con javadoc\n",
    " *  mediante metadata\n",
    " *  @param cont contador, \n",
    " *  @return el promedio, \n",
    " *  @throws NumberFormatException, \n",
    " *  @author Pablo Pandolfo, \n",
    " *  @version 1.0\n",
    " */"
   ]
  },
  {
   "cell_type": "markdown",
   "id": "d0874e11-5d3f-4467-bc97-ab12e1c2b2d8",
   "metadata": {},
   "source": [
    "## Bloques\n",
    "---"
   ]
  },
  {
   "cell_type": "markdown",
   "id": "b4ea7999-27fb-424d-adfe-6e126694bc05",
   "metadata": {},
   "source": [
    "* Mediante llaves"
   ]
  },
  {
   "cell_type": "raw",
   "id": "ba726afe-c4db-407f-afc4-56b6e1d3e375",
   "metadata": {},
   "source": [
    "a = 2;\n",
    "if (a > 1) {\n",
    "    print('a es mayor que 1')\n",
    "}"
   ]
  },
  {
   "cell_type": "markdown",
   "id": "9f1165ce-2a2d-4b7d-8d4e-9bc729a87674",
   "metadata": {},
   "source": [
    "## Variables\n",
    "---\n",
    "\n",
    "* Almacenan valores y se crean cuando se les asigna un valor\n",
    "* Requiere declarar las variables con su tipo de datos\n",
    "* Nombre: (L)(L|D|\\_)* son case sensitive (Java diferencia entre min y MAY)"
   ]
  },
  {
   "cell_type": "raw",
   "id": "fe018359-6f99-4ad4-bce7-5eff7d412814",
   "metadata": {},
   "source": [
    "byte enteroByte   = 1;    // 1 byte\n",
    "short enteroShort = 2;    // 2 bytes\n",
    "int enteroInt     = 4;    // 4 bytes\n",
    "long enteroLong   = 8;    // 8 bytes\n",
    "float realFloat   = 4.5;  // 4 bytes\n",
    "double realDouble = 8.5;  // 8 bytes\n",
    "boolean logico    = true; // 1 byte\n",
    "char caracter     = 'a';  // 2 bytes"
   ]
  },
  {
   "cell_type": "markdown",
   "id": "278981a1-2b3c-40a8-9e79-f7def5ec7713",
   "metadata": {},
   "source": [
    "## Conversiones de tipos\n",
    "---"
   ]
  },
  {
   "cell_type": "markdown",
   "id": "8e15f76f-501d-4279-9882-5b650ea43c07",
   "metadata": {},
   "source": [
    "![](img/transformaciones-datos.jpg)"
   ]
  },
  {
   "cell_type": "markdown",
   "id": "46043712-eca6-4c51-af7e-f543a48765ca",
   "metadata": {},
   "source": [
    "## Operadores\n",
    "---"
   ]
  },
  {
   "cell_type": "markdown",
   "id": "54540ed3-50eb-47bc-b385-730c15ac099a",
   "metadata": {},
   "source": [
    "### Aritméticos = {+, -, *, /, %}\n",
    "---"
   ]
  },
  {
   "cell_type": "raw",
   "id": "6430a1d9-b865-4d80-b844-5f9382a6b8f0",
   "metadata": {
    "scrolled": true
   },
   "source": [
    "// suma\n",
    "3 + 2"
   ]
  },
  {
   "cell_type": "raw",
   "id": "9919e5c1-e819-4e6b-a465-45df964ac8c1",
   "metadata": {
    "scrolled": true
   },
   "source": [
    "// resta\n",
    "3 - 2"
   ]
  },
  {
   "cell_type": "raw",
   "id": "33c7d41b-030a-4b1c-a2d7-3141c5c31724",
   "metadata": {},
   "source": [
    "// multiplicación\n",
    "3 * 2"
   ]
  },
  {
   "cell_type": "raw",
   "id": "4abe66bd-ba63-45c1-90b5-0d9c3c45ea46",
   "metadata": {},
   "source": [
    "// división\n",
    "3 / 2"
   ]
  },
  {
   "cell_type": "raw",
   "id": "ebf2b9fa-71c4-4185-b727-db25366beb5d",
   "metadata": {},
   "source": [
    "// módulo: resto de la división\n",
    "3 % 2"
   ]
  },
  {
   "cell_type": "markdown",
   "id": "9d7bf18f-9eaa-4dda-be76-7b18fd7810bc",
   "metadata": {},
   "source": [
    "### Expresiones aritméticas\n",
    "---"
   ]
  },
  {
   "cell_type": "raw",
   "id": "a58bca7a-49d6-4efd-938a-aa5ed694ab81",
   "metadata": {},
   "source": [
    "// se considera la precedencia de operadores\n",
    "(1 + 2/2) * 5 + 13"
   ]
  },
  {
   "cell_type": "markdown",
   "id": "da64912c-25b7-4e21-bc57-fe953ebe1c45",
   "metadata": {},
   "source": [
    "### Asignación = {=, +=, -=, *=, /=, %=}\n",
    "---"
   ]
  },
  {
   "cell_type": "raw",
   "id": "30c4ebb2-8632-4b1c-aafb-a03404047f08",
   "metadata": {},
   "source": [
    "// asignación\n",
    "a = 1"
   ]
  },
  {
   "cell_type": "raw",
   "id": "5f684201-dda1-44a1-ac61-efd621f2e623",
   "metadata": {},
   "source": [
    "// suma y asignación\n",
    "a += 1"
   ]
  },
  {
   "cell_type": "markdown",
   "id": "22f1789c-6ce2-4955-915d-d2db2391f223",
   "metadata": {},
   "source": [
    "### Relacionales = {==, !=, >, >=, <, <=}\n",
    "---"
   ]
  },
  {
   "cell_type": "raw",
   "id": "5fb76606-ef7c-49e7-b3f8-86421a15a552",
   "metadata": {},
   "source": [
    "// igualdad\n",
    "2 == 2"
   ]
  },
  {
   "cell_type": "raw",
   "id": "7998784c-81eb-4a6e-87d0-962488d8899c",
   "metadata": {},
   "source": [
    "// distinto\n",
    "2 != 2"
   ]
  },
  {
   "cell_type": "raw",
   "id": "dca9ca7b-60b5-40ed-90c9-fca332695459",
   "metadata": {},
   "source": [
    "// mayor\n",
    "4 > 2"
   ]
  },
  {
   "cell_type": "markdown",
   "id": "e00b105e-b2b2-4dca-ba53-0f229626951a",
   "metadata": {},
   "source": [
    "### Lógicos = {&&, ||, !}\n",
    "---"
   ]
  },
  {
   "cell_type": "raw",
   "id": "fde549e9-6434-4714-a3fe-859ac1a0b4c1",
   "metadata": {},
   "source": [
    "# conjunción\n",
    "(2 == 2) && (4 > 2)"
   ]
  },
  {
   "cell_type": "markdown",
   "id": "c590b6b9-a47a-44c8-80c4-884a88396027",
   "metadata": {},
   "source": [
    "### Otros = {[], (refundición), new, instanceof}\n",
    "---"
   ]
  },
  {
   "cell_type": "raw",
   "id": "c8068b91-2922-49a2-b158-89e8e9c71f2a",
   "metadata": {},
   "source": [
    "\"pepe\" instanceof String"
   ]
  },
  {
   "cell_type": "markdown",
   "id": "4f3470ef-efac-4837-bf89-b66ab8b6613e",
   "metadata": {},
   "source": [
    "## Entrada por terminal\n",
    "---"
   ]
  },
  {
   "cell_type": "raw",
   "id": "626a2650-5eee-4eaf-990f-2842706a9447",
   "metadata": {},
   "source": [
    "Scanner in = new Scanner(System.in);\n",
    "in.nextLine();       // lee una línea de entrada\n",
    "in.next();           // lee una sola palabra\n",
    "in.nextInt();        // lee un entero\n",
    "in.nextDouble();     // lee número de coma flotante\n",
    "in.hasNext();        // si hay o no otra palabra\n",
    "in.hasNextInt();     // si hay o no otro entero\n",
    "in.hasNextDouble();  // si hay o no otro número de coma flotante"
   ]
  },
  {
   "cell_type": "markdown",
   "id": "cb28d69f-1ef9-4314-9da7-317b4c7c7885",
   "metadata": {},
   "source": [
    "## Salida por terminal\n",
    "---"
   ]
  },
  {
   "cell_type": "raw",
   "id": "9f3d8ae3-632c-4153-a1c2-2227f91ba2fc",
   "metadata": {},
   "source": [
    "System.out.print(\"Hola mundo\");\n",
    "System.out.println(\"Hola mundo\");\n",
    "\n",
    "Double x = 10000.0/3.0;\n",
    "System.out.println(x);          // 3333.3333333\n",
    "System.out.printf(\"%8.2f\", x);  // 3333.33\n",
    "System.out.printf(\"%,.2f\", x);  // 3,333.33\n",
    "\n",
    "String.format(“Hola, %s. El año que viene tendrás %d”, nombre, edad);"
   ]
  },
  {
   "cell_type": "markdown",
   "id": "74d1e708-5df3-46d1-b085-080619d659f1",
   "metadata": {},
   "source": [
    "## Cadenas"
   ]
  },
  {
   "cell_type": "markdown",
   "id": "f9872d84-0478-4d7b-9df9-4f273776d155",
   "metadata": {},
   "source": [
    "* Los String son instancias de la clase java.lang.String\n",
    "* El compilador trata a los String como si fuesen tipos del lenguajes\n",
    "* Son inmutables"
   ]
  },
  {
   "cell_type": "raw",
   "id": "52bdf8d9-f9c0-4757-9e65-e1785693a18e",
   "metadata": {},
   "source": [
    "String saludo = \"Hola\";\n",
    "String otroSaludo = new String(\"Como andás?\");\n",
    "\n",
    "saludo.length();\n",
    "saludo.charAt(0);\n",
    "saludo.substring(0,2);\n",
    "saludo.compareTo(\"adios\");\n",
    "saludo.equals(\"Hol\");\n",
    "saludo.split(\"o\");\n",
    "saludo.trim();\n",
    "saludo.indexOf(\"a\");\n",
    "saludo.indexOf(\"a\", 2);\n",
    "saludo.toLowerCase();\n",
    "saludo.toUpperCase();\n",
    "saludo.equalsIgnoreCase(\"h\");\n",
    "saludo.endsWith(\"la\");"
   ]
  },
  {
   "cell_type": "markdown",
   "id": "fc012d2b-beab-4e58-ba23-9abb1e4f7ad3",
   "metadata": {},
   "source": [
    "## Estructuras de control"
   ]
  },
  {
   "cell_type": "markdown",
   "id": "fbdf6f73-1abc-40f9-b1d2-313388d1ee41",
   "metadata": {},
   "source": [
    "### Condicional (if)"
   ]
  },
  {
   "cell_type": "raw",
   "id": "36894d31-73f0-4127-b287-d18b84688143",
   "metadata": {},
   "source": [
    "int a = 10;\n",
    "if (a == 10)\n",
    "  System.out.println(\"Es 10\");\n",
    "else\n",
    "  System.out.println(\"No es 10\");"
   ]
  },
  {
   "cell_type": "raw",
   "id": "24c745a1-78ef-4d88-99e5-707fb386f275",
   "metadata": {},
   "source": [
    "int i = 2;\n",
    "switch (i) {\n",
    "  case 1:{ System.out.println(\"Es 1\"); break; }\n",
    "  case 2:{ System.out.println(\"Es 2\"); break; }\n",
    "  case 3:{ System.out.println(\"Es 3\"); break; }\n",
    "  default: System.out.println(\"No es 1 ni 2 ni 3\");\n",
    "}"
   ]
  },
  {
   "cell_type": "markdown",
   "id": "d431e6d1-9874-464b-a998-0df1dfdc772b",
   "metadata": {},
   "source": [
    "### Bucle indeterminado (while)"
   ]
  },
  {
   "cell_type": "raw",
   "id": "ad865a36-3eda-48a1-80eb-30c07759091f",
   "metadata": {},
   "source": [
    "int x = 0;\n",
    "while (x < 3) { \n",
    "  System.out.println(x);\n",
    "  x += 1;\n",
    "}"
   ]
  },
  {
   "cell_type": "markdown",
   "id": "41902865-3eb3-4395-b72e-969c902b919f",
   "metadata": {},
   "source": [
    "### Bucle determinado (for)"
   ]
  },
  {
   "cell_type": "raw",
   "id": "dcc0514d-12d5-4296-9981-ccd9e8cf6744",
   "metadata": {},
   "source": [
    "for (int i=0; i < 8; i++)\n",
    "  System.out.println(i);"
   ]
  },
  {
   "cell_type": "raw",
   "id": "342b6d9e-9f21-4b3f-9779-09a22396ae1a",
   "metadata": {},
   "source": [
    "String[] arreglo = {\"oi\", \"ola\", \"hola\"};\n",
    "for (String palabra: arreglo) \n",
    "  System.out.println(palabra);"
   ]
  },
  {
   "cell_type": "markdown",
   "id": "665fd6d8-13c2-4d6b-a812-825836275f95",
   "metadata": {},
   "source": [
    "## Funciones"
   ]
  },
  {
   "cell_type": "raw",
   "id": "8da1e51a-1547-4eae-a61d-f3d9791753eb",
   "metadata": {},
   "source": [
    "public class Calculo {\n",
    "\n",
    "  public static void main(String [] args) {\n",
    "    System.out.println(Calculo.sumar(2.5, 3.3));\n",
    "  }\n",
    "\n",
    "  public static double sumar(double a, double b) {\n",
    "    return a + b;\n",
    "  }\n",
    "\n",
    "}"
   ]
  },
  {
   "cell_type": "markdown",
   "id": "e40aa875-1631-44eb-8068-17f88b5573e2",
   "metadata": {},
   "source": [
    "### Argumentos variables (varargs)"
   ]
  },
  {
   "cell_type": "raw",
   "id": "69290697-537b-4667-97b7-4e3580a8b1ec",
   "metadata": {},
   "source": [
    "public static void main(String[] args) {\n",
    "  System.out.println(sum_all(1));\n",
    "  System.out.println(sum_all(1, 2));\n",
    "  System.out.println(sum_all(1, 2, 3));\n",
    "}\n",
    "\n",
    "public static double sum_all(Double...varargs) {\n",
    "  double suma = 0;\n",
    "  for (Double v : varargs)\n",
    "    suma += v;\n",
    "  return suma;\n",
    "}"
   ]
  },
  {
   "cell_type": "markdown",
   "id": "5fca05ad-d38a-46da-913b-26473dbacedd",
   "metadata": {},
   "source": [
    "### Documentar una función"
   ]
  },
  {
   "cell_type": "raw",
   "id": "3033ff89-9fa1-4df3-8110-9edb09a11ac6",
   "metadata": {},
   "source": [
    "/**\n",
    " *  Calcula el área de un cuadrado\n",
    "    elevando al cuadrado el lado pasado\n",
    "    por parámetro\n",
    "*/\n",
    "public static double areaCuadrado(double lado) {\n",
    "    return lado * lado;\n",
    "}"
   ]
  },
  {
   "cell_type": "markdown",
   "id": "7a001aa1-94c2-4b5f-a235-f58e9abba83e",
   "metadata": {},
   "source": [
    "## Resumen\n",
    "---"
   ]
  },
  {
   "attachments": {},
   "cell_type": "markdown",
   "id": "1de4af18-d7d8-4a85-b853-410a69618446",
   "metadata": {},
   "source": [
    "![sintaxis.jpg](img/sintaxis.jpg)"
   ]
  }
 ],
 "metadata": {
  "kernelspec": {
   "display_name": "Python [conda env:base] *",
   "language": "python",
   "name": "conda-base-py"
  },
  "language_info": {
   "codemirror_mode": {
    "name": "ipython",
    "version": 3
   },
   "file_extension": ".py",
   "mimetype": "text/x-python",
   "name": "python",
   "nbconvert_exporter": "python",
   "pygments_lexer": "ipython3",
   "version": "3.12.7"
  }
 },
 "nbformat": 4,
 "nbformat_minor": 5
}
