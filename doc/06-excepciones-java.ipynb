{
 "cells": [
  {
   "cell_type": "markdown",
   "id": "8a8b0a48-ce5c-47dd-b1b7-9263926e70bf",
   "metadata": {},
   "source": [
    "# Excepciones - Java\n",
    "---"
   ]
  },
  {
   "cell_type": "markdown",
   "id": "62bad664-3e08-4e3d-b447-bc6da8857f6a",
   "metadata": {},
   "source": [
    "* Representan condiciones excepcionales que el programador quiere tratar (controlar)\n",
    "* Aparecen cuando el programa intenta hacer una operación no permitida\n",
    "* Errores no detectados al momento de la compilación, si en tiempo de ejecución\n",
    "* Usuarios esperan que el programa se comporte de forma sensata cuando se producen errores -> volver a un estado seguro"
   ]
  },
  {
   "cell_type": "markdown",
   "id": "d8de610f-5ca9-48ee-9692-eb4afdd22f5c",
   "metadata": {},
   "source": [
    "## Tipos\n",
    "---"
   ]
  },
  {
   "cell_type": "markdown",
   "id": "a734dd65-f57a-4413-84cf-ed21a2439203",
   "metadata": {},
   "source": [
    "| Tipo | Clase Java |\n",
    "| -- | -- |\n",
    "| División entre cero                     | **ArithmeticException**            |\n",
    "| Conversión de datos                     | **NumberFormatException**          | \n",
    "| Archivo incorrecto                      | **IOException**                    |\n",
    "| Acceso a espacio de arreglo inexistente | **ArrayIndexOutOfBoundsException** |\n",
    "| null.método()                           | **NullPointerException**           |\n",
    "| Refundiciones incorrectas               | **ClassCastException**             |"
   ]
  },
  {
   "cell_type": "markdown",
   "id": "d63a3761-55a9-4192-85e7-ad6757c9608b",
   "metadata": {},
   "source": [
    "## Jerarquía\n",
    "---"
   ]
  },
  {
   "cell_type": "markdown",
   "id": "7d38c056-44f2-4145-80fb-f7e6cbb1d23a",
   "metadata": {},
   "source": [
    " ![Jerarquia Excepciones](img/ex-jerarquia.png)"
   ]
  },
  {
   "cell_type": "markdown",
   "id": "ecb48c37-ee5d-441a-b3ea-d419a36966d8",
   "metadata": {},
   "source": [
    "| Clase | | ¿Recuperable? |\n",
    "| -- | -- | -- |\n",
    "| **Exception** | se produce porque se ha cometido un error de programación | SI |\n",
    "| **Error**     | describe errores internos y el agotamiento de recursos    | NO |"
   ]
  },
  {
   "cell_type": "markdown",
   "id": "58608a71-ed68-4845-910e-5d7ecabe44ba",
   "metadata": {},
   "source": [
    "| Tipos de exceptions | | Ejemplos |\n",
    "| -- | -- | -- |\n",
    "| **Comprobadas**    | compilador verifica que el programador proporcione, o bien, un manejador o que lance la excepción | IOException, FileNotFoundException, SQLException, ... |\n",
    "| **No Comprobadas** | excepciones comunes que no se comprueban | Error y sus subclases (OutOfMemoryError, InternalError, ...) y RuntimeException y sus subclases (NullPointerException, ArrayIndexOutOfBoundException, NumberFormatException, ClassCastException, ArithmeticException, ...) |\n"
   ]
  },
  {
   "cell_type": "markdown",
   "id": "8f5d7e0f-0384-49ee-8070-acd726ebf4ca",
   "metadata": {},
   "source": [
    "## Ejemplos\n",
    "---"
   ]
  },
  {
   "cell_type": "markdown",
   "id": "6dd774e3-c569-4a96-9686-100792de6c16",
   "metadata": {},
   "source": [
    "![Ejemplos de Exceptions](img/ex-ejemplos.JPG)"
   ]
  },
  {
   "cell_type": "markdown",
   "id": "e584f667-fd36-48ee-99b6-bd7acb62cd7a",
   "metadata": {},
   "source": [
    "## ¿Cómo se declaran?\n",
    "---"
   ]
  },
  {
   "cell_type": "raw",
   "id": "d55fb05a-1024-4907-8ee9-928f6734fe49",
   "metadata": {},
   "source": [
    "public class NombreException extends Exception {\n",
    "    \n",
    "}"
   ]
  },
  {
   "cell_type": "markdown",
   "id": "7e87a6c4-ee09-482e-9c05-d1540d942506",
   "metadata": {},
   "source": [
    "## ¿Cómo se causan excepciones?"
   ]
  },
  {
   "cell_type": "markdown",
   "id": "0774d3c9-a372-4ecc-adce-e6eeacdf83da",
   "metadata": {},
   "source": [
    "* Implícitamente: el programa hace algo ilegal\n",
    "* Explícitamente: ejecución de la sentencia throw"
   ]
  },
  {
   "cell_type": "raw",
   "id": "8e0cad64-7a5b-410e-b185-ef3c7d9ffa20",
   "metadata": {},
   "source": [
    "public class SinNaftaException extends Exception { }\n",
    "\n",
    "  public class Auto {\n",
    "    \n",
    "    public void arrancar() {\n",
    "      if (nafta < 0.1)\n",
    "        throw new SinNaftaException();\n",
    "      ...\n",
    "    }\n",
    "\n",
    "}"
   ]
  },
  {
   "cell_type": "markdown",
   "id": "36e13f62-bf81-4ccf-8748-83744d61bb08",
   "metadata": {},
   "source": [
    "## ¿Cómo manejar una excepción?\n",
    "---"
   ]
  },
  {
   "cell_type": "raw",
   "id": "66123493-4901-427f-9718-9565df573f49",
   "metadata": {},
   "source": [
    "public double divide(double op1, dpuble op2) {\n",
    "  try {\n",
    "    // código que levanta la excepción\n",
    "    return op1 / op2;\n",
    "  } catch (ArithmeticException ex) {\n",
    "    // código que se ejecuta en caso de excepción\n",
    "    System.out.println(\"No se puede dividir por cero\");\n",
    "    return 0;\n",
    "  }\n",
    "}"
   ]
  },
  {
   "cell_type": "markdown",
   "id": "47b851e6-1695-41a2-b29e-d0319c4ac6d6",
   "metadata": {},
   "source": [
    "## ¿Cómo manejar múltiples excepciones?\n",
    "---"
   ]
  },
  {
   "cell_type": "raw",
   "id": "39849fa6-e5f5-4978-9443-94adbf47010e",
   "metadata": {},
   "source": [
    "public void divide() {\n",
    "    try {\n",
    "        Scanner in = new Scanner(System.in);\n",
    "        double op1 = in.nextDouble();\n",
    "        double op2 = in.nextDouble();\n",
    "        in.close();\n",
    "        System.out.println(\"La división es \" + op1 / op2);\n",
    "    } catch (NumberFormatException ex1) {\n",
    "        System.out.println(\"Valores incorrectos\");\n",
    "    } catch (ArithmeticException ex) {\n",
    "        System.out.println(\"No se puede dividir por cero\");\n",
    "    }\n",
    "    System.out.println(\"Cálculo finalizado\");\n",
    "}\n",
    "// en aumento a Exception (de lo particular a lo general); al revés no compila"
   ]
  },
  {
   "cell_type": "markdown",
   "id": "06f5468a-26d5-4cb1-9a12-bc4cb123ba2c",
   "metadata": {},
   "source": [
    "## Comportamiento de tipo reanudación\n",
    "---"
   ]
  },
  {
   "cell_type": "raw",
   "id": "2aa2dda8-7c39-4989-be71-26bcd737bbca",
   "metadata": {},
   "source": [
    "double op1 = 0;\n",
    "double op2 = 0;\n",
    "while (true) {\n",
    "    try {\n",
    "        Scanner in = new Scanner(System.in);\n",
    "        System.out.print(\"Num 1: \");\n",
    "        op1 = in.nextDouble();\n",
    "        System.out.print(\"Num 2: \");\n",
    "        op2 = in.nextDouble();\n",
    "        in.close();\n",
    "        break;\n",
    "    } catch (NumberFormatException e) {\n",
    "        System.out.println(\"Valores incorrectos. Intente nuevamente\");\n",
    "    }\n",
    "    System.out.println(divide(op1, op2));\n",
    "}"
   ]
  },
  {
   "cell_type": "markdown",
   "id": "5614ce97-4df6-4033-814f-a10162522146",
   "metadata": {},
   "source": [
    "## Sobre el uso de excepciones\n",
    "---"
   ]
  },
  {
   "cell_type": "markdown",
   "id": "672c9cde-3520-48d5-bd97-5ebbcb59060c",
   "metadata": {},
   "source": [
    "* Una condición de error es tratada sólo donde tiene sentido hacerlo y no en todo el nivel entre que ocurre y es tratada\n",
    "* El código puede ser escrito como si todas las operaciones funcionaran correctamente\n",
    "* Deben ser tratadas lo más específicamente posible\n",
    "* No se deben dejar vacíos o solo imprimiendo el stack trace los bloques catch\n",
    "* Stack Trace (Seguimiento de Pila): listado de todas las llamadas a métodos pendientes en un determinado momento de la ejecución de un programa"
   ]
  }
 ],
 "metadata": {
  "kernelspec": {
   "display_name": "Python [conda env:base] *",
   "language": "python",
   "name": "conda-base-py"
  },
  "language_info": {
   "codemirror_mode": {
    "name": "ipython",
    "version": 3
   },
   "file_extension": ".py",
   "mimetype": "text/x-python",
   "name": "python",
   "nbconvert_exporter": "python",
   "pygments_lexer": "ipython3",
   "version": "3.12.7"
  }
 },
 "nbformat": 4,
 "nbformat_minor": 5
}
