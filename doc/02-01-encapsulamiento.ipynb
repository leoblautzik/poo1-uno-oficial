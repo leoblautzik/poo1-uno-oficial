{
 "cells": [
  {
   "cell_type": "markdown",
   "id": "52f6ed34-bfcc-4e5c-b781-30b64ef58860",
   "metadata": {},
   "source": [
    "# Programación Orientada a Objetos (POO)\n",
    "---"
   ]
  },
  {
   "cell_type": "markdown",
   "id": "5160e584-d3ef-46da-80c0-47c2729444e8",
   "metadata": {},
   "source": [
    "## ¿Qué es la POO?\n",
    "---"
   ]
  },
  {
   "cell_type": "markdown",
   "id": "5a77f277-f1c7-46fd-a29c-9f712c12cc68",
   "metadata": {},
   "source": [
    "* Es una forma de programar, más cercana a como expresaríamos las cosas en la vida real que otros tipos de programación (alto nivel)\n",
    "* Se escriben programas en términos de: clases, objetos, encapsulamiento, propiedades, herencia, polimorfismo\n",
    "* Todo es pensado como un objeto\n",
    "* Los objetos que existen en el mundo real pueden ser:\n",
    "\n",
    "|                  | Ejemplos                                  |\n",
    "| --               | --                                        |\n",
    "| **conceptuales** | pedido, plano, punto, caja de ahorro, ... |\n",
    "| **físicos**      | vehículo, computadora, ...                |"
   ]
  },
  {
   "cell_type": "markdown",
   "id": "1552ab06-eb94-4152-aafc-98268139a91a",
   "metadata": {},
   "source": [
    "![POO](img/poo.png)"
   ]
  },
  {
   "cell_type": "markdown",
   "id": "c454582a-32d9-4d82-affe-da1f9bc3808b",
   "metadata": {},
   "source": [
    "## ¿Qué es un POO?\n",
    "---"
   ]
  },
  {
   "cell_type": "markdown",
   "id": "edd3f5ca-10d1-4033-973f-752f217dce85",
   "metadata": {},
   "source": [
    "* Es un conjunto de objetos que se comunican entre sí, enviándose mensajes para resolver un problema"
   ]
  },
  {
   "cell_type": "markdown",
   "id": "bd9ecebe-a137-4b1e-b57e-94429e845690",
   "metadata": {},
   "source": [
    "## ¿Cual es el ciclo de vida del objeto?\n",
    "---"
   ]
  },
  {
   "cell_type": "markdown",
   "id": "3708bbe0-08ee-46c3-84c8-d07323936a46",
   "metadata": {},
   "source": [
    "|                    | Ejemplo                                   |\n",
    "| --                 | --                                        |\n",
    "| **1. Creación**    | CA ca1 = new CA()                         |\n",
    "| **2. Uso**         | ca1.getSaldo()                            |\n",
    "| **3. Destrucción** | ca1 fuera de su scope. Garbagge Collector |"
   ]
  },
  {
   "cell_type": "markdown",
   "id": "1ae95b8a-f9c4-4553-a931-bc11528e09fe",
   "metadata": {},
   "source": [
    "## ¿Cuáles son las características del POO?\n",
    "---"
   ]
  },
  {
   "cell_type": "markdown",
   "id": "98291a66-739d-487a-9103-29524f022fd1",
   "metadata": {},
   "source": [
    "|||\n",
    "| -- | -- |\n",
    "| **Abstracción/Clase** | describir la estructura del objeto, responsable de crear sus instancias |\n",
    "| **Encapsulamiento** | ocultar detalles de implementación de un objeto |\n",
    "| **Polimorfismo**    | objetos de diferentes tipos responden al mismo mensaje (mismo comportamiento) |\n",
    "| **Herencia**        | compartir conocimiento. Se dá en una jerarquía (clasificación). Un objeto adquiere las propiedades de otro objeto |"
   ]
  },
  {
   "cell_type": "markdown",
   "id": "e84e89e2-49bd-4a23-afa7-9492b022853c",
   "metadata": {},
   "source": [
    "![Pilares POO](img/poo-pilares.JPG)"
   ]
  },
  {
   "cell_type": "markdown",
   "id": "c6a93ded-56f7-45f8-910e-0694a0211811",
   "metadata": {},
   "source": [
    "## ¿Cuáles son las relaciones entre las clases?\n",
    "---"
   ]
  },
  {
   "cell_type": "markdown",
   "id": "6ad10b31-7c74-4095-b807-3450b9d2c563",
   "metadata": {},
   "source": [
    "| Relación ||| Ejemplo |\n",
    "| -- | -- | -- | -- |\n",
    "| **Dependencia** | colaboradores externos | \"usa un ...\" | Pedido utiliza la clase Cuenta |\n",
    "| **Composición** | colaboradores internos | \"tiene un ...\" | Pedido contiene objetos de tipo Artículo |\n",
    "| **Herencia**    | compartir conocimiento | \"es un ...\" | PedidoVigente es un Pedido |"
   ]
  },
  {
   "cell_type": "markdown",
   "id": "d860c0b7-276c-4478-b370-e6509b700a76",
   "metadata": {},
   "source": [
    "![UML](img/uml.png)"
   ]
  },
  {
   "cell_type": "markdown",
   "id": "51fec404-52d0-4b54-b8ce-0532d5e6118e",
   "metadata": {},
   "source": [
    "# Encapsulamiento\n",
    "---"
   ]
  },
  {
   "cell_type": "markdown",
   "id": "11b1f348-be92-4871-98c9-73c407a53def",
   "metadata": {},
   "source": [
    "* **Encapsular**: acción de poner juntas ciertas cosas dado que hay una razón para ello\n",
    "* En la POO aquellas cosas serán los **datos** y los **métodos** que operan sobre esos datos\n",
    "* Mediante el **encapsulamiento** se crean las entidades que se desean manejar en los sistemas\n",
    "* Sentidos:\n",
    "\n",
    "|                     |                                                                                                                      |\n",
    "| --                  | --                                                                                                                   |\n",
    "| **especialización** | el propio objeto es quien sabrá cómo manejar los datos que contiene, y lo hará con los métodos asociados a sus datos |\n",
    "| **completitud**     | permite descansar en que la abstracción construida representa a la entidad, y a aquella **responsabilidad** que tendrá asignada dentro de los sistemas |"
   ]
  },
  {
   "cell_type": "markdown",
   "id": "cafcda09-b827-4540-a6e1-0516871fa4ac",
   "metadata": {},
   "source": [
    "## Interfaz pública\n",
    "---"
   ]
  },
  {
   "cell_type": "markdown",
   "id": "0edd3dc0-89ae-4372-a813-b47ff04f9a65",
   "metadata": {},
   "source": [
    "* Se define como **interfaz pública** de una clase, al conjunto de responsabilidades que los objetos de esa clase exponen o brindan al exterior de la misma, al universo\n",
    "* Interesa mucho más **la interfaz pública de los objetos** que sus **representaciones internas** y datos asociados"
   ]
  },
  {
   "cell_type": "markdown",
   "id": "e2b71dac-2ae9-440d-ab44-bf306b4ef686",
   "metadata": {},
   "source": [
    "## Ocultamiento de información\n",
    "---"
   ]
  },
  {
   "cell_type": "markdown",
   "id": "cf921be6-eca2-4fb3-bf2f-eb67ac6696d4",
   "metadata": {},
   "source": [
    "* Es utilizar las técnicas que brinda el lenguaje para abstraer a los módulos cliente de los detalles de implementación\n",
    "* Indica **buenas prácticas de programación**: \"necesito de este objeto, pero no me importa cómo resuelva sus **responsabilidades** mientras lo haga por mí\"\n",
    "* Reglas:\n",
    "\n",
    "| Encapsulamiento | Ocultamiento de información |\n",
    "| --              | --                          |\n",
    "| Ubicar los datos y las operaciones que trabajan sobre esos datos en la misma clase | No exponer atributos |\n",
    "| Utilizar diseño guiado por las responsabilidades para determinar la agrupación de datos y operaciones dentro de clases | No exponer diferencia entre atributos propiamente dichos y atributos calculados |\n",
    "|  | No exponer la estructura interna de una clase |\n",
    "|  | No exponer detalles de implementación de una clase |"
   ]
  }
 ],
 "metadata": {
  "kernelspec": {
   "display_name": "Python [conda env:base] *",
   "language": "python",
   "name": "conda-base-py"
  },
  "language_info": {
   "codemirror_mode": {
    "name": "ipython",
    "version": 3
   },
   "file_extension": ".py",
   "mimetype": "text/x-python",
   "name": "python",
   "nbconvert_exporter": "python",
   "pygments_lexer": "ipython3",
   "version": "3.12.7"
  }
 },
 "nbformat": 4,
 "nbformat_minor": 5
}
