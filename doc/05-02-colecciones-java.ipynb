{
 "cells": [
  {
   "cell_type": "markdown",
   "id": "b2f34bb4-68eb-46f1-92f1-a63b41043408",
   "metadata": {},
   "source": [
    "# Colecciones - Java\n",
    "---"
   ]
  },
  {
   "cell_type": "markdown",
   "id": "517b12c8-e7d1-441f-9c1c-bbd8191dbaba",
   "metadata": {},
   "source": [
    "* Representa un grupo de objetos (elementos)\n",
    "* Es el almacén lógico donde guardar los elementos\n",
    "* Son formas de organizar la información para manipular, buscar e insertar datos de manera eficiente"
   ]
  },
  {
   "cell_type": "markdown",
   "id": "09d7c257-d687-4148-83dc-eee022a54a5e",
   "metadata": {},
   "source": [
    "## Interface Collection\n",
    "---"
   ]
  },
  {
   "cell_type": "markdown",
   "id": "8d853f3b-0943-4fb7-8fc7-388a4dcba171",
   "metadata": {},
   "source": [
    "* En Java se emplea la interfaz genérica Collection\n",
    "\n",
    "| Tipos (interfaces) | | Implementaciones |\n",
    "| -- | -- | -- |\n",
    "| **Set**  | colección que no puede contener elementos duplicados | HashSet, TreeSet, LinkedHashSet |\n",
    "| **List** | sucesión de elementos. Admite duplicados | ArrayList, LinkedList |\n",
    "| **Map**  | asocia claves a valores. No puede contener claves duplicadas y cada clave sólo puede tener asociado un valor | HashMap, TreeMap, LinkedHashMap |"
   ]
  },
  {
   "cell_type": "markdown",
   "id": "5ebb05ba-6767-42e9-82c3-0672a779a8d7",
   "metadata": {},
   "source": [
    "## Diagrama de decisión para uso de Colecciones Java\n",
    "---"
   ]
  },
  {
   "cell_type": "markdown",
   "id": "196b5cb8-ae88-4dfc-9d95-d220af262b08",
   "metadata": {},
   "source": [
    "![Diagrama de decisión para uso de Colecciones Java](img/decision-colecciones.png)"
   ]
  },
  {
   "cell_type": "markdown",
   "id": "2a864228-367d-444c-8b31-b9ce7ee7fff0",
   "metadata": {},
   "source": [
    "## Jerarquía Colecciones Java\n",
    "---"
   ]
  },
  {
   "cell_type": "markdown",
   "id": "e1dd720f-fd6a-467e-9c73-a81e17ef6e4a",
   "metadata": {},
   "source": [
    "![Jerarquía Colecciones Java](img/jerarquia-colecciones.png)"
   ]
  },
  {
   "cell_type": "markdown",
   "id": "90bea56c-4495-4a2d-b67a-5cb0b0269405",
   "metadata": {},
   "source": [
    "## ArrayList\\<E>\n",
    "---"
   ]
  },
  {
   "cell_type": "code",
   "execution_count": null,
   "id": "15ee5f71-db76-477f-9340-8718538129cf",
   "metadata": {},
   "outputs": [],
   "source": [
    "// array redimensionable que aumenta su tamaño según crece la colección de elementos\n",
    "ArrayList<Integer> vector = new ArrayList<Integer>();\n",
    "vector.add(2);     // agrega 2 al final\n",
    "vector.add(1, 5);  // agrega 5 en la posición 1\n",
    "vector.set(0, 3);  // sustituye elemento que se encuentra en posición 0 por el objeto 3\n",
    "vector.get(1);     // devuelve elemento en la posición 1\n",
    "vector.remove(2);  // elimina elemento en la posición 2\n",
    "vector.toString(); // aplana a un string\n",
    "vector.isEmpty();  // verifica si esta vacio\n",
    "vector.indexOf(5); // devuelve posición del elemento 5, si no existe devuelve -1\n",
    "vector.size();     // devuelve tamaño del vector\n",
    "vector.contains(5);// verifica si está el elemento 5\n",
    "vector.clear();    // elimina todos los elementos\n",
    "\n",
    "// for\n",
    "for(int i = 0;  i < vector.size();  i++)\n",
    "    vector.get(i);\n",
    "\n",
    "// for each\n",
    "for(Object objeto: vector)\n",
    "    objeto\n",
    "\n",
    "// Iterator\n",
    "Iterator it = vector.iterator();   // se crea el iterador it para el array\n",
    "while(it.hasNext())                // mientras queden elementos\n",
    "    it.next();                     // se obtienen\n",
    "\n",
    "for (Iterator it = vector.iterator(); it.hasNext();)\n",
    "    it.next();"
   ]
  },
  {
   "cell_type": "markdown",
   "id": "83341ee4-7181-49c9-b2f6-a419ae0103a4",
   "metadata": {},
   "source": [
    "## LinkedList\\<E>\n",
    "---"
   ]
  },
  {
   "cell_type": "code",
   "execution_count": null,
   "id": "47102215-e304-4ea4-a26f-a8e6f2fde6cd",
   "metadata": {},
   "outputs": [],
   "source": [
    "// lista doblemente enlazada de los elementos\n",
    "List<Integer> lista = new LinkedList<Integer>();\n",
    "lista.add(2);\n",
    "lista.add(1, 5);\n",
    "lista.add(3);\n",
    "lista.remove(1);\n",
    "lista.toString();\n",
    "lista.isEmpty();\n",
    "lista.get(1);\n",
    "lista.size();"
   ]
  },
  {
   "cell_type": "markdown",
   "id": "62487d3a-bc96-4bdf-ab96-5388a7b4e18c",
   "metadata": {},
   "source": [
    "## Stack\\<E>\n",
    "---"
   ]
  },
  {
   "cell_type": "code",
   "execution_count": null,
   "id": "7f34a51b-fa2b-48b7-b9a0-fdb5e2e3ce6b",
   "metadata": {},
   "outputs": [],
   "source": [
    "// LIFO (Last In First Out)\n",
    "Stack<Integer> pila = new Stack<Integer>();\n",
    "pila.push(2);\n",
    "pila.push(5);\n",
    "pila.push(3);\n",
    "pila.pop();\n",
    "pila.empty();\n",
    "pila.peek();     // elemento en el tope"
   ]
  },
  {
   "cell_type": "markdown",
   "id": "cfcc077b-fc31-4de8-8e04-a3da6f6f42b5",
   "metadata": {},
   "source": [
    "## ArrayDeque\\<E>\n",
    "---"
   ]
  },
  {
   "cell_type": "code",
   "execution_count": null,
   "id": "7e1606b4-688f-4c87-9e3a-aeb7b7346d6a",
   "metadata": {},
   "outputs": [],
   "source": [
    "// FIFO (First In First Out)\n",
    "ArrayDeque<Integer> cola = new ArrayDeque<Integer>();\n",
    "cola.offer(2);\n",
    "cola.offer(5);\n",
    "cola.offer(3);\n",
    "cola.poll();\n",
    "cola.isEmpty();\n",
    "cola.peek();     // primer elemento de la cola"
   ]
  },
  {
   "cell_type": "markdown",
   "id": "410d32aa-48d8-42d4-93c7-d8327523d1d3",
   "metadata": {},
   "source": [
    "## HashMap\\<K,V>\n",
    "---"
   ]
  },
  {
   "cell_type": "code",
   "execution_count": null,
   "id": "434755b8-658d-4c54-b777-cb14fdf707eb",
   "metadata": {},
   "outputs": [],
   "source": [
    "// almacena claves en una tabla hash\n",
    "HashMap<String, Object> map = new HashMap<String, Object>();\n",
    "map.put(\"user\", \"pepe\");\n",
    "map.get(\"user\");"
   ]
  },
  {
   "cell_type": "markdown",
   "id": "d7093c67-3d6e-481c-995b-0d00557c539a",
   "metadata": {},
   "source": [
    "## Properties\n",
    "---"
   ]
  },
  {
   "cell_type": "code",
   "execution_count": null,
   "id": "b18ae2e8-0d78-476f-9500-cd8efcac67b3",
   "metadata": {},
   "outputs": [],
   "source": [
    "// útil para almacenar y recuperar archivos de propiedades\n",
    "Properties prop = new Properties();\n",
    "prop.put(\"user\", \"pepe\");\n",
    "prop.get(\"user\");\n",
    "prop.load(new FileInputStream(new File(\"/prop.properties\")));"
   ]
  }
 ],
 "metadata": {
  "kernelspec": {
   "display_name": "Python [conda env:base] *",
   "language": "python",
   "name": "conda-base-py"
  },
  "language_info": {
   "codemirror_mode": {
    "name": "ipython",
    "version": 3
   },
   "file_extension": ".py",
   "mimetype": "text/x-python",
   "name": "python",
   "nbconvert_exporter": "python",
   "pygments_lexer": "ipython3",
   "version": "3.12.7"
  }
 },
 "nbformat": 4,
 "nbformat_minor": 5
}
