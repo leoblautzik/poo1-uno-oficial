{
 "cells": [
  {
   "cell_type": "markdown",
   "id": "8a8b0a48-ce5c-47dd-b1b7-9263926e70bf",
   "metadata": {},
   "source": [
    "# Excepciones - Python\n",
    "---"
   ]
  },
  {
   "cell_type": "markdown",
   "id": "62bad664-3e08-4e3d-b447-bc6da8857f6a",
   "metadata": {},
   "source": [
    "* Representan condiciones excepcionales que el programador quiere tratar (controlar)\n",
    "* Aparecen cuando el programa intenta hacer una operación no permitida\n",
    "* Errores no detectados al momento de la compilación, si en tiempo de ejecución\n",
    "* Usuarios esperan que el programa se comporte de forma sensata cuando se producen errores -> volver a un estado seguro"
   ]
  },
  {
   "cell_type": "markdown",
   "id": "d8de610f-5ca9-48ee-9692-eb4afdd22f5c",
   "metadata": {},
   "source": [
    "## Tipos\n",
    "---"
   ]
  },
  {
   "cell_type": "markdown",
   "id": "a734dd65-f57a-4413-84cf-ed21a2439203",
   "metadata": {},
   "source": [
    "| Tipo | Clase Python |\n",
    "| -- | -- |\n",
    "| División entre cero                     | **ZeroDivisionError** |\n",
    "| Conversión de datos                     | **TypeError**         |\n",
    "| Archivo incorrecto                      | **FileNotFoundError** |\n",
    "| Acceso a espacio de arreglo inexistente | **IndexError**        |\n",
    "| null.método()                           | **ValueError**        |\n",
    "| Acceso a dict con key inexistente       | **KeyError**          |\n",
    "| Falla importación módulo                | **ImportError**       |"
   ]
  },
  {
   "cell_type": "markdown",
   "id": "e584f667-fd36-48ee-99b6-bd7acb62cd7a",
   "metadata": {},
   "source": [
    "## ¿Cómo se declaran?\n",
    "---"
   ]
  },
  {
   "cell_type": "code",
   "execution_count": 1,
   "id": "264d7a00-73ec-4f94-a4e7-c62d98dcabb6",
   "metadata": {},
   "outputs": [],
   "source": [
    "class NombreException(Exception):\n",
    "    pass"
   ]
  },
  {
   "cell_type": "markdown",
   "id": "7e87a6c4-ee09-482e-9c05-d1540d942506",
   "metadata": {},
   "source": [
    "## ¿Cómo se causan excepciones?"
   ]
  },
  {
   "cell_type": "markdown",
   "id": "0774d3c9-a372-4ecc-adce-e6eeacdf83da",
   "metadata": {},
   "source": [
    "* Implícitamente: el programa hace algo ilegal\n",
    "* Explícitamente: ejecución de la sentencia throw"
   ]
  },
  {
   "cell_type": "code",
   "execution_count": 2,
   "id": "8c6b8585-241d-4717-8c12-605ba197c66a",
   "metadata": {},
   "outputs": [],
   "source": [
    "class SinNaftaException(Exception):\n",
    "    pass\n",
    "\n",
    "class Auto:\n",
    "\n",
    "    def arrancar(self):\n",
    "        if self.nafta < 0.1:\n",
    "            raise SinNaftaException()"
   ]
  },
  {
   "cell_type": "markdown",
   "id": "36e13f62-bf81-4ccf-8748-83744d61bb08",
   "metadata": {},
   "source": [
    "## ¿Cómo manejar una excepción?\n",
    "---"
   ]
  },
  {
   "cell_type": "code",
   "execution_count": 3,
   "id": "ca223d0b-5a4c-463b-afed-35596b03de0d",
   "metadata": {},
   "outputs": [],
   "source": [
    "def divide(n1, n2):\n",
    "    try:\n",
    "        return n1 / n2\n",
    "    except ZeroDivisionError:\n",
    "        print('No se puede dividir por cero')\n",
    "        return 'operación errónea'"
   ]
  },
  {
   "cell_type": "markdown",
   "id": "47b851e6-1695-41a2-b29e-d0319c4ac6d6",
   "metadata": {},
   "source": [
    "## ¿Cómo manejar múltiples excepciones?\n",
    "---"
   ]
  },
  {
   "cell_type": "code",
   "execution_count": 4,
   "id": "942dfd7e-67a2-4fc4-9800-9d314433d737",
   "metadata": {},
   "outputs": [],
   "source": [
    "def divide():\n",
    "    try:\n",
    "        op1 = int(input('Num 1: '))\n",
    "        op2 = int(input('Num 2: '))\n",
    "        print('La división es ' + str(op1 / op2))\n",
    "    except ValueError:\n",
    "        print('Valores incorrectos')\n",
    "    except ZeroDivisionError:\n",
    "        print('No se puede dividir entre cero')\n",
    "    print('Cálculo finalizado')"
   ]
  },
  {
   "cell_type": "markdown",
   "id": "06f5468a-26d5-4cb1-9a12-bc4cb123ba2c",
   "metadata": {},
   "source": [
    "## Comportamiento de tipo reanudación\n",
    "---"
   ]
  },
  {
   "cell_type": "code",
   "execution_count": 6,
   "id": "8d100d67-e0c7-49ca-8686-29875d8b482a",
   "metadata": {},
   "outputs": [
    {
     "name": "stdin",
     "output_type": "stream",
     "text": [
      "Num 1:  1\n",
      "Num 2:  p\n"
     ]
    },
    {
     "name": "stdout",
     "output_type": "stream",
     "text": [
      "Valores incorrectos. Intente nuevamente\n"
     ]
    },
    {
     "name": "stdin",
     "output_type": "stream",
     "text": [
      "Num 1:  1\n",
      "Num 2:  2\n"
     ]
    },
    {
     "name": "stdout",
     "output_type": "stream",
     "text": [
      "3\n"
     ]
    }
   ],
   "source": [
    "while True:\n",
    "    try:\n",
    "        n1 = int(input('Num 1: '))\n",
    "        n2 = int(input('Num 2: '))\n",
    "        break\n",
    "    except ValueError:\n",
    "        print('Valores incorrectos. Intente nuevamente')\n",
    "print(n1 + n2) "
   ]
  },
  {
   "cell_type": "markdown",
   "id": "f83110a7-2fc3-4062-b96e-c5e35f457d8b",
   "metadata": {},
   "source": [
    "## Sobre el uso de excepciones\n",
    "---"
   ]
  },
  {
   "cell_type": "markdown",
   "id": "0d6f68ef-5210-4e12-8c54-8a51b8a45593",
   "metadata": {},
   "source": [
    "* Una condición de error es tratada sólo donde tiene sentido hacerlo y no en todo el nivel entre que ocurre y es tratada\n",
    "* El código puede ser escrito como si todas las operaciones funcionaran correctamente\n",
    "* Deben ser tratadas lo más específicamente posible\n",
    "* No se deben dejar vacíos o solo imprimiendo el stack trace los bloques catch\n",
    "* Stack Trace (Seguimiento de Pila): listado de todas las llamadas a métodos pendientes en un determinado momento de la ejecución de un programa"
   ]
  }
 ],
 "metadata": {
  "kernelspec": {
   "display_name": "Python [conda env:base] *",
   "language": "python",
   "name": "conda-base-py"
  },
  "language_info": {
   "codemirror_mode": {
    "name": "ipython",
    "version": 3
   },
   "file_extension": ".py",
   "mimetype": "text/x-python",
   "name": "python",
   "nbconvert_exporter": "python",
   "pygments_lexer": "ipython3",
   "version": "3.12.7"
  }
 },
 "nbformat": 4,
 "nbformat_minor": 5
}
