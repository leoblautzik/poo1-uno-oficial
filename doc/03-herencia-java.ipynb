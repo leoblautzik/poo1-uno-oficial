{
 "cells": [
  {
   "cell_type": "markdown",
   "id": "1e5195db-29e0-42fe-9b31-ba99982275e8",
   "metadata": {},
   "source": [
    "# Herencia - Java\n",
    "---"
   ]
  },
  {
   "cell_type": "markdown",
   "id": "03712f6d-9f50-4457-a03d-26dbc3c682fa",
   "metadata": {},
   "source": [
    "## Ejemplo\n",
    "---"
   ]
  },
  {
   "cell_type": "raw",
   "id": "36d2100e-adda-4b82-acb4-67676dd4f45a",
   "metadata": {},
   "source": [
    "public class CajaDeAhorro extends CuentaBancaria {\n",
    "\n",
    "    // constructores NO se heredan de las superclases\n",
    "    public CajaDeAhorro() {\n",
    "      // se puede invocar del constructor de la subclase a la superclase con super()\n",
    "      // debe ser primera sentencia del cuerpo del constructor\n",
    "      super();\n",
    "      ...\n",
    "    }\n",
    "\n",
    "}"
   ]
  },
  {
   "cell_type": "markdown",
   "id": "30224ae7-9895-4544-908e-60ab09aac4e6",
   "metadata": {},
   "source": [
    "## Métodos\n",
    "---"
   ]
  },
  {
   "cell_type": "markdown",
   "id": "b4acd140-ae13-4211-b369-24267ba125aa",
   "metadata": {},
   "source": [
    "* Si heredo métodos que no tienen sentido en la subclase, la jerarquía fue forzada -> MAL DISEÑO\n",
    "* Si heredo métodos que son insuficientes en la subclase -> OVERWRITING\n",
    "* La sobreescritura puede ser PARCIAL o TOTAL\n",
    "* Para sobrescribir un método se debe respetar la signatura del mismo"
   ]
  },
  {
   "cell_type": "raw",
   "id": "49a0d414-13d4-48bf-816c-03c1b3047df0",
   "metadata": {},
   "source": [
    "public String toString() {\n",
    "    ...\n",
    "}"
   ]
  },
  {
   "cell_type": "raw",
   "id": "e077c7b4-935b-4470-af0a-602697411189",
   "metadata": {},
   "source": [
    "public boolean equals(Object obj) {\n",
    "    ...\n",
    "}"
   ]
  }
 ],
 "metadata": {
  "kernelspec": {
   "display_name": "Python [conda env:base] *",
   "language": "python",
   "name": "conda-base-py"
  },
  "language_info": {
   "codemirror_mode": {
    "name": "ipython",
    "version": 3
   },
   "file_extension": ".py",
   "mimetype": "text/x-python",
   "name": "python",
   "nbconvert_exporter": "python",
   "pygments_lexer": "ipython3",
   "version": "3.12.7"
  }
 },
 "nbformat": 4,
 "nbformat_minor": 5
}
