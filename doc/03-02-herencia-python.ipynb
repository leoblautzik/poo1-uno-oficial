{
 "cells": [
  {
   "cell_type": "markdown",
   "id": "1e5195db-29e0-42fe-9b31-ba99982275e8",
   "metadata": {},
   "source": [
    "# Herencia - Python\n",
    "---"
   ]
  },
  {
   "cell_type": "markdown",
   "id": "03712f6d-9f50-4457-a03d-26dbc3c682fa",
   "metadata": {},
   "source": [
    "## Ejemplo\n",
    "---"
   ]
  },
  {
   "cell_type": "code",
   "execution_count": 2,
   "id": "3f70ab60-4a75-4973-bf18-affde7ed06b3",
   "metadata": {},
   "outputs": [],
   "source": [
    "class CuentaBancaria:\n",
    "\n",
    "    def __init__(self):\n",
    "        pass\n",
    "\n",
    "class CajaDeAhorro(CuentaBancaria):\n",
    "\n",
    "    # constructores se heredan\n",
    "    def __init__(self):\n",
    "        # se puede invocar del constructor de la subclase a la superclase con super().__init__()\n",
    "        super().__init__()"
   ]
  },
  {
   "cell_type": "markdown",
   "id": "30224ae7-9895-4544-908e-60ab09aac4e6",
   "metadata": {},
   "source": [
    "## Métodos\n",
    "---"
   ]
  },
  {
   "cell_type": "markdown",
   "id": "b4acd140-ae13-4211-b369-24267ba125aa",
   "metadata": {},
   "source": [
    "* Si heredo métodos que no tienen sentido en la subclase, la jerarquía fue forzada -> MAL DISEÑO\n",
    "* Si heredo métodos que son insuficientes en la subclase -> OVERWRITING\n",
    "* La sobreescritura puede ser PARCIAL o TOTAL\n",
    "* Para sobrescribir un método se debe respetar la signatura del mismo"
   ]
  },
  {
   "cell_type": "code",
   "execution_count": null,
   "id": "4110e3e2-f5d1-4c2f-afc7-f1b6c89ea073",
   "metadata": {},
   "outputs": [],
   "source": [
    "def __str__(self):\n",
    "    pass"
   ]
  },
  {
   "cell_type": "code",
   "execution_count": 3,
   "id": "944f6444-5985-4725-8946-34c0d0109877",
   "metadata": {},
   "outputs": [],
   "source": [
    "def __eq__(self, otro_objeto):\n",
    "    pass"
   ]
  },
  {
   "cell_type": "markdown",
   "id": "5f4304b0-93d1-41a0-9cfd-f40c72c2968f",
   "metadata": {},
   "source": [
    "## Herencia múltiple\n",
    "---"
   ]
  },
  {
   "cell_type": "code",
   "execution_count": 4,
   "id": "1ef4cb74-5a9f-424b-bc14-fec14f1e413c",
   "metadata": {},
   "outputs": [],
   "source": [
    "class A:\n",
    "\n",
    "    def m(self):\n",
    "        return \"soy m de la clase A\""
   ]
  },
  {
   "cell_type": "code",
   "execution_count": 6,
   "id": "638272b0-16c3-4fd4-a9dc-ff960164d2c2",
   "metadata": {},
   "outputs": [],
   "source": [
    "class B:\n",
    "    \n",
    "    def m(self):\n",
    "        return \"soy m de la clase B\""
   ]
  },
  {
   "cell_type": "code",
   "execution_count": 7,
   "id": "423a0f4c-8b44-40f5-b6a2-9b1d385c9711",
   "metadata": {},
   "outputs": [],
   "source": [
    "# se dá preferencia a la 1ra clase que se indique en la declaración\n",
    "# ante el problema si varias superclases tienen los mismos attr/methods\n",
    "class C(A, B):\n",
    "    pass"
   ]
  },
  {
   "cell_type": "code",
   "execution_count": 8,
   "id": "8b868401-3a1c-494b-b975-e67e5c5542f0",
   "metadata": {},
   "outputs": [
    {
     "name": "stdout",
     "output_type": "stream",
     "text": [
      "True\n",
      "True\n",
      "soy m de la clase A\n"
     ]
    }
   ],
   "source": [
    "c = C()\n",
    "print(isinstance(c, C))\n",
    "print(isinstance(c, A))\n",
    "print(c.m())"
   ]
  }
 ],
 "metadata": {
  "kernelspec": {
   "display_name": "Python [conda env:base] *",
   "language": "python",
   "name": "conda-base-py"
  },
  "language_info": {
   "codemirror_mode": {
    "name": "ipython",
    "version": 3
   },
   "file_extension": ".py",
   "mimetype": "text/x-python",
   "name": "python",
   "nbconvert_exporter": "python",
   "pygments_lexer": "ipython3",
   "version": "3.12.7"
  }
 },
 "nbformat": 4,
 "nbformat_minor": 5
}
