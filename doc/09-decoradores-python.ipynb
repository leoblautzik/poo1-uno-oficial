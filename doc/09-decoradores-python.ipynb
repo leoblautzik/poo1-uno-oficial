{
 "cells": [
  {
   "cell_type": "markdown",
   "id": "9b1814c5-3218-4b01-ab43-dae204d9e5dc",
   "metadata": {},
   "source": [
    "# Decoradores - Python\n",
    "---"
   ]
  },
  {
   "cell_type": "markdown",
   "id": "82502dd0-fc9b-4087-97c1-25900cd06993",
   "metadata": {},
   "source": [
    "* Permiten encapsular otra función para extender el comportamiento de la función encapsulada\n",
    "* Es una función de orden superior que toma otra función como argumento, agrega alguna funcionalidad y devuelve una nueva función. Permite modificar o ampliar el comportamiento de funciones o métodos"
   ]
  },
  {
   "cell_type": "markdown",
   "id": "683feff3-e25b-435b-8842-960e745bf954",
   "metadata": {},
   "source": [
    "## Ejemplo 1 - Sin parámetros\n",
    "---"
   ]
  },
  {
   "cell_type": "code",
   "execution_count": 16,
   "id": "f5127ba6-fefd-442e-a17a-14f97c282ab4",
   "metadata": {},
   "outputs": [],
   "source": [
    "# funcion decorador que recibe como parámetro una función sin parámetros\n",
    "def entra_sale(f):\n",
    "\n",
    "    # función interna\n",
    "    def fi():\n",
    "        print('->')\n",
    "        f()\n",
    "        print('<-')\n",
    "    \n",
    "    return fi\n",
    "\n",
    "@entra_sale\n",
    "def sumar():\n",
    "    print(1 + 2)"
   ]
  },
  {
   "cell_type": "code",
   "execution_count": 17,
   "id": "1204a458-d102-4f72-8607-d385c74cd0e2",
   "metadata": {},
   "outputs": [
    {
     "name": "stdout",
     "output_type": "stream",
     "text": [
      "->\n",
      "3\n",
      "<-\n"
     ]
    }
   ],
   "source": [
    "sumar()"
   ]
  },
  {
   "cell_type": "markdown",
   "id": "ca9f5861-fcf1-4ab0-ada9-4c2f2f27d8a0",
   "metadata": {},
   "source": [
    "## Ejemplo 2 - Con parámetros\n",
    "---"
   ]
  },
  {
   "cell_type": "code",
   "execution_count": 18,
   "id": "f24dc32b-6690-4386-983e-06dd84235ce2",
   "metadata": {},
   "outputs": [],
   "source": [
    "def entra_sale(f):\n",
    "\n",
    "    def fi(*args):\n",
    "        print('->')\n",
    "        f(*args)\n",
    "        print('<-')\n",
    "    \n",
    "    return fi\n",
    "\n",
    "@entra_sale\n",
    "def sumar(n1, n2):\n",
    "    print(n1 + n2)"
   ]
  },
  {
   "cell_type": "code",
   "execution_count": 19,
   "id": "16a8f6db-831b-4048-8283-1a3138dfe451",
   "metadata": {},
   "outputs": [
    {
     "name": "stdout",
     "output_type": "stream",
     "text": [
      "->\n",
      "3\n",
      "<-\n"
     ]
    }
   ],
   "source": [
    "sumar(1, 2)"
   ]
  },
  {
   "cell_type": "markdown",
   "id": "21edfcbe-f76d-4748-8f8b-f9eb753a3fee",
   "metadata": {},
   "source": [
    "## Ejemplo 3 - Con retorno\n",
    "---"
   ]
  },
  {
   "cell_type": "code",
   "execution_count": 20,
   "id": "4f3d4355-d35a-4e58-8712-0613d1197eef",
   "metadata": {},
   "outputs": [],
   "source": [
    "def entra_sale(f):\n",
    "\n",
    "    def fi(*args):\n",
    "        print('->')\n",
    "        v = f(*args)\n",
    "        print('<-')\n",
    "        return v\n",
    "    \n",
    "    return fi\n",
    "\n",
    "@entra_sale\n",
    "def sumar(n1, n2):\n",
    "    return n1 + n2"
   ]
  },
  {
   "cell_type": "code",
   "execution_count": 21,
   "id": "f70dd922-3aef-4593-8ece-98532ef61756",
   "metadata": {},
   "outputs": [
    {
     "name": "stdout",
     "output_type": "stream",
     "text": [
      "->\n",
      "<-\n"
     ]
    },
    {
     "data": {
      "text/plain": [
       "3"
      ]
     },
     "execution_count": 21,
     "metadata": {},
     "output_type": "execute_result"
    }
   ],
   "source": [
    "sumar(1, 2)"
   ]
  },
  {
   "cell_type": "markdown",
   "id": "8a086dae-2672-45fc-8680-e590d4cbd4f5",
   "metadata": {},
   "source": [
    "## Ejemplo 4 - Encadenamiento de decoradores\n",
    "---"
   ]
  },
  {
   "cell_type": "code",
   "execution_count": 22,
   "id": "99ef227e-b3f4-4dbd-ba3b-ff066c79a72d",
   "metadata": {},
   "outputs": [],
   "source": [
    "def decor1(func): \n",
    "  def inner(): \n",
    "    x = func() \n",
    "    return x * x \n",
    "  return inner \n",
    "\n",
    "def decor(func): \n",
    "  def inner(): \n",
    "    x = func() \n",
    "    return 2 * x \n",
    "  return inner \n",
    "\n",
    "@decor1\n",
    "@decor\n",
    "def num(): \n",
    "  return 10\n",
    "\n",
    "@decor\n",
    "@decor1\n",
    "def num2():\n",
    "  return 10"
   ]
  },
  {
   "cell_type": "code",
   "execution_count": 23,
   "id": "d4d7c0e7-0f12-4111-a133-d346cbca25b9",
   "metadata": {},
   "outputs": [
    {
     "data": {
      "text/plain": [
       "400"
      ]
     },
     "execution_count": 23,
     "metadata": {},
     "output_type": "execute_result"
    }
   ],
   "source": [
    "num()  # similar a decor1(decor(num))"
   ]
  },
  {
   "cell_type": "code",
   "execution_count": 24,
   "id": "5fc2f0f3-9928-435c-8476-76292b66ba66",
   "metadata": {},
   "outputs": [
    {
     "data": {
      "text/plain": [
       "200"
      ]
     },
     "execution_count": 24,
     "metadata": {},
     "output_type": "execute_result"
    }
   ],
   "source": [
    "num2() # similar a decor(deco1(num2))"
   ]
  },
  {
   "cell_type": "markdown",
   "id": "e4391132-ad34-4850-92ba-523149bfafcb",
   "metadata": {},
   "source": [
    "## Ejemplo 5\n",
    "---"
   ]
  },
  {
   "cell_type": "code",
   "execution_count": 25,
   "id": "785e2d1b-cf99-4fde-b35c-d3083a4bf15e",
   "metadata": {},
   "outputs": [],
   "source": [
    "import time\n",
    "import math\n",
    "\n",
    "# decorador que calcula duración\n",
    "def calculate_time(func):\n",
    "\n",
    "    def inner1(*args, **kwargs):\n",
    "        begin = time.time()\n",
    "        func(*args, **kwargs)\n",
    "        end = time.time()\n",
    "        print(\"Tiempo total en : \", func.__name__, end - begin)\n",
    "        \n",
    "    return inner1\n",
    "\n",
    "@calculate_time\n",
    "def factorial(num):\n",
    "    time.sleep(2)\n",
    "    print(math.factorial(num))"
   ]
  },
  {
   "cell_type": "code",
   "execution_count": 26,
   "id": "d3598f6a-415c-4a82-89cb-3645b1a868a6",
   "metadata": {},
   "outputs": [
    {
     "name": "stdout",
     "output_type": "stream",
     "text": [
      "3628800\n",
      "Tiempo total en :  factorial 2.0038928985595703\n"
     ]
    }
   ],
   "source": [
    "factorial(10)"
   ]
  }
 ],
 "metadata": {
  "kernelspec": {
   "display_name": "Python [conda env:base] *",
   "language": "python",
   "name": "conda-base-py"
  },
  "language_info": {
   "codemirror_mode": {
    "name": "ipython",
    "version": 3
   },
   "file_extension": ".py",
   "mimetype": "text/x-python",
   "name": "python",
   "nbconvert_exporter": "python",
   "pygments_lexer": "ipython3",
   "version": "3.12.7"
  }
 },
 "nbformat": 4,
 "nbformat_minor": 5
}
