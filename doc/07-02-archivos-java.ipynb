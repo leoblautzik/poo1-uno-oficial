{
 "cells": [
  {
   "cell_type": "markdown",
   "id": "1e322602-4b10-4c83-ba24-f45c5a648318",
   "metadata": {},
   "source": [
    "# Archivos - Java\n",
    "---"
   ]
  },
  {
   "cell_type": "markdown",
   "id": "610c2fe7-fc20-4081-bc92-96e24fabec1c",
   "metadata": {},
   "source": [
    "* Administración del Sistema de Archivos\n",
    "* Persistencia de datos (Buffering)"
   ]
  },
  {
   "cell_type": "markdown",
   "id": "e7ed0fc1-f00b-4e5c-a81b-370360c04e55",
   "metadata": {},
   "source": [
    "## Administración del Sistema de Archivos\n",
    "---"
   ]
  },
  {
   "cell_type": "code",
   "execution_count": null,
   "id": "231e7d72-042e-451b-add0-fc65d974e5fc",
   "metadata": {},
   "outputs": [],
   "source": [
    "File f1 = new File(\"tmp/prueba.txt\");\n",
    "File f2 = new File(\"tmp\", \"prueba.txt\");\n",
    "File f3 = new File(new File(\"tmp\"), \"prueba.txt\");\n",
    "f1.getName();\n",
    "f1.getPath();\n",
    "f1.getParent();\n",
    "f1.exists();\n",
    "f1.canWrite();\n",
    "f1.canRead();\n",
    "f1.isFile();\n",
    "f1.isDirectory();\n",
    "f1.isHidden();\n",
    "f1.length();\n",
    "f1.lastModified();\n",
    "f1.mkdir();\n",
    "f1.delete();\n",
    "f1.renameTo(new File(\"prueba2.txt\"));\n",
    "f1.createNewFile();\n",
    "f1.list();                             // devuelve String[]\n",
    "f1.listFiles();                        // devuelve File[]\n",
    "f1.list(FilenameFilter);               // devuelve String[]\n",
    "f1.listFiles(FilenameFilter);          // devuelve File[]"
   ]
  },
  {
   "cell_type": "markdown",
   "id": "1cd30c39-6e04-47d5-a3ae-62eb9bcb6631",
   "metadata": {},
   "source": [
    "## Persistencia de datos\n",
    "---"
   ]
  },
  {
   "cell_type": "markdown",
   "id": "26e5432f-6347-4fc1-a7de-0d6360042b9f",
   "metadata": {},
   "source": [
    "* Flujo de ENTRADA: abstracción que consume información\n",
    "* Flujo de SALIDA: abstracción que produce información\n",
    "* Operaciones de Flujo:\n",
    "    1. Apertura del Flujo\n",
    "    1. Lectura/Escritura en el flujo\n",
    "    1. Cierre del Flujo "
   ]
  },
  {
   "cell_type": "markdown",
   "id": "7983829a-f9d0-4752-a733-364857d76052",
   "metadata": {},
   "source": [
    "![Flujos](img/flujos.png)"
   ]
  },
  {
   "cell_type": "markdown",
   "id": "17c75826-cd5c-4d83-8d13-497e69fb0217",
   "metadata": {},
   "source": [
    "### Escritura\n",
    "---"
   ]
  },
  {
   "cell_type": "code",
   "execution_count": null,
   "id": "c2326672-351a-4678-9d56-0846123b0aec",
   "metadata": {},
   "outputs": [],
   "source": [
    "BufferedWriter bw = new BufferedWriter(new FileWriter(\"prueba.txt\"));\n",
    "bw.write(\"hola\");\n",
    "bw.newLine();"
   ]
  },
  {
   "cell_type": "markdown",
   "id": "52fe8643-a436-49c9-b24e-a442894611fa",
   "metadata": {},
   "source": [
    "### Lectura\n",
    "---"
   ]
  },
  {
   "cell_type": "code",
   "execution_count": null,
   "id": "ed07c8e0-e5dc-45df-8e91-21d714b5a13b",
   "metadata": {},
   "outputs": [],
   "source": [
    "BufferedReader br = new BufferedReader(new FileReader(\"prueba.txt\"));\n",
    "while((linea = br.readLine()) != null)\n",
    "    System.out.println(linea);"
   ]
  }
 ],
 "metadata": {
  "kernelspec": {
   "display_name": "Python [conda env:base] *",
   "language": "python",
   "name": "conda-base-py"
  },
  "language_info": {
   "codemirror_mode": {
    "name": "ipython",
    "version": 3
   },
   "file_extension": ".py",
   "mimetype": "text/x-python",
   "name": "python",
   "nbconvert_exporter": "python",
   "pygments_lexer": "ipython3",
   "version": "3.12.7"
  }
 },
 "nbformat": 4,
 "nbformat_minor": 5
}
