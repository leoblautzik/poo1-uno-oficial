{
 "cells": [
  {
   "cell_type": "markdown",
   "id": "127924ba-e833-405b-8e46-2f92dc45faeb",
   "metadata": {},
   "source": [
    "# Encapsulamiento - Java\n",
    "---"
   ]
  },
  {
   "cell_type": "markdown",
   "id": "2711859b-f22b-4317-b13f-14fed365ebcb",
   "metadata": {},
   "source": [
    "## Paquete\n",
    "---"
   ]
  },
  {
   "cell_type": "markdown",
   "id": "9fadeaaf-e1eb-4bc4-a6bf-7329398fa1db",
   "metadata": {},
   "source": [
    "* Directorios donde se almacenarán artefactos java (clases, interfaces, enumerados) relacionados entre sí\n",
    "* Ejemplos: **java.lang**, **java.io**, **java.sql**, **java.util**, etc."
   ]
  },
  {
   "cell_type": "code",
   "execution_count": null,
   "id": "7e11e470-145a-4b16-876b-dc2fbbe9fa3c",
   "metadata": {},
   "outputs": [],
   "source": [
    "package calculos;\n",
    "\n",
    "public class CalculosGenerales {\n",
    "\n",
    "    public static double sumar(double a, double b) {\n",
    "      return a + b;\n",
    "    }\n",
    "\n",
    "}"
   ]
  },
  {
   "cell_type": "code",
   "execution_count": null,
   "id": "7b3000ed-bc4b-409c-945d-f1ff80f34a21",
   "metadata": {},
   "outputs": [],
   "source": [
    "package demos;\n",
    "import calculos.*;\n",
    "\n",
    "public class UsoCalculo {\n",
    "\n",
    "    public static void main(String [] args) {\n",
    "      System.out.println(CalculosGenerales.sumar(2.5, 3.4));\n",
    "    }\n",
    "\n",
    "}"
   ]
  },
  {
   "cell_type": "markdown",
   "id": "4840f881-c6da-46c1-a155-7b925424c5df",
   "metadata": {},
   "source": [
    "## Clase\n",
    "---"
   ]
  },
  {
   "cell_type": "markdown",
   "id": "e30786c4-a6e1-4c9e-abdb-26482a6a7872",
   "metadata": {},
   "source": [
    "* Modelo (plantilla, molde) donde se redactan las características comunes de un grupo de objetos\n",
    "* Tiene como responsabilidad crear objetos del mismo tipo\n",
    "* Se compone de una declaración y un cuerpo\n",
    "* Cada clase, excepto la clase Object, es una extensión (subclase), de una sola clase ya existente (herencia simple)\n",
    "* Si una clase no declara explícitamente su superclase, entonces se asume que extiende a la clase Object"
   ]
  },
  {
   "cell_type": "code",
   "execution_count": null,
   "id": "0d774ff8-63f1-4956-8893-8a7bd0e8a647",
   "metadata": {},
   "outputs": [],
   "source": [
    "  public class Auto {\n",
    "\n",
    "    // atributos del objeto\n",
    "    private int ruedas;\n",
    "    private boolean enMarcha;\n",
    "\n",
    "    // constructor: inicializa los atributos del objeto\n",
    "    public Auto() {\n",
    "      this(4);\n",
    "    }\n",
    "\n",
    "    // otro constructor, sobrecarga de constructores\n",
    "    // this: objeto actual\n",
    "    public Auto(int ruedas) {\n",
    "      this.ruedas = ruedas;\n",
    "      this.enMarcha = false;\n",
    "    }\n",
    "\n",
    "    // métodos\n",
    "    public void arrancar() {\n",
    "      this.enMarcha = true;\n",
    "    }\n",
    "\n",
    "    public String getEstado() {\n",
    "      return (this.enMarcha)? \"En marcha\" : \"Parado\";\n",
    "    }\n",
    "\n",
    "  }"
   ]
  },
  {
   "cell_type": "code",
   "execution_count": null,
   "id": "ba4ebcf8-d69a-4ad4-ba78-a80aff860f4b",
   "metadata": {},
   "outputs": [],
   "source": [
    "  public class DemoAuto {\n",
    "\n",
    "    public static void main(String [] args) {\n",
    "      Auto auto = new Auto();\n",
    "      System.out.prinltn(auto.getEstado());\n",
    "      auto.arrancar();\n",
    "      // auto.enMarcha = false es un error porque está encapsulado\n",
    "      System.out.prinltn(auto.getEstado());\n",
    "    }\n",
    "\n",
    "  }"
   ]
  },
  {
   "cell_type": "markdown",
   "id": "490dfee5-e83c-47b3-b13f-c25d7fc6eff4",
   "metadata": {},
   "source": [
    "## Modificadores\n",
    "---"
   ]
  },
  {
   "cell_type": "markdown",
   "id": "1b0b0e14-cc4b-4464-a295-95e6a7eb3c7d",
   "metadata": {},
   "source": [
    "### Modificadores de clase\n",
    "---"
   ]
  },
  {
   "cell_type": "markdown",
   "id": "18101041-ea34-4ead-a26a-40b2878b8c83",
   "metadata": {},
   "source": [
    "|    |    | Ejemplo |\n",
    "| -- | -- | -- |\n",
    "| **public**   | accedidas por todos | public class Auto {} |\n",
    "| **package**  | accedidas dentro del paquete donde fueron declaradas | class Auto {} |\n",
    "| **abstract** | no se pueden instanciar | public abstract class Vehiculo {} |\n",
    "| **final**    | no se pueden extender | public final class Auto {} |"
   ]
  },
  {
   "cell_type": "markdown",
   "id": "faef9d15-40aa-423f-9dbb-412de59743f3",
   "metadata": {},
   "source": [
    "### Modificadores de atributos\n",
    "---"
   ]
  },
  {
   "cell_type": "markdown",
   "id": "25481059-3721-4033-82ca-d38c755e1cfd",
   "metadata": {},
   "source": [
    "|    |    | Ejemplo |\n",
    "| -- | -- | -- |\n",
    "| **static** | variables de clase (variable compartida) | private static int contador; |\n",
    "| **final**  | constantes                               | private static final double PI = 3.14; |"
   ]
  },
  {
   "cell_type": "markdown",
   "id": "cb365ff7-e933-492a-9fe6-5dd65652e520",
   "metadata": {},
   "source": [
    "### Modificadores de métodos\n",
    "---"
   ]
  },
  {
   "cell_type": "markdown",
   "id": "50455ef9-7b44-454e-bb94-57839ce5c55c",
   "metadata": {},
   "source": [
    "|  | | Ejemplo |\n",
    "| -- | -- | -- |\n",
    "| **abstract**     | no tiene implementación. Debe ser miembro de una clase abstracta | public abstract double getSalary(); |\n",
    "| **static**       | no necesita de un objeto que lo controle. Lo invoca la clase | public static double pow(base, exp) {} |  \n",
    "| **final**        | no puede ser redefinido por las subclases | public final String toLowerCase() {} |\n",
    "| **native**       | está implementado en otro lenguaje | public native void diHola() {} |\n",
    "| **synchronized** | permite que múltiples objetos invoquen el mismo método con exclusión mutua | public synchronized void imprimir() {} |"
   ]
  },
  {
   "cell_type": "markdown",
   "id": "b844cc4f-ae23-46d3-b4f0-074a5e2fc4fe",
   "metadata": {},
   "source": [
    "## Convenciones de nombres\n",
    "---"
   ]
  },
  {
   "cell_type": "markdown",
   "id": "4fc1fbc6-b7dc-4a9b-8eea-0ae933b6603a",
   "metadata": {},
   "source": [
    "|                | UpperCamelCase | LowerCamelCase | LowerSnackCase     | UpperSnackCase |\n",
    "| --             | --             | --             | --                 | --             |\n",
    "| **Paquete**    |                |                | calculos_generales |                |\n",
    "| **Clase**      | AutoJapones    |                |                    |                |\n",
    "| **Atributo**   |                | lastName       |                    |                |\n",
    "| **Método**     |                | getSalary()    |                    |                |\n",
    "| **Constantes** |                |                |                    | NUMERO_PI      |"
   ]
  },
  {
   "cell_type": "markdown",
   "id": "d42c7306-80cd-4bda-9f89-635ac56ece75",
   "metadata": {},
   "source": [
    "## Métodos Getters y Setters (accesores)\n",
    "---"
   ]
  },
  {
   "cell_type": "markdown",
   "id": "940969d4-aa28-4de7-8c45-d9dd5776abd0",
   "metadata": {},
   "source": [
    "|             |            | Sirven para ... |\n",
    "| --          | --         | -- |\n",
    "| **Getters** | obtener    | obtener el valor de un atributo    |\n",
    "| **Setters** | establecer | establecer el valor de un atributo |"
   ]
  },
  {
   "cell_type": "code",
   "execution_count": null,
   "id": "91a3f140-50b4-400e-b14b-a28de04691c4",
   "metadata": {},
   "outputs": [],
   "source": [
    "public Integer getEdad() {\n",
    "    return this.edad;\n",
    "}\n",
    "\n",
    "public void setEdad(Integer edad) {\n",
    "    this.edad = edad;\n",
    "}"
   ]
  },
  {
   "cell_type": "markdown",
   "id": "e28e216a-5739-4d2c-b789-5deda1e8f0df",
   "metadata": {},
   "source": [
    "## Métodos privados\n",
    "---"
   ]
  },
  {
   "cell_type": "markdown",
   "id": "7d264661-a06a-462a-997f-4488b5724833",
   "metadata": {},
   "source": [
    "* Se declaran métodos privados cuando:\n",
    "  * Demasiado cerca de la implementación\n",
    "  * Requieren un determinado orden de llamada\n",
    "  * Se utilizan en las operaciones de la propia clase\n",
    "* La base del encapsulamiento se basa en que determinados métodos o atributos **no deben ser de acceso público por seguridad de manejo de datos**"
   ]
  },
  {
   "cell_type": "code",
   "execution_count": null,
   "id": "11409d77-fdeb-40a1-88ce-bf1b54014e50",
   "metadata": {},
   "outputs": [],
   "source": [
    "  public class Laptop {\n",
    "\n",
    "    private Color color;\n",
    "    private String marca;\n",
    "    \n",
    "    public void encender() {...}\n",
    "    public void apagar() {...}\n",
    "    public void reiniciar() {...}\n",
    "    private void cambiarRAM() {...}\n",
    "    private void cambiarHDD() {...}\n",
    "  }"
   ]
  },
  {
   "cell_type": "markdown",
   "id": "44608b68-9d28-4124-b869-c0192b8f0ab9",
   "metadata": {},
   "source": [
    "## Sintaxis básica\n",
    "---"
   ]
  },
  {
   "cell_type": "markdown",
   "id": "3c5a36a0-b1db-4697-bfec-7d356fefce0c",
   "metadata": {},
   "source": [
    "![Clase Coche](img/ejemplo-clase-coche.png)"
   ]
  },
  {
   "cell_type": "markdown",
   "id": "3919cd6c-8e62-44dc-8b19-e2fbfdef68a1",
   "metadata": {},
   "source": [
    "## Enumeradores\n",
    "---"
   ]
  },
  {
   "cell_type": "markdown",
   "id": "78b0c3aa-ff28-4a21-9d08-8ccbb079777d",
   "metadata": {},
   "source": [
    "* Conjunto de nombres simbólicos (miembros) asociados a valores únicos e inmutables\n",
    "* Para representar **constantes nombradas**, haciendo el código más claro y seguro\n",
    "* Para declarar variables con un conjunto restringido de valores"
   ]
  },
  {
   "cell_type": "markdown",
   "id": "22447fcf-d9f2-47ea-9026-89eb8ffac951",
   "metadata": {},
   "source": [
    "### Sin representación\n",
    "---"
   ]
  },
  {
   "cell_type": "code",
   "execution_count": null,
   "id": "2e0e21f1-7f9b-4cca-8dd6-4e177abea37b",
   "metadata": {},
   "outputs": [],
   "source": [
    "public enum Talle {\n",
    "    MINI, \n",
    "    MEDIANO, \n",
    "    GRANDE, \n",
    "    EXTRA_GRANDE;\n",
    "}"
   ]
  },
  {
   "cell_type": "code",
   "execution_count": null,
   "id": "5a20c35d-f96c-4a05-aeb1-ace33d36acf4",
   "metadata": {},
   "outputs": [],
   "source": [
    "Talle talle = Talle.MEDIANO;"
   ]
  },
  {
   "cell_type": "markdown",
   "id": "e3979e1b-c49a-49c5-a55a-1421be8bc738",
   "metadata": {},
   "source": [
    "### Con representación\n",
    "---"
   ]
  },
  {
   "cell_type": "code",
   "execution_count": null,
   "id": "d3db15d3-76f5-480c-9855-9a07d8083d16",
   "metadata": {},
   "outputs": [],
   "source": [
    "public enum Talle {\n",
    "    MINI(\"S\"), \n",
    "    MEDIANO(\"M\"), \n",
    "    GRANDE(\"X\");\n",
    "    private representacion;\n",
    "    private Talle(String representacion) { \n",
    "        this.setRepresentacion(representacion); \n",
    "    }\n",
    "}"
   ]
  },
  {
   "cell_type": "code",
   "execution_count": null,
   "id": "24e5c4fe-83ff-480b-a366-f9cdfbaaf310",
   "metadata": {},
   "outputs": [],
   "source": [
    "public enum Dia {\n",
    "    LUNES(1), \n",
    "    MARTES(2), \n",
    "    MIERCOLES(3);\n",
    "    private int numero;\n",
    "    Dia(int numero) {\n",
    "        this.numero = numero;\n",
    "    }\n",
    "    public int getNumero() { \n",
    "        return numero; \n",
    "    }\n",
    "}"
   ]
  },
  {
   "cell_type": "markdown",
   "id": "8f0d3745-252d-418d-9bea-6ac5b2fc3a54",
   "metadata": {},
   "source": [
    "## Pruebas unitarias\n",
    "---"
   ]
  },
  {
   "cell_type": "markdown",
   "id": "fc6113af-7932-426f-82f2-1a71cee4f940",
   "metadata": {},
   "source": [
    "* Evaluar si el funcionamiento de cada uno de los métodos de la clase se comporta como se espera\n",
    "* El resultado de la prueba puede ser PASS o FAIL"
   ]
  },
  {
   "cell_type": "code",
   "execution_count": null,
   "id": "08adf5c5-aede-4bb2-b1cc-89a783318973",
   "metadata": {},
   "outputs": [],
   "source": [
    "public class Matematicas {\n",
    "\n",
    "    public static int sumar(int op1, int op2) {\n",
    "        return op1 + op2;\n",
    "    }\n",
    "\n",
    "}"
   ]
  },
  {
   "cell_type": "code",
   "execution_count": null,
   "id": "b922231a-99c6-4f15-8889-82b7cadfa03e",
   "metadata": {},
   "outputs": [],
   "source": [
    "import static org.junit.jupiter.api.Assertions.assertEquals;\n",
    "import org.junit.jupiter.api.Test;\n",
    "public class SumadorTest {\n",
    "\n",
    "    @Test\n",
    "    public testSuma1Y2() {\n",
    "        assertEquals(3, Matematicas.sumar(1, 2));\n",
    "    }\n",
    "\n",
    "}"
   ]
  },
  {
   "cell_type": "markdown",
   "id": "12a59e0e-632a-4ef1-a5b6-685da89fdeb1",
   "metadata": {},
   "source": [
    "## Operador == vs Método equals\n",
    "---"
   ]
  },
  {
   "cell_type": "markdown",
   "id": "8ecb8ca6-153c-49c7-b72f-4d4ebf6fd7b1",
   "metadata": {},
   "source": [
    "* **==**: realiza una comparación equivalencias. Dadas dos referencias **x** e **y**, **x == y** devuelve **true** si y solo si **x** e **y** refieren al mismo objeto\n",
    "* **equals**: para poder comparar dos objetos a fin de saber si son iguales, debemos proveer (sobrescribir) el método **equals**"
   ]
  },
  {
   "cell_type": "code",
   "execution_count": null,
   "id": "fb689c3a-5298-4b1d-997c-025d5a72730f",
   "metadata": {},
   "outputs": [],
   "source": [
    " @Override\n",
    "  public boolean equals(Object obj){\n",
    "      if(this == obj) //pregunta si las referencias son iguales\n",
    "          return true;\n",
    "      if(obj == null) //pregunta si el parámetro es null\n",
    "          return false;\n",
    "      if(this.getClass() != obj.getClass() //pregunta si los objetos \n",
    "          return false;                    //son de distinta clase\n",
    "      Fecha f = (Fecha) obj; // Casteo de obj a tipo Fecha\n",
    "      //finalmente compara uno a uno los atributos\n",
    "      return (this.dia == f.dia && this.mes == f.mes && this.anio == f.anio)\n",
    "  }"
   ]
  },
  {
   "cell_type": "code",
   "execution_count": null,
   "id": "3f642b69-684c-4fc8-b8cd-33ac493df837",
   "metadata": {},
   "outputs": [],
   "source": [
    "  int x = 7;\n",
    "  int y = x;\n",
    "  Fecha f = new Fecha(22,12,2020);\n",
    "  Fecha g = new Fecha(22,12,2020);"
   ]
  },
  {
   "cell_type": "markdown",
   "id": "97393f3d-8c87-4b97-b53e-cfb7a82e8fcd",
   "metadata": {},
   "source": [
    "## Usos de la referencia this"
   ]
  },
  {
   "cell_type": "markdown",
   "id": "9d5aa3cf-0fed-4af5-8bb9-290576b5237e",
   "metadata": {},
   "source": [
    "* Resolución de ambigüedades entre parámetros y atributos\n",
    "* Pasaje del objeto actual como parámetro a otro método\n",
    "* Invocación explícita de métodos de la propia clase\n",
    "* Invocación del constructor de la clase actual"
   ]
  },
  {
   "cell_type": "code",
   "execution_count": null,
   "id": "9584db01-3599-4ae6-bd37-2a565f2e5c87",
   "metadata": {},
   "outputs": [],
   "source": [
    "class Circulo {\n",
    "\n",
    "    private double radio;\n",
    "    \n",
    "    public Circulo() {\n",
    "      this(1.0);\n",
    "    }\n",
    "    \n",
    "    public Circulo(double radio) { \n",
    "      this.setRadio(radio);\n",
    "    }\n",
    "    \n",
    "    public void setRadio(double radio) {\n",
    "      if(radio <=0)\n",
    "        throw new Error(\"Radio Inválido\");\n",
    "      this.radio = radio;\n",
    "    }\n",
    "    \n",
    "    public void setDiametro(double diametro) {\n",
    "      this.setRadio(diametro/2);\n",
    "    }\n",
    "    \n",
    "    public double getRadio() { \n",
    "      return this.radio;\n",
    "    }\n",
    "    \n",
    "    public double getDiametro(){\n",
    "      return this.getRadio() * 2;\n",
    "    }\n",
    "    \n",
    "    public double getPerimetro() {\n",
    "      return this.getDiametro() * Math.PI; \n",
    "    }\n",
    "        \n",
    "    public double getArea() {\n",
    "      return Math.PI * Math.pow(this.getRadio(),2);\n",
    "    }\n",
    "\n",
    "}"
   ]
  }
 ],
 "metadata": {
  "kernelspec": {
   "display_name": "Python [conda env:base] *",
   "language": "python",
   "name": "conda-base-py"
  },
  "language_info": {
   "codemirror_mode": {
    "name": "ipython",
    "version": 3
   },
   "file_extension": ".py",
   "mimetype": "text/x-python",
   "name": "python",
   "nbconvert_exporter": "python",
   "pygments_lexer": "ipython3",
   "version": "3.12.7"
  }
 },
 "nbformat": 4,
 "nbformat_minor": 5
}
