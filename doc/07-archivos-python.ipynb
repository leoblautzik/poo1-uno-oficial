{
 "cells": [
  {
   "cell_type": "markdown",
   "id": "1e322602-4b10-4c83-ba24-f45c5a648318",
   "metadata": {},
   "source": [
    "# Archivos - Python\n",
    "---"
   ]
  },
  {
   "cell_type": "markdown",
   "id": "610c2fe7-fc20-4081-bc92-96e24fabec1c",
   "metadata": {},
   "source": [
    "* Administración del Sistema de Archivos\n",
    "* Persistencia de datos (Buffering)"
   ]
  },
  {
   "cell_type": "markdown",
   "id": "e7ed0fc1-f00b-4e5c-a81b-370360c04e55",
   "metadata": {},
   "source": [
    "## Administración del Sistema de Archivos\n",
    "---"
   ]
  },
  {
   "cell_type": "code",
   "execution_count": 1,
   "id": "d1f697b2-4811-4ad3-836e-d4e790a1be24",
   "metadata": {},
   "outputs": [
    {
     "ename": "NameError",
     "evalue": "name 'ruta1' is not defined",
     "output_type": "error",
     "traceback": [
      "\u001b[0;31m---------------------------------------------------------------------------\u001b[0m",
      "\u001b[0;31mNameError\u001b[0m                                 Traceback (most recent call last)",
      "Cell \u001b[0;32mIn[1], line 3\u001b[0m\n\u001b[1;32m      1\u001b[0m \u001b[38;5;28;01mimport\u001b[39;00m \u001b[38;5;21;01mos\u001b[39;00m\n\u001b[0;32m----> 3\u001b[0m os\u001b[38;5;241m.\u001b[39mrename(ruta1, ruta2)\n\u001b[1;32m      4\u001b[0m os\u001b[38;5;241m.\u001b[39mremove(ruta)\n\u001b[1;32m      5\u001b[0m os\u001b[38;5;241m.\u001b[39mpath\u001b[38;5;241m.\u001b[39misfile(\u001b[38;5;124m'\u001b[39m\u001b[38;5;124m./proy/PY\u001b[39m\u001b[38;5;124m'\u001b[39m)  \u001b[38;5;66;03m# True si es un archivo\u001b[39;00m\n",
      "\u001b[0;31mNameError\u001b[0m: name 'ruta1' is not defined"
     ]
    }
   ],
   "source": [
    "import os\n",
    "\n",
    "os.rename(ruta1, ruta2)\n",
    "os.remove(ruta)\n",
    "os.path.isfile('./proy/PY')  # True si es un archivo\n",
    "for f in os.listdir('.'):    # Lista de archivos y directorios\n",
    "    print(f.title())\n",
    "\n",
    "os.mkdir(ruta)  # crea nuevo directorio\n",
    "os.chdir(ruta)  # cambia directorio actual por ruta\n",
    "os.getcwd()     # devuelve ruta directorio actual\n",
    "os.rmdir(ruta)  # borra directorio de la ruta, siempre y cuando esté vacio"
   ]
  },
  {
   "cell_type": "markdown",
   "id": "1cd30c39-6e04-47d5-a3ae-62eb9bcb6631",
   "metadata": {},
   "source": [
    "## Persistencia de datos\n",
    "---"
   ]
  },
  {
   "cell_type": "markdown",
   "id": "26e5432f-6347-4fc1-a7de-0d6360042b9f",
   "metadata": {},
   "source": [
    "* Flujo de ENTRADA: abstracción que consume información\n",
    "* Flujo de SALIDA: abstracción que produce información\n",
    "* Operaciones de Flujo:\n",
    "    1. Apertura del Flujo\n",
    "    1. Lectura/Escritura en el flujo\n",
    "    1. Cierre del Flujo "
   ]
  },
  {
   "cell_type": "markdown",
   "id": "7983829a-f9d0-4752-a733-364857d76052",
   "metadata": {},
   "source": [
    "![Flujos](img/flujos.png)"
   ]
  },
  {
   "cell_type": "code",
   "execution_count": 2,
   "id": "7ed8c334-17f9-4efb-be8e-16d75dfc0b6c",
   "metadata": {},
   "outputs": [],
   "source": [
    "from io import open"
   ]
  },
  {
   "cell_type": "markdown",
   "id": "17c75826-cd5c-4d83-8d13-497e69fb0217",
   "metadata": {},
   "source": [
    "### Escritura\n",
    "---"
   ]
  },
  {
   "cell_type": "code",
   "execution_count": null,
   "id": "c5700ffa-7980-4700-b518-36500246be29",
   "metadata": {},
   "outputs": [],
   "source": [
    "# Si el archivo no existe, el método open lo crea\n",
    "# 'w': escritura -> reemplaza\n",
    "# 'a': append    -> agrega\n",
    "fw = open('archivo.txt', 'w')    \n",
    "fw.write('Hola mundo \\n cruel')\n",
    "fw.close()"
   ]
  },
  {
   "cell_type": "markdown",
   "id": "52fe8643-a436-49c9-b24e-a442894611fa",
   "metadata": {},
   "source": [
    "### Lectura\n",
    "---"
   ]
  },
  {
   "cell_type": "code",
   "execution_count": null,
   "id": "872c6e10-5c27-46d3-b32b-c908f5b56b33",
   "metadata": {},
   "outputs": [],
   "source": [
    "# 'r': lectura\n",
    "fr = open('archivo.txt', 'r')\n",
    "texto = fr.read()           # devuelve todo el contenido del archivo\n",
    "lines = fr.readLines()      # devuelve lista de lineas\n",
    "print(texto)\n",
    "print(lines[0])\n",
    "fr.seek(0)                  # se cambia posición del puntero añ caracter en posición 0\n",
    "fr.read(11)                 # lee hasta el caracter en posición 11\n",
    "fr.close()"
   ]
  },
  {
   "cell_type": "markdown",
   "id": "7565e3a3-a9e7-4371-87e1-28178213865a",
   "metadata": {},
   "source": [
    "### Lectura/Escritura\n",
    "---"
   ]
  },
  {
   "cell_type": "code",
   "execution_count": null,
   "id": "85af7f59-eb60-4d32-b64b-ee2f05b6dbcd",
   "metadata": {},
   "outputs": [],
   "source": [
    "# 'r+': lectura/escritura\n",
    "f = open('archivo.txt', 'r+')\n",
    "f.write('Comienzo del texto')\n",
    "lista = f.readlines()\n",
    "lista[1] = 'linea incluida desde el exterior \\n'\n",
    "f.seek(0)\n",
    "f.writelines(lista)\n",
    "f.close()"
   ]
  }
 ],
 "metadata": {
  "kernelspec": {
   "display_name": "Python [conda env:base] *",
   "language": "python",
   "name": "conda-base-py"
  },
  "language_info": {
   "codemirror_mode": {
    "name": "ipython",
    "version": 3
   },
   "file_extension": ".py",
   "mimetype": "text/x-python",
   "name": "python",
   "nbconvert_exporter": "python",
   "pygments_lexer": "ipython3",
   "version": "3.12.7"
  }
 },
 "nbformat": 4,
 "nbformat_minor": 5
}
