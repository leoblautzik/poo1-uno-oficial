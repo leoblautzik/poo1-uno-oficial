{
 "cells": [
  {
   "cell_type": "markdown",
   "id": "fe28492c-58ad-43fd-a140-e745231bb191",
   "metadata": {},
   "source": [
    "# Anotaciones - Java\n",
    "---"
   ]
  },
  {
   "cell_type": "markdown",
   "id": "40766ede-3d30-4c73-a223-6ded4f330206",
   "metadata": {},
   "source": [
    "* Son marcadores que se insertan en el código fuente para procesarlas empleando ciertas herramientas"
   ]
  },
  {
   "cell_type": "markdown",
   "id": "0ae31531-1767-4c8e-ba19-c0d6370d1321",
   "metadata": {},
   "source": [
    "## Declaración\n",
    "---"
   ]
  },
  {
   "cell_type": "code",
   "execution_count": null,
   "id": "eaecec03-bfbb-4307-908f-a8db73cb7526",
   "metadata": {},
   "outputs": [],
   "source": [
    "// extienden implícitamente la interface java.lang.annotation.Annotation\n",
    "public @interface NotificacionError {\n",
    "    // declaraciones de elementos\n",
    "    // tipos: primitivos, String, class, enum, annotation, [] de anteriores\n",
    "    String asignadoA() default \"[none]\";\n",
    "    int severidad() default 0;\n",
    "}"
   ]
  },
  {
   "cell_type": "markdown",
   "id": "1c5276dd-48d7-400f-8d9a-cc807267b722",
   "metadata": {},
   "source": [
    "## Uso\n",
    "---"
   ]
  },
  {
   "cell_type": "code",
   "execution_count": null,
   "id": "46323944-e6b3-4d42-ba83-eba404558b8b",
   "metadata": {},
   "outputs": [],
   "source": [
    "@NotificacionError(severidad=10, asignadoA=\"Harry\")\n",
    "@NotificacionError(severidad=10)\n",
    "@NotificacionError"
   ]
  },
  {
   "cell_type": "markdown",
   "id": "6c040bc2-6bc2-4f88-b5b0-2fc2c3444ea5",
   "metadata": {},
   "source": [
    "## Metaanotaciones\n",
    "---"
   ]
  },
  {
   "cell_type": "markdown",
   "id": "2efc9b35-5d4d-4096-b3a4-ead1b1a3530c",
   "metadata": {},
   "source": [
    "| Metaanotación |  | Ejemplo 1 | Ejemplo 2 | Ejemplo 3 |\n",
    "| -- | -- | -- | -- | -- |\n",
    "| **@Target** | restringe los elementos a los que se puede aplicar la anotación | @Target(ElementType.PACKAGE) | @Target({ElementType.METHOD, ElementType.CONSTRUCTOR}) | |\n",
    "| **@Retention** | inclusión de anotaciones | @Retention(RetentionPolicy.SOURCE) | @Retention(RetentionPolicy.CLASS)  | @Retention(RetentionPolicy.RUNTIME) |"
   ]
  },
  {
   "cell_type": "markdown",
   "id": "67298ed8-83b9-4eb2-8fe5-ed4622093e36",
   "metadata": {},
   "source": [
    "## Ejemplo\n",
    "---"
   ]
  },
  {
   "cell_type": "markdown",
   "id": "13d26d14-5a28-4127-97a5-5eb30f8ca4f4",
   "metadata": {},
   "source": [
    "### 1. Crear la anotación\n",
    "---"
   ]
  },
  {
   "cell_type": "code",
   "execution_count": null,
   "id": "ae6c5eeb-c49f-443c-97eb-27537b619f88",
   "metadata": {},
   "outputs": [],
   "source": [
    "@Retention(RetentionPolicy.RUNTIME)\n",
    "@Target(ElementType.TYPE)\n",
    "public @interface Anotacion {\n",
    "    int elemento1();\n",
    "    String elemento2();\n",
    "}"
   ]
  },
  {
   "cell_type": "markdown",
   "id": "a3dd2eb5-b302-4fa5-8492-ce5e3ec85e07",
   "metadata": {},
   "source": [
    "### 2. Usar la anotación\n",
    "---"
   ]
  },
  {
   "cell_type": "code",
   "execution_count": null,
   "id": "3855e7fc-c172-4215-8fd2-76d83552eddb",
   "metadata": {},
   "outputs": [],
   "source": [
    "@Anotacion(elemento1=999, elemento2=\"Prueba\")\n",
    "public class Clase {\n",
    "    // TODO\n",
    "}"
   ]
  },
  {
   "cell_type": "markdown",
   "id": "5ce26549-1a42-4516-90b1-e9dbdb13439a",
   "metadata": {},
   "source": [
    "### 3. Procesar la anotación"
   ]
  },
  {
   "cell_type": "code",
   "execution_count": null,
   "id": "29f7258b-6a66-434f-aca9-73e33a651b15",
   "metadata": {},
   "outputs": [],
   "source": [
    "Anotacion anotacion = (Anotacion) Clase.class.getAnnotation(Anotacion.class);\n",
    "if (anotacion != null) {\n",
    "    System.out.println(anotacion.elemento1());\n",
    "    System.out.println(anotacion.elemento2());\n",
    "}"
   ]
  }
 ],
 "metadata": {
  "kernelspec": {
   "display_name": "Python [conda env:base] *",
   "language": "python",
   "name": "conda-base-py"
  },
  "language_info": {
   "codemirror_mode": {
    "name": "ipython",
    "version": 3
   },
   "file_extension": ".py",
   "mimetype": "text/x-python",
   "name": "python",
   "nbconvert_exporter": "python",
   "pygments_lexer": "ipython3",
   "version": "3.12.7"
  }
 },
 "nbformat": 4,
 "nbformat_minor": 5
}
