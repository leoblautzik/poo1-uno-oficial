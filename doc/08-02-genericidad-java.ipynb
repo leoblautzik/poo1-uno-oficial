{
 "cells": [
  {
   "cell_type": "markdown",
   "id": "034ac836-77ba-4d2b-8f33-7c8a2a37f30d",
   "metadata": {},
   "source": [
    "# Genericidad - Java\n",
    "---"
   ]
  },
  {
   "cell_type": "markdown",
   "id": "64e50b34-ba14-40a7-964a-43a7343eb908",
   "metadata": {},
   "source": [
    "* Consiste en escribir código con **variables de tipos (TV)** que se puede reutilizar para objetos de muy distintos tipos"
   ]
  },
  {
   "cell_type": "markdown",
   "id": "7946fb75-633e-4b8f-929b-78dec5111bd1",
   "metadata": {},
   "source": [
    "## Convención de nombres de las variables de tipos\n",
    "---"
   ]
  },
  {
   "cell_type": "markdown",
   "id": "eff425c0-33f1-4a73-a519-0d1decdcec2c",
   "metadata": {},
   "source": [
    "| Nombre | Descripción | Ejemplo |\n",
    "| -- | -- | -- |\n",
    "| **E**       | Tipo de elemento de las colecciones | ArrayList\\<E> |\n",
    "| **K**       | Tipo de clave                       | Hashtable<K,V> |\n",
    "| **V**       | Valor de las tablas                 | Dictionary<K,V> |\n",
    "| **T, U, V** | Absolutamente cualquier tipo        | Comparable\\<T> |"
   ]
  },
  {
   "cell_type": "markdown",
   "id": "508a2932-8fb7-4f88-a728-a51f5f6f2b60",
   "metadata": {},
   "source": [
    "## Genérico con Método/Función\n",
    "---"
   ]
  },
  {
   "cell_type": "code",
   "execution_count": null,
   "id": "71f010ae-a25c-418f-9e40-823785ac71e2",
   "metadata": {},
   "outputs": [],
   "source": [
    "// se puede definir métodos genéricos con variables de tipos sin que la clase sea genérica\n",
    "public class Colecciones {\n",
    "\n",
    "    public static <T> T getPrimero(T[] items) {\n",
    "        if (items == null) return null;\n",
    "        if (items.length == 0) return null;\n",
    "        return items[0];\n",
    "    }\n",
    "\n",
    "}\n",
    "\n",
    "// uso\n",
    "String [] letras = {\"a\", \"b\", \"c\"};\n",
    "Integer [] nros  = {1, 2, 3};\n",
    "String  priL = Colecciones.<String>getPrimero(letras);  // \"a\"\n",
    "Integer priN = Colecciones.<Integer>getPrimero(nros);   // 1"
   ]
  },
  {
   "cell_type": "markdown",
   "id": "bbe1ec22-132d-402c-81fd-82a4b7e0ebcf",
   "metadata": {},
   "source": [
    "## Genérico con diferentes tipos de datos\n",
    "---"
   ]
  },
  {
   "cell_type": "code",
   "execution_count": null,
   "id": "8b493b62-366c-4ce3-a51c-1aafee3f050b",
   "metadata": {},
   "outputs": [],
   "source": [
    "public class Utils {\n",
    "\n",
    "    public static <T, U> String combinar(T a, U b) {\n",
    "        if (a == null || b == null) return null;\n",
    "        return a.toString() + b.toString();\n",
    "    }\n",
    "\n",
    "}\n",
    "\n",
    "// uso\n",
    "System.out.println(Utils.<Integer, Integer>combinar(10, 20));        // \"1020\"\n",
    "System.out.println(Utils.<String, Integer>combinar(\"Oi\", 9111975));  // \"Oi9111975\""
   ]
  },
  {
   "cell_type": "markdown",
   "id": "ba43eabc-6b35-4b32-86fc-88228aa33599",
   "metadata": {},
   "source": [
    "## Genérico con clase\n",
    "---"
   ]
  },
  {
   "cell_type": "code",
   "execution_count": null,
   "id": "c127fe0f-5dcc-423c-a36f-da8ba71a66f9",
   "metadata": {},
   "outputs": [],
   "source": [
    "public class Contenedor <T> {\n",
    "\n",
    "    private T contenido;\n",
    "    \n",
    "    public Contenedor(T contenido) {\n",
    "        this.contenido = contenido;\n",
    "    }\n",
    "    \n",
    "    public T getContenido() {\n",
    "        return this.contenido; \n",
    "    }\n",
    "\n",
    "}\n",
    "\n",
    "// uso\n",
    "Contenedor<Integer> cInt = new Contenedor<Integer>(10);\n",
    "Contenedor<String> cStr = new Contenedor<String>(\"Oi\");\n",
    "System.out.println(cInt.getContenido());  // 10\n",
    "System.out.println(cStr.getContenido());  // \"Oi\""
   ]
  },
  {
   "cell_type": "markdown",
   "id": "1955f28f-6e01-4560-bfbd-4a125ab88921",
   "metadata": {},
   "source": [
    "## Límites para las TV\n",
    "---"
   ]
  },
  {
   "cell_type": "markdown",
   "id": "23c8c2d7-0cd8-4558-9092-bf488b37a761",
   "metadata": {},
   "source": [
    "| Límite | Ejemplo |\n",
    "| -- | -- |\n",
    "| Restringir la TV a una clase que implemente una interface o subclase | `public static <T extends Comparable<T>> T minimo(T[] arreglo) {}` |\n",
    "| Las TVs pueden tener múltiples límites | `<T extends Comparable<T> & Serializable>` |"
   ]
  },
  {
   "cell_type": "markdown",
   "id": "008e77f6-43a6-4c1b-9da6-196e2255fdaa",
   "metadata": {},
   "source": [
    "## Restricciones para las TV\n",
    "---"
   ]
  },
  {
   "cell_type": "markdown",
   "id": "3a98b1a7-7fc0-460e-971b-e326795adda9",
   "metadata": {},
   "source": [
    "| Restricción: No es posible... | Ejemplo |\n",
    "| -- | -- |\n",
    "| Reemplazar una TV por un primitivo             | `T a = 0;` |\n",
    "| Lanzar ni capturar objetos de clases genéricas | `throw new A<String>()` |\n",
    "| Que una clase genérica extienda a Throwable    | `public class A <T> extends Throwable` |\n",
    "| Declarar arreglos de tipos parametrizados      | `Pareja<String> [] v = new Pareja<String>(10);` |\n",
    "| Crear objetos de TV                            | `new T();` |\n",
    "| Hacer referencias a TVs en atributos o métodos estáticos | `private static T ejemplarUnico;` |"
   ]
  }
 ],
 "metadata": {
  "kernelspec": {
   "display_name": "Python [conda env:base] *",
   "language": "python",
   "name": "conda-base-py"
  },
  "language_info": {
   "codemirror_mode": {
    "name": "ipython",
    "version": 3
   },
   "file_extension": ".py",
   "mimetype": "text/x-python",
   "name": "python",
   "nbconvert_exporter": "python",
   "pygments_lexer": "ipython3",
   "version": "3.12.7"
  }
 },
 "nbformat": 4,
 "nbformat_minor": 5
}
