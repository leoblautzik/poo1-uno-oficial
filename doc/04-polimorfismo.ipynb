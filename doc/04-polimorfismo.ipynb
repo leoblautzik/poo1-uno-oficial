{
 "cells": [
  {
   "cell_type": "markdown",
   "id": "30c31afd-9659-4173-aa52-8c3a53d3b568",
   "metadata": {},
   "source": [
    "# Polimorfismo\n",
    "---"
   ]
  },
  {
   "cell_type": "markdown",
   "id": "2d2196ce-c893-43c2-8d64-c4b480d09652",
   "metadata": {},
   "source": [
    "* Se refiere a la propiedad por la que es posible enviar mensajes sintácticamente iguales a objetos de tipos distintos\n",
    "* Ejemplo 1: todos los objetos responden a equals/\\_\\_eq\\_\\_, toString/\\_\\_str\\_\\_, etc.\n",
    "* Ejemplo 2: un celular se puede apagar, una lampara se pude apagar, ..., todos los objetos apagables se pueden apagar"
   ]
  },
  {
   "cell_type": "markdown",
   "id": "5256c6fb-4a7b-42bf-a17b-9df61bced471",
   "metadata": {},
   "source": [
    "## ¿Como funciona?\n",
    "---"
   ]
  },
  {
   "cell_type": "markdown",
   "id": "98da2e55-2589-45b5-b0a7-812a72d17f8b",
   "metadata": {},
   "source": [
    "![Como funciona](img/polimorfismo1.png)"
   ]
  },
  {
   "cell_type": "markdown",
   "id": "3957a509-36c2-48a6-bd35-fde5057e1129",
   "metadata": {},
   "source": [
    "* Dos o más objetos son polimórficos respecto de un conjunto de mensajes, si todos pueden responder estos mensajes, aún cuando cada uno lo haga de un modo diferente\n",
    "* Objetos polimórficos corresponden a un mismo “tipo” de objeto -> mismo comportamiento esencial, independientemente de implementación\n",
    "* Permite que clases de distintos tipos puedan ser referenciadas por una misma variable"
   ]
  },
  {
   "cell_type": "markdown",
   "id": "5175ba6a-0ffb-430b-bfc6-35d8bba38753",
   "metadata": {},
   "source": [
    "## Ejemplo\n",
    "---"
   ]
  },
  {
   "cell_type": "markdown",
   "id": "ce88900b-5a2b-45b9-939e-860e57ce22ca",
   "metadata": {},
   "source": [
    "![Dos objetos polimórficos](img/polimorfismo2.png)"
   ]
  },
  {
   "cell_type": "markdown",
   "id": "a34f2370-4816-45f6-a6a7-0db153572394",
   "metadata": {},
   "source": [
    "![Polimorfismo: ¿Para qué?](img/polimorfismo3.png)"
   ]
  },
  {
   "cell_type": "markdown",
   "id": "dcd58bb1-7941-499c-b712-9b4854b318f8",
   "metadata": {},
   "source": [
    "* Es la clave de un buen diseño:\n",
    "  * \"Código\" genérico\n",
    "  * Objetos desacoplados\n",
    "  * Objetos intercambiables\n",
    "  * Objetos reusables\n",
    "  * Programar por protocolo, no por implementación (buscar la esencia)"
   ]
  },
  {
   "cell_type": "markdown",
   "id": "4547ed52-1667-490c-8001-99a1bdf416d9",
   "metadata": {},
   "source": [
    "## Principios SOLID\n",
    "---"
   ]
  },
  {
   "cell_type": "markdown",
   "id": "670a8028-d533-44f3-87ec-29d5aa0d6a4a",
   "metadata": {},
   "source": [
    "* Conjunto de 5 principios que facilitan el testeo, mantenimiento y la legibilidad del código\n",
    "* SOLID es el acrónimo mnemónico que hace referencia a cada uno de los principios por sus siglas en inglés:\n",
    "\n",
    "||||\n",
    "| -- | -- | -- |\n",
    "| **S**ingle Responsibility Principle | SRP | Principio de Responsabilidad Única     |\n",
    "| **O**pen-Closed Principle           | OCP | Principio de Abierto/Cerrado           |\n",
    "| **L**iskov Substitution Principle   | LSP | Principio de Substitución de Liskov    |\n",
    "| **I**nterface Segregation Principle | ISP | Principio de Segregación de Interfaz   |\n",
    "| **D**ependency Inversion Principle  | DIP | Principio de Inversión de Dependencias |\n",
    "\n",
    "* [Ejemplos en Python](https://blog.damavis.com/los-principios-solid-ilustrados-en-ejemplos-sencillos-de-python/)"
   ]
  }
 ],
 "metadata": {
  "kernelspec": {
   "display_name": "Python [conda env:base] *",
   "language": "python",
   "name": "conda-base-py"
  },
  "language_info": {
   "codemirror_mode": {
    "name": "ipython",
    "version": 3
   },
   "file_extension": ".py",
   "mimetype": "text/x-python",
   "name": "python",
   "nbconvert_exporter": "python",
   "pygments_lexer": "ipython3",
   "version": "3.12.7"
  }
 },
 "nbformat": 4,
 "nbformat_minor": 5
}
