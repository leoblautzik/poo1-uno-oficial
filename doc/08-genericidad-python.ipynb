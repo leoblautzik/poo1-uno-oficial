{
 "cells": [
  {
   "cell_type": "markdown",
   "id": "034ac836-77ba-4d2b-8f33-7c8a2a37f30d",
   "metadata": {},
   "source": [
    "# Genericidad - Python\n",
    "---"
   ]
  },
  {
   "cell_type": "markdown",
   "id": "64e50b34-ba14-40a7-964a-43a7343eb908",
   "metadata": {},
   "source": [
    "* Consiste en escribir código con **variables de tipos (TV)** que se puede reutilizar para objetos de muy distintos tipos"
   ]
  },
  {
   "cell_type": "markdown",
   "id": "508a2932-8fb7-4f88-a728-a51f5f6f2b60",
   "metadata": {},
   "source": [
    "## Genérico con Método/Función\n",
    "---"
   ]
  },
  {
   "cell_type": "code",
   "execution_count": 5,
   "id": "3d048ccb-018f-445d-a4bc-5b8a709f653c",
   "metadata": {},
   "outputs": [],
   "source": [
    "from typing import TypeVar, List\n",
    "\n",
    "T = TypeVar('T')\n",
    "\n",
    "def get_primero(items: List[T]) -> T:\n",
    "    return items[0]"
   ]
  },
  {
   "cell_type": "code",
   "execution_count": 6,
   "id": "82806351-a766-4062-bf86-2daaa67953d3",
   "metadata": {},
   "outputs": [
    {
     "data": {
      "text/plain": [
       "'a'"
      ]
     },
     "execution_count": 6,
     "metadata": {},
     "output_type": "execute_result"
    }
   ],
   "source": [
    "get_primero(['a', 'b', 'c'])"
   ]
  },
  {
   "cell_type": "code",
   "execution_count": 7,
   "id": "3a575c41-75e3-40f7-bda3-73c109f54d2b",
   "metadata": {},
   "outputs": [
    {
     "data": {
      "text/plain": [
       "1"
      ]
     },
     "execution_count": 7,
     "metadata": {},
     "output_type": "execute_result"
    }
   ],
   "source": [
    "get_primero([1, 2, 3])"
   ]
  },
  {
   "cell_type": "markdown",
   "id": "bbe1ec22-132d-402c-81fd-82a4b7e0ebcf",
   "metadata": {},
   "source": [
    "## Genérico con diferentes tipos de datos\n",
    "---"
   ]
  },
  {
   "cell_type": "code",
   "execution_count": 8,
   "id": "ff7889dc-302f-4d53-807c-7493fe4534d2",
   "metadata": {},
   "outputs": [],
   "source": [
    "from typing import TypeVar\n",
    "\n",
    "T = TypeVar('T')\n",
    "U = TypeVar('U')\n",
    "\n",
    "def combinar(a: T, b: U) -> str:\n",
    "    return str(a) + str(b)"
   ]
  },
  {
   "cell_type": "code",
   "execution_count": 9,
   "id": "08f45cb7-65cb-48b0-ade2-e7da7079225e",
   "metadata": {},
   "outputs": [
    {
     "data": {
      "text/plain": [
       "'1020'"
      ]
     },
     "execution_count": 9,
     "metadata": {},
     "output_type": "execute_result"
    }
   ],
   "source": [
    "combinar(10, 20)"
   ]
  },
  {
   "cell_type": "code",
   "execution_count": 10,
   "id": "55b86cf1-028c-4fb4-9621-4a7f8e29c85a",
   "metadata": {},
   "outputs": [
    {
     "data": {
      "text/plain": [
       "'Oi9111975'"
      ]
     },
     "execution_count": 10,
     "metadata": {},
     "output_type": "execute_result"
    }
   ],
   "source": [
    "combinar('Oi', 9111975)"
   ]
  },
  {
   "cell_type": "markdown",
   "id": "ba43eabc-6b35-4b32-86fc-88228aa33599",
   "metadata": {},
   "source": [
    "## Genérico con clase\n",
    "---"
   ]
  },
  {
   "cell_type": "code",
   "execution_count": 12,
   "id": "c614529a-33a9-4306-819d-42f5c8f54e6f",
   "metadata": {},
   "outputs": [],
   "source": [
    "from typing import TypeVar, Generic\n",
    "\n",
    "T = TypeVar('T')\n",
    "\n",
    "class Contenedor(Generic[T]):\n",
    "\n",
    "  def __init__(self, contenido: T):\n",
    "      self.contenido = contenido\n",
    "  \n",
    "  def get_contenido(self) -> T:\n",
    "      return self.contenido"
   ]
  },
  {
   "cell_type": "code",
   "execution_count": 13,
   "id": "48377276-1509-46f5-9db4-3eae6c837c18",
   "metadata": {},
   "outputs": [
    {
     "data": {
      "text/plain": [
       "10"
      ]
     },
     "execution_count": 13,
     "metadata": {},
     "output_type": "execute_result"
    }
   ],
   "source": [
    "c_int = Contenedor(10)\n",
    "c_int.get_contenido()"
   ]
  },
  {
   "cell_type": "code",
   "execution_count": 14,
   "id": "1bbbbda6-5cd0-4a0e-bc36-193a42a653e8",
   "metadata": {},
   "outputs": [
    {
     "data": {
      "text/plain": [
       "'Oi'"
      ]
     },
     "execution_count": 14,
     "metadata": {},
     "output_type": "execute_result"
    }
   ],
   "source": [
    "c_str = Contenedor('Oi')\n",
    "c_str.get_contenido()"
   ]
  }
 ],
 "metadata": {
  "kernelspec": {
   "display_name": "Python [conda env:base] *",
   "language": "python",
   "name": "conda-base-py"
  },
  "language_info": {
   "codemirror_mode": {
    "name": "ipython",
    "version": 3
   },
   "file_extension": ".py",
   "mimetype": "text/x-python",
   "name": "python",
   "nbconvert_exporter": "python",
   "pygments_lexer": "ipython3",
   "version": "3.12.7"
  }
 },
 "nbformat": 4,
 "nbformat_minor": 5
}
