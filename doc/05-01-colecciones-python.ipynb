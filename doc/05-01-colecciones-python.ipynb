{
 "cells": [
  {
   "cell_type": "markdown",
   "id": "05b5c441-81c1-4661-aa7b-88f1be7e2fd2",
   "metadata": {},
   "source": [
    "# Colecciones\n",
    "---"
   ]
  },
  {
   "cell_type": "markdown",
   "id": "d729dbd7-a6de-49dd-a719-5176bde5d4b4",
   "metadata": {},
   "source": [
    "* Representa un grupo de objetos (elementos)\n",
    "* Es el almacén lógico donde guardar los elementos\n",
    "* Son formas de organizar la información para manipular, buscar e insertar datos de manera eficiente"
   ]
  },
  {
   "cell_type": "markdown",
   "id": "a7de0a8c-0663-465f-8477-aa6bc987c5c3",
   "metadata": {},
   "source": [
    "## Tipos\n",
    "---"
   ]
  },
  {
   "cell_type": "code",
   "execution_count": 1,
   "id": "f70cd2ae-4bf8-447e-aad3-e5454f80f9ea",
   "metadata": {},
   "outputs": [],
   "source": [
    "lista = [1, 3, 5, 2, 4]\n",
    "tupla = (1, 3, 5, 2, 4)     # inmutable\n",
    "rango = range(6)            \n",
    "dicc  = {'a' : 4, 'o' : 3}  # clave-valor\n",
    "conj  = {1, 3, 5, 2, 4}     # sin duplicados"
   ]
  },
  {
   "cell_type": "markdown",
   "id": "9620803b-329d-4fdf-885c-9809bb891862",
   "metadata": {},
   "source": [
    "## Listas\n",
    "---"
   ]
  },
  {
   "cell_type": "code",
   "execution_count": 2,
   "id": "9bea7a47-9e97-45cd-9cd5-996b5c44f905",
   "metadata": {},
   "outputs": [],
   "source": [
    "lista_vacia = []"
   ]
  },
  {
   "cell_type": "code",
   "execution_count": 3,
   "id": "59ed6a31-57d6-4ebb-a1ce-1fd0b1f37675",
   "metadata": {},
   "outputs": [],
   "source": [
    "lista_nombres = ['Rojo', 'Verde', 'Amarillo']"
   ]
  },
  {
   "cell_type": "code",
   "execution_count": 4,
   "id": "31e94fb8-01f3-44eb-be47-8be5cb643f07",
   "metadata": {},
   "outputs": [],
   "source": [
    "lista_num = [1, 3, 2, 4]"
   ]
  },
  {
   "cell_type": "code",
   "execution_count": 5,
   "id": "3e5dd5a2-f23a-4e4d-9676-32bb95eb3ed6",
   "metadata": {},
   "outputs": [],
   "source": [
    "lista_multi = [1, [3, 2], 4]"
   ]
  },
  {
   "cell_type": "markdown",
   "id": "96b9c979-cd54-414f-9a9c-d9d52fbf0994",
   "metadata": {},
   "source": [
    "### Operaciones con listas\n",
    "---"
   ]
  },
  {
   "cell_type": "code",
   "execution_count": 6,
   "id": "ffc0f5f4-a8bb-40f6-9583-8bdcdd1eab86",
   "metadata": {},
   "outputs": [
    {
     "data": {
      "text/plain": [
       "3"
      ]
     },
     "execution_count": 6,
     "metadata": {},
     "output_type": "execute_result"
    }
   ],
   "source": [
    "# longitud de la lista\n",
    "len(lista_nombres)"
   ]
  },
  {
   "cell_type": "code",
   "execution_count": 7,
   "id": "97a817eb-b349-43fa-a11a-b4a476493e26",
   "metadata": {},
   "outputs": [
    {
     "data": {
      "text/plain": [
       "True"
      ]
     },
     "execution_count": 7,
     "metadata": {},
     "output_type": "execute_result"
    }
   ],
   "source": [
    "# test de pertenencia a la lista (in, not in)\n",
    "'Rojo' in lista_nombres"
   ]
  },
  {
   "cell_type": "code",
   "execution_count": 8,
   "id": "80adf8a0-5a00-4ea3-a847-881af2117ce9",
   "metadata": {},
   "outputs": [
    {
     "data": {
      "text/plain": [
       "['Rojo', 'Verde', 'Amarillo', 'Azul']"
      ]
     },
     "execution_count": 8,
     "metadata": {},
     "output_type": "execute_result"
    }
   ],
   "source": [
    "lista_nombres.append('Azul')\n",
    "lista_nombres"
   ]
  },
  {
   "cell_type": "code",
   "execution_count": 9,
   "id": "cefed509-7265-44f5-a9c5-5d25e6c19046",
   "metadata": {},
   "outputs": [
    {
     "data": {
      "text/plain": [
       "['Rojo', 'Negro', 'Verde', 'Amarillo', 'Azul']"
      ]
     },
     "execution_count": 9,
     "metadata": {},
     "output_type": "execute_result"
    }
   ],
   "source": [
    "lista_nombres.insert(1, 'Negro')\n",
    "lista_nombres"
   ]
  },
  {
   "cell_type": "code",
   "execution_count": 10,
   "id": "73845843-d3a2-4518-99b2-169af0d831dc",
   "metadata": {},
   "outputs": [
    {
     "data": {
      "text/plain": [
       "'Verde'"
      ]
     },
     "execution_count": 10,
     "metadata": {},
     "output_type": "execute_result"
    }
   ],
   "source": [
    "lista_nombres[2]"
   ]
  },
  {
   "cell_type": "code",
   "execution_count": 11,
   "id": "aafe4489-159d-40b4-9598-9984cb029293",
   "metadata": {},
   "outputs": [
    {
     "data": {
      "text/plain": [
       "2"
      ]
     },
     "execution_count": 11,
     "metadata": {},
     "output_type": "execute_result"
    }
   ],
   "source": [
    "lista_nombres.index('Verde')"
   ]
  },
  {
   "cell_type": "code",
   "execution_count": 12,
   "id": "c49738dd-a973-4477-91b1-03ebc5358590",
   "metadata": {},
   "outputs": [
    {
     "data": {
      "text/plain": [
       "['Negro', 'Verde']"
      ]
     },
     "execution_count": 12,
     "metadata": {},
     "output_type": "execute_result"
    }
   ],
   "source": [
    "lista_nombres[1:3]"
   ]
  },
  {
   "cell_type": "code",
   "execution_count": 13,
   "id": "e0e56956-7590-4d68-869b-9526638f0d0f",
   "metadata": {},
   "outputs": [
    {
     "data": {
      "text/plain": [
       "['Negro', 'Verde', 'Amarillo', 'Azul']"
      ]
     },
     "execution_count": 13,
     "metadata": {},
     "output_type": "execute_result"
    }
   ],
   "source": [
    "lista_nombres[1:]"
   ]
  },
  {
   "cell_type": "code",
   "execution_count": 14,
   "id": "a4c64856-3649-46d5-bb07-aee58cc61096",
   "metadata": {},
   "outputs": [
    {
     "data": {
      "text/plain": [
       "['Rojo', 'Negro']"
      ]
     },
     "execution_count": 14,
     "metadata": {},
     "output_type": "execute_result"
    }
   ],
   "source": [
    "lista_nombres[:2]"
   ]
  },
  {
   "cell_type": "code",
   "execution_count": 15,
   "id": "2a2228b6-d50a-4b6c-85a1-c43450437d0c",
   "metadata": {},
   "outputs": [
    {
     "data": {
      "text/plain": [
       "['Rojo',\n",
       " 'Negro',\n",
       " 'Verde',\n",
       " 'Amarillo',\n",
       " 'Azul',\n",
       " 'Rojo',\n",
       " 'Negro',\n",
       " 'Verde',\n",
       " 'Amarillo',\n",
       " 'Azul']"
      ]
     },
     "execution_count": 15,
     "metadata": {},
     "output_type": "execute_result"
    }
   ],
   "source": [
    "# replicación: lista * n \n",
    "lista_nombres * 2"
   ]
  },
  {
   "cell_type": "code",
   "execution_count": 16,
   "id": "6b91044a-6f76-42d2-a80c-9f451d514b5c",
   "metadata": {},
   "outputs": [
    {
     "data": {
      "text/plain": [
       "['Rojo', 'Verde', 'Amarillo', 'Azul']"
      ]
     },
     "execution_count": 16,
     "metadata": {},
     "output_type": "execute_result"
    }
   ],
   "source": [
    "# borrado por valor\n",
    "lista_nombres.remove('Negro')\n",
    "lista_nombres"
   ]
  },
  {
   "cell_type": "code",
   "execution_count": 17,
   "id": "fa7c375e-2dd9-4176-8fd0-9288344fefd4",
   "metadata": {},
   "outputs": [
    {
     "data": {
      "text/plain": [
       "['Rojo', 'Verde', 'Azul']"
      ]
     },
     "execution_count": 17,
     "metadata": {},
     "output_type": "execute_result"
    }
   ],
   "source": [
    "# borrado por posición\n",
    "del lista_nombres[2]\n",
    "lista_nombres"
   ]
  },
  {
   "cell_type": "code",
   "execution_count": 18,
   "id": "c99534c2-4595-4455-b29a-1cda82882068",
   "metadata": {},
   "outputs": [
    {
     "data": {
      "text/plain": [
       "['Azul', 'Rojo', 'Verde']"
      ]
     },
     "execution_count": 18,
     "metadata": {},
     "output_type": "execute_result"
    }
   ],
   "source": [
    "# ordenar\n",
    "lista_nombres.sort()\n",
    "lista_nombres"
   ]
  },
  {
   "cell_type": "code",
   "execution_count": 19,
   "id": "c71fcd7f-fccb-4f27-9fb4-a8834a195e42",
   "metadata": {},
   "outputs": [
    {
     "data": {
      "text/plain": [
       "['Verde', 'Rojo', 'Azul']"
      ]
     },
     "execution_count": 19,
     "metadata": {},
     "output_type": "execute_result"
    }
   ],
   "source": [
    "# ordenar inverso\n",
    "lista_nombres.sort(reverse=True)\n",
    "lista_nombres"
   ]
  },
  {
   "cell_type": "code",
   "execution_count": 20,
   "id": "7a36dfe5-0fae-4c78-b61b-52cc4e070bca",
   "metadata": {},
   "outputs": [
    {
     "data": {
      "text/plain": [
       "[]"
      ]
     },
     "execution_count": 20,
     "metadata": {},
     "output_type": "execute_result"
    }
   ],
   "source": [
    "lista_nombres.clear()\n",
    "lista_nombres"
   ]
  },
  {
   "cell_type": "code",
   "execution_count": 21,
   "id": "95fedc02-f517-46d6-a161-8f3678869ed5",
   "metadata": {},
   "outputs": [
    {
     "data": {
      "text/plain": [
       "[1, 4]"
      ]
     },
     "execution_count": 21,
     "metadata": {},
     "output_type": "execute_result"
    }
   ],
   "source": [
    "lista_multi.remove([3, 2])\n",
    "lista_multi"
   ]
  },
  {
   "cell_type": "code",
   "execution_count": 22,
   "id": "d0403d89-5d4d-4477-a5ee-213c10f4c53c",
   "metadata": {},
   "outputs": [
    {
     "data": {
      "text/plain": [
       "[7, [3], 8]"
      ]
     },
     "execution_count": 22,
     "metadata": {},
     "output_type": "execute_result"
    }
   ],
   "source": [
    "lista_multi2 = [7, [3, 2], 8]\n",
    "lista_multi2[1].remove(2)\n",
    "lista_multi2"
   ]
  },
  {
   "cell_type": "markdown",
   "id": "dfe80d0d-cf50-45de-ac96-3775005e314c",
   "metadata": {},
   "source": [
    "## Tuplas\n",
    "---"
   ]
  },
  {
   "cell_type": "markdown",
   "id": "3741ef6c-9fd7-416e-950f-07518eb6b33b",
   "metadata": {},
   "source": [
    "* Listas inmutables\n",
    "* Ventajas: + rápidas en cuanto a ejecución y - espacio (mayor optimización)"
   ]
  },
  {
   "cell_type": "code",
   "execution_count": 33,
   "id": "42632ac6-b33f-4785-a26a-e8c70d2beda1",
   "metadata": {},
   "outputs": [],
   "source": [
    "tupla_vacia = ()\n",
    "tupla = ('Juan', 13, 1, 1995)\n",
    "tupla_tupla = ((1, 2, 3), (4, 5, 6))"
   ]
  },
  {
   "cell_type": "code",
   "execution_count": 34,
   "id": "31bc2c56-8b83-4688-876d-7d85836d20ef",
   "metadata": {},
   "outputs": [
    {
     "name": "stdout",
     "output_type": "stream",
     "text": [
      "()\n",
      "(1, 2, 3)\n",
      "('p', 'y', 't', 'h', 'o', 'n')\n"
     ]
    }
   ],
   "source": [
    "# tuple(c): crea una tupla con los elementos de la secuencia o colección c.\n",
    "print(tuple())\n",
    "print(tuple([1, 2, 3]))\n",
    "print(tuple('python'))"
   ]
  },
  {
   "cell_type": "code",
   "execution_count": 35,
   "id": "a39259fa-a3aa-48d5-8c48-1c1aa1d6980e",
   "metadata": {},
   "outputs": [
    {
     "data": {
      "text/plain": [
       "13"
      ]
     },
     "execution_count": 35,
     "metadata": {},
     "output_type": "execute_result"
    }
   ],
   "source": [
    "tupla[1]"
   ]
  },
  {
   "cell_type": "code",
   "execution_count": 36,
   "id": "36345486-d4c6-4a71-98c3-417031f368fc",
   "metadata": {},
   "outputs": [
    {
     "data": {
      "text/plain": [
       "4"
      ]
     },
     "execution_count": 36,
     "metadata": {},
     "output_type": "execute_result"
    }
   ],
   "source": [
    "len(tupla)"
   ]
  },
  {
   "cell_type": "code",
   "execution_count": 37,
   "id": "538043a7-9244-4fbe-9cfd-a56cd0f20957",
   "metadata": {},
   "outputs": [
    {
     "data": {
      "text/plain": [
       "0"
      ]
     },
     "execution_count": 37,
     "metadata": {},
     "output_type": "execute_result"
    }
   ],
   "source": [
    "tupla.count(9)"
   ]
  },
  {
   "cell_type": "code",
   "execution_count": 38,
   "id": "d3fd232f-835f-4069-bd7f-d596a9c6ff44",
   "metadata": {},
   "outputs": [
    {
     "data": {
      "text/plain": [
       "0"
      ]
     },
     "execution_count": 38,
     "metadata": {},
     "output_type": "execute_result"
    }
   ],
   "source": [
    "tupla.index('Juan')"
   ]
  },
  {
   "cell_type": "code",
   "execution_count": 39,
   "id": "d5948bc4-c195-4552-890c-c199d0e5f8ca",
   "metadata": {},
   "outputs": [
    {
     "data": {
      "text/plain": [
       "True"
      ]
     },
     "execution_count": 39,
     "metadata": {},
     "output_type": "execute_result"
    }
   ],
   "source": [
    "'Juan' in tupla"
   ]
  },
  {
   "cell_type": "code",
   "execution_count": 40,
   "id": "363ea467-a28e-4aa2-b64c-8375c683943f",
   "metadata": {},
   "outputs": [
    {
     "data": {
      "text/plain": [
       "['Juan', 13, 1, 1995]"
      ]
     },
     "execution_count": 40,
     "metadata": {},
     "output_type": "execute_result"
    }
   ],
   "source": [
    "list(tupla)          # Convierte tupla en lista"
   ]
  },
  {
   "cell_type": "code",
   "execution_count": 41,
   "id": "866c41bc-34e7-4ff5-bcdf-6ad4196e2963",
   "metadata": {},
   "outputs": [
    {
     "data": {
      "text/plain": [
       "'Juan'"
      ]
     },
     "execution_count": 41,
     "metadata": {},
     "output_type": "execute_result"
    }
   ],
   "source": [
    "nom, dd, mm, yyyy = tupla # desempaquetado de tupla\n",
    "nom"
   ]
  },
  {
   "cell_type": "markdown",
   "id": "1f518bb4-7afe-4dc8-8a1d-5fbb2a9753e3",
   "metadata": {},
   "source": [
    "## Diccionarios\n",
    "---"
   ]
  },
  {
   "cell_type": "markdown",
   "id": "4e3ce96a-5e4f-4fbb-be3c-668bfcefbc63",
   "metadata": {},
   "source": [
    "* Asociación de tipo clave : valor\n",
    "* Los elementos almacenados no están ordenados"
   ]
  },
  {
   "cell_type": "code",
   "execution_count": 42,
   "id": "a4394dee-5118-480c-88da-5237509dd3e5",
   "metadata": {},
   "outputs": [],
   "source": [
    "dicc_vacio = {}\n",
    "dicc = {'Arg':'Bs As', 'Chile':'Santiago', 'Brasil':'Brasilia'}\n",
    "dicc_dicc = {'nom_full': {'nom': 'pp', 'ape': 'perez'}, 'edad': 45}"
   ]
  },
  {
   "cell_type": "code",
   "execution_count": 44,
   "id": "0b0db4d9-d0db-43c0-ae2b-b6729ef11c45",
   "metadata": {},
   "outputs": [
    {
     "data": {
      "text/plain": [
       "'Brasilia'"
      ]
     },
     "execution_count": 44,
     "metadata": {},
     "output_type": "execute_result"
    }
   ],
   "source": [
    "dicc['Brasil']"
   ]
  },
  {
   "cell_type": "code",
   "execution_count": 45,
   "id": "dc9db340-c4a8-4fac-b9f5-cb746e4523c3",
   "metadata": {},
   "outputs": [
    {
     "data": {
      "text/plain": [
       "'Brasilia'"
      ]
     },
     "execution_count": 45,
     "metadata": {},
     "output_type": "execute_result"
    }
   ],
   "source": [
    "dicc.get('Brasil')"
   ]
  },
  {
   "cell_type": "code",
   "execution_count": 46,
   "id": "a31a8f2b-ab9e-4fc8-91f3-80427a25c642",
   "metadata": {},
   "outputs": [
    {
     "data": {
      "text/plain": [
       "3"
      ]
     },
     "execution_count": 46,
     "metadata": {},
     "output_type": "execute_result"
    }
   ],
   "source": [
    "len(dicc)"
   ]
  },
  {
   "cell_type": "code",
   "execution_count": 47,
   "id": "bee2629a-94f3-4499-9422-99dd92fcfb81",
   "metadata": {},
   "outputs": [
    {
     "data": {
      "text/plain": [
       "'Arg'"
      ]
     },
     "execution_count": 47,
     "metadata": {},
     "output_type": "execute_result"
    }
   ],
   "source": [
    "min(dicc)"
   ]
  },
  {
   "cell_type": "code",
   "execution_count": 48,
   "id": "b81b290b-0dd9-4a5f-bb33-2cb7a1e80153",
   "metadata": {},
   "outputs": [
    {
     "data": {
      "text/plain": [
       "'Chile'"
      ]
     },
     "execution_count": 48,
     "metadata": {},
     "output_type": "execute_result"
    }
   ],
   "source": [
    "max(dicc)"
   ]
  },
  {
   "cell_type": "code",
   "execution_count": 50,
   "id": "1785d866-c644-4837-8c6a-6372f60d39ea",
   "metadata": {},
   "outputs": [
    {
     "data": {
      "text/plain": [
       "False"
      ]
     },
     "execution_count": 50,
     "metadata": {},
     "output_type": "execute_result"
    }
   ],
   "source": [
    "'España' in dicc"
   ]
  },
  {
   "cell_type": "code",
   "execution_count": 51,
   "id": "987d25f0-0bb7-43f1-b7fe-08e57d6e3f29",
   "metadata": {},
   "outputs": [
    {
     "data": {
      "text/plain": [
       "dict_keys(['Arg', 'Chile', 'Brasil'])"
      ]
     },
     "execution_count": 51,
     "metadata": {},
     "output_type": "execute_result"
    }
   ],
   "source": [
    "dicc.keys()"
   ]
  },
  {
   "cell_type": "code",
   "execution_count": 52,
   "id": "55e5719b-5ccb-49d5-895d-4db366f17e31",
   "metadata": {},
   "outputs": [
    {
     "data": {
      "text/plain": [
       "dict_values(['Bs As', 'Santiago', 'Brasilia'])"
      ]
     },
     "execution_count": 52,
     "metadata": {},
     "output_type": "execute_result"
    }
   ],
   "source": [
    "dicc.values()"
   ]
  },
  {
   "cell_type": "code",
   "execution_count": 53,
   "id": "b09f5fef-b42d-47c9-af85-3c229981df38",
   "metadata": {},
   "outputs": [
    {
     "data": {
      "text/plain": [
       "dict_items([('Arg', 'Bs As'), ('Chile', 'Santiago'), ('Brasil', 'Brasilia')])"
      ]
     },
     "execution_count": 53,
     "metadata": {},
     "output_type": "execute_result"
    }
   ],
   "source": [
    "dicc.items()"
   ]
  },
  {
   "cell_type": "code",
   "execution_count": 54,
   "id": "d8781983-93a8-42dc-a3cb-cc8c91506d97",
   "metadata": {},
   "outputs": [],
   "source": [
    "dicc['Arg'] = 'Buenos Aires'            # agregar elemento"
   ]
  },
  {
   "cell_type": "code",
   "execution_count": 55,
   "id": "a04d333b-409f-46d3-831c-9d639b05b5b9",
   "metadata": {},
   "outputs": [],
   "source": [
    "dicc.update({'Uruguay': 'Montevideo'})  # actualiza"
   ]
  },
  {
   "cell_type": "code",
   "execution_count": 56,
   "id": "f63aacb3-f52f-4b14-a5e0-f0a7f6adf1c7",
   "metadata": {},
   "outputs": [
    {
     "data": {
      "text/plain": [
       "'Montevideo'"
      ]
     },
     "execution_count": 56,
     "metadata": {},
     "output_type": "execute_result"
    }
   ],
   "source": [
    "dicc.pop('Uruguay')                     # elimina elemento"
   ]
  },
  {
   "cell_type": "code",
   "execution_count": 57,
   "id": "72871999-df16-40af-97d3-a95f244ae0f8",
   "metadata": {},
   "outputs": [],
   "source": [
    "dicc.clear()"
   ]
  },
  {
   "cell_type": "code",
   "execution_count": 58,
   "id": "0807b3a1-bda3-4b91-9a47-5b60ade27cd8",
   "metadata": {},
   "outputs": [
    {
     "data": {
      "text/plain": [
       "{}"
      ]
     },
     "execution_count": 58,
     "metadata": {},
     "output_type": "execute_result"
    }
   ],
   "source": [
    "dicc"
   ]
  }
 ],
 "metadata": {
  "kernelspec": {
   "display_name": "Python [conda env:base] *",
   "language": "python",
   "name": "conda-base-py"
  },
  "language_info": {
   "codemirror_mode": {
    "name": "ipython",
    "version": 3
   },
   "file_extension": ".py",
   "mimetype": "text/x-python",
   "name": "python",
   "nbconvert_exporter": "python",
   "pygments_lexer": "ipython3",
   "version": "3.12.7"
  }
 },
 "nbformat": 4,
 "nbformat_minor": 5
}
