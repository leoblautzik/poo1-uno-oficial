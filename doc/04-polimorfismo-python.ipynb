{
 "cells": [
  {
   "cell_type": "markdown",
   "id": "50e1a5e8-7618-4920-935d-f334b16423ab",
   "metadata": {},
   "source": [
    "# Polimorfismo - Python\n",
    "---"
   ]
  },
  {
   "cell_type": "markdown",
   "id": "70fc8d41-a66b-4451-b3b3-aceb6bbe2f68",
   "metadata": {},
   "source": [
    "## Ejemplo\n",
    "---"
   ]
  },
  {
   "cell_type": "code",
   "execution_count": 1,
   "id": "96e25c9d-0a98-4e13-a2c9-5224de553efd",
   "metadata": {},
   "outputs": [
    {
     "name": "stdout",
     "output_type": "stream",
     "text": [
      "soy A\n",
      "soy B\n"
     ]
    }
   ],
   "source": [
    "class A:\n",
    "    \n",
    "    def m(self):\n",
    "        print('soy A')\n",
    "\n",
    "class B:\n",
    "    \n",
    "    def m(self):\n",
    "        print('soy B')\n",
    "\n",
    "def hacer(x):\n",
    "    # en tiempo de ejecución sabe a que método \"m\" \n",
    "    # invocar dependiendo del tipo de objeto\n",
    "    x.m()       \n",
    "\n",
    "hacer(A())\n",
    "hacer(B())"
   ]
  },
  {
   "cell_type": "markdown",
   "id": "e4cbc930-04a8-479b-888d-0cc076ba086d",
   "metadata": {},
   "source": [
    "## Interfaces\n",
    "---"
   ]
  },
  {
   "cell_type": "markdown",
   "id": "26b8af19-ad2c-49a4-94cd-579cade9157b",
   "metadata": {},
   "source": [
    "* Es una forma de describir lo que deberían hacer las clases sin especificar cómo deben hacerlo (protocolo de comportamiento)\n",
    "* Es una colección de declaraciones de constantes y definiciones de métodos sin implementación, agrupados bajo un nombre\n",
    "* No debe crecer, si se cambia el comportamiento de una interface, todas las clases que la implementen fallarán "
   ]
  },
  {
   "cell_type": "markdown",
   "id": "62d78c03-f0cb-4411-a31f-53d535799644",
   "metadata": {},
   "source": [
    "### Interfaces informales\n",
    "---"
   ]
  },
  {
   "cell_type": "code",
   "execution_count": 2,
   "id": "9209264e-648a-4f85-a304-b94a3b0d88fa",
   "metadata": {},
   "outputs": [],
   "source": [
    "# simple clase que no implementa los métodos\n",
    "class Mando:\n",
    "    \n",
    "    def ch_up(self):\n",
    "        pass\n",
    "        \n",
    "    def ch_dw(self):\n",
    "        pass\n",
    "\n",
    "# clase extiende a la clase Mando pero no esta obligada a implementar los métodos\n",
    "class MandoSamsung(Mando):\n",
    "    \n",
    "    def ch_up(self):\n",
    "        return \"Samsung-> +\"\n",
    "    \n",
    "    def ch_dw(self):\n",
    "        return \"Samsung-> -\"\n",
    "\n",
    "class MandoLG(Mando):\n",
    "    \n",
    "    def ch_up(self):\n",
    "        return \"LG -> +\"\n",
    "    def ch_dw(self):\n",
    "        return \"LG -> -\""
   ]
  },
  {
   "cell_type": "markdown",
   "id": "aa53e0e9-3020-4654-81e0-6302ba212b92",
   "metadata": {},
   "source": [
    "### Interfaces formales\n",
    "---"
   ]
  },
  {
   "cell_type": "code",
   "execution_count": 4,
   "id": "7e5abd5a-4d43-4dc6-b677-8f517f2483ab",
   "metadata": {},
   "outputs": [
    {
     "ename": "TypeError",
     "evalue": "Can't instantiate abstract class Mando without an implementation for abstract methods 'ch_dw', 'ch_up'",
     "output_type": "error",
     "traceback": [
      "\u001b[0;31m---------------------------------------------------------------------------\u001b[0m",
      "\u001b[0;31mTypeError\u001b[0m                                 Traceback (most recent call last)",
      "Cell \u001b[0;32mIn[4], line 23\u001b[0m\n\u001b[1;32m     20\u001b[0m     \u001b[38;5;28;01mdef\u001b[39;00m \u001b[38;5;21mch_dw\u001b[39m(\u001b[38;5;28mself\u001b[39m):\n\u001b[1;32m     21\u001b[0m         \u001b[38;5;28;01mreturn\u001b[39;00m \u001b[38;5;124m\"\u001b[39m\u001b[38;5;124mSamsung-> -\u001b[39m\u001b[38;5;124m\"\u001b[39m\n\u001b[0;32m---> 23\u001b[0m mando \u001b[38;5;241m=\u001b[39m Mando()\n",
      "\u001b[0;31mTypeError\u001b[0m: Can't instantiate abstract class Mando without an implementation for abstract methods 'ch_dw', 'ch_up'"
     ]
    }
   ],
   "source": [
    "from abc import abstractmethod\n",
    "from abc import ABCMeta\n",
    "\n",
    "class Mando(metaclass=ABCMeta):\n",
    "    \n",
    "    @abstractmethod\n",
    "    def ch_up(self):\n",
    "        pass\n",
    "        \n",
    "    @abstractmethod\n",
    "    def ch_dw(self):\n",
    "        pass\n",
    "\n",
    "# clase extiende a la clase Mando y esta obligada a implementar los métodos\n",
    "class MandoSamsung(Mando):\n",
    "    \n",
    "    def ch_up(self):\n",
    "        return \"Samsung-> +\"\n",
    "    \n",
    "    def ch_dw(self):\n",
    "        return \"Samsung-> -\"\n",
    "\n",
    "mando = Mando()"
   ]
  }
 ],
 "metadata": {
  "kernelspec": {
   "display_name": "Python [conda env:base] *",
   "language": "python",
   "name": "conda-base-py"
  },
  "language_info": {
   "codemirror_mode": {
    "name": "ipython",
    "version": 3
   },
   "file_extension": ".py",
   "mimetype": "text/x-python",
   "name": "python",
   "nbconvert_exporter": "python",
   "pygments_lexer": "ipython3",
   "version": "3.12.7"
  }
 },
 "nbformat": 4,
 "nbformat_minor": 5
}
