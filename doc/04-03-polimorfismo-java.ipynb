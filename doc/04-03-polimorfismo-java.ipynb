{
 "cells": [
  {
   "cell_type": "markdown",
   "id": "50e1a5e8-7618-4920-935d-f334b16423ab",
   "metadata": {},
   "source": [
    "# Polimorfismo - Java\n",
    "---"
   ]
  },
  {
   "cell_type": "markdown",
   "id": "70fc8d41-a66b-4451-b3b3-aceb6bbe2f68",
   "metadata": {},
   "source": [
    "## Ejemplo\n",
    "---"
   ]
  },
  {
   "cell_type": "code",
   "execution_count": null,
   "id": "7aa5f936-0786-443a-8c90-a2510e4165b2",
   "metadata": {},
   "outputs": [],
   "source": [
    "CuentaBancaria cuentaBancaria;\n",
    "cuentaBancaria = new CajaDeAhorro();\n",
    "cuentaBancaria = new CuentaCorriente();"
   ]
  },
  {
   "cell_type": "markdown",
   "id": "e4cbc930-04a8-479b-888d-0cc076ba086d",
   "metadata": {},
   "source": [
    "## Interfaces\n",
    "---"
   ]
  },
  {
   "cell_type": "markdown",
   "id": "26b8af19-ad2c-49a4-94cd-579cade9157b",
   "metadata": {},
   "source": [
    "* Es una forma de describir lo que deberían hacer las clases sin especificar cómo deben hacerlo (protocolo de comportamiento)\n",
    "* Es una colección de declaraciones de constantes y definiciones de métodos sin implementación, agrupados bajo un nombre\n",
    "* No debe crecer, si se cambia el comportamiento de una interface, todas las clases que la implementen fallarán\n",
    "* La razón de usar interfaces es que Java tiene comprobación estricta de tipos. Cuando se hace una llamada a un método, el compilador necesita ser capaz de averiguar si el método existe realmente  "
   ]
  },
  {
   "cell_type": "code",
   "execution_count": null,
   "id": "68eaf158-59e4-4054-8cc5-8715f1f10ba3",
   "metadata": {},
   "outputs": [],
   "source": [
    "package nombre_paquete;\n",
    "{importaciones}\n",
    "[public] interface NombreInterface [extends SuperInterfaces] {\n",
    "    [Constantes, por default public static final]\n",
    "    [Encabezados de métodos, por default public abstract]\n",
    "}"
   ]
  },
  {
   "cell_type": "markdown",
   "id": "942eac36-e423-49bd-82cd-38dfd553d4a6",
   "metadata": {},
   "source": [
    "* Puede extender múltiples interfaces. Por lo tanto, se tiene herencia múltiple de interfaces\n",
    "* Super Interfaces es una lista de nombres de interfaces separados por coma\n",
    "* Una interfaz hereda todas las constantes y métodos de sus Super Interfaces"
   ]
  },
  {
   "cell_type": "markdown",
   "id": "62d78c03-f0cb-4411-a31f-53d535799644",
   "metadata": {},
   "source": [
    "## Ejemplo 1\n",
    "---"
   ]
  },
  {
   "cell_type": "markdown",
   "id": "2cf2889b-13e6-4d4d-a3c4-1fb0ca141d67",
   "metadata": {},
   "source": [
    "![Ejemplo Interface](img/interface-ejemplo.jpg)"
   ]
  },
  {
   "cell_type": "markdown",
   "id": "aa53e0e9-3020-4654-81e0-6302ba212b92",
   "metadata": {},
   "source": [
    "## Ejemplo 2\n",
    "---"
   ]
  },
  {
   "cell_type": "code",
   "execution_count": null,
   "id": "68a7d982-f596-4a95-80d4-dc2cecd4f186",
   "metadata": {},
   "outputs": [],
   "source": [
    "public interface Reseteable {\n",
    "    void reset();\n",
    "}"
   ]
  },
  {
   "cell_type": "code",
   "execution_count": null,
   "id": "0d1512aa-3060-4489-8db9-bcdcc692a6fa",
   "metadata": {},
   "outputs": [],
   "source": [
    "public class Punto implements Reseteable {\n",
    "    public void reset() {\n",
    "      //TODO\n",
    "    }\n",
    "}"
   ]
  },
  {
   "cell_type": "markdown",
   "id": "be997a39-cfe3-4f2e-96a9-cf7d356d2bbb",
   "metadata": {},
   "source": [
    "## Propiedades\n",
    "---"
   ]
  },
  {
   "cell_type": "markdown",
   "id": "f0d598e8-01af-4d4f-a365-91df3c094bbc",
   "metadata": {},
   "source": [
    "| Propiedades | Ejemplo |\n",
    "| -- | -- |\n",
    "| Una clase que implementa una interface debe implementar cada uno de los métodos que están definidos en ésta, sino tendrá que ser declarada como abstracta ||\n",
    "| Una clase puede implementar una o más interfaces | public class A implements B, C { } |\n",
    "| Se pueden declarar variables de tipo interface | Reseteable reseteable; |\n",
    "| Las variables de tipo interface tienen que referirse a un objeto de tipo de una clase que implemente la interface | reseteable = new Punto(); |\n",
    "| Se puede usar instanceof para comprobar si un objeto implementa o no la interface | new Punto(5.0, 3.0) instanceof Reseteable; |"
   ]
  }
 ],
 "metadata": {
  "kernelspec": {
   "display_name": "Python [conda env:base] *",
   "language": "python",
   "name": "conda-base-py"
  },
  "language_info": {
   "codemirror_mode": {
    "name": "ipython",
    "version": 3
   },
   "file_extension": ".py",
   "mimetype": "text/x-python",
   "name": "python",
   "nbconvert_exporter": "python",
   "pygments_lexer": "ipython3",
   "version": "3.12.7"
  }
 },
 "nbformat": 4,
 "nbformat_minor": 5
}
