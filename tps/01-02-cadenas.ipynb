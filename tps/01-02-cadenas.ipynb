{
 "cells": [
  {
   "cell_type": "markdown",
   "id": "d55775ea-308b-4704-ad15-ba350bd366bf",
   "metadata": {},
   "source": [
    "# TP - Cadenas\n",
    "---"
   ]
  },
  {
   "cell_type": "markdown",
   "id": "f7eb56dd-c9be-452f-9425-71827d631ed7",
   "metadata": {},
   "source": [
    "## Mostrar n veces username"
   ]
  },
  {
   "cell_type": "markdown",
   "id": "bd90c1c4-2604-4430-85cd-0d511c54901c",
   "metadata": {},
   "source": [
    "Escribir un programa que pregunte el nombre del usuario en la consola y un número entero e imprima por pantalla en líneas distintas el nombre del usuario tantas veces como el número introducido"
   ]
  },
  {
   "cell_type": "code",
   "execution_count": null,
   "id": "8cf5d8f3-cbaf-4b5a-b1ad-8fd53431f7d6",
   "metadata": {},
   "outputs": [],
   "source": []
  },
  {
   "cell_type": "markdown",
   "id": "150ddf6c-f114-4893-950f-c50406a1505c",
   "metadata": {},
   "source": [
    "## Mostrar nombre en min, MAY y Capital"
   ]
  },
  {
   "cell_type": "markdown",
   "id": "02003be0-3188-4fd7-92c3-5ec9939659fe",
   "metadata": {},
   "source": [
    "Escribir un programa que pregunte el nombre completo del usuario en la consola y después muestre por pantalla el nombre completo del usuario tres veces, una con todas las letras minúsculas, otra con todas las letras mayúsculas y otra solo con la primera letra del nombre y de los apellidos en mayúscula. El usuario puede introducir su nombre combinando mayúsculas y minúsculas como quiera"
   ]
  },
  {
   "cell_type": "code",
   "execution_count": null,
   "id": "d1c66940-9273-45d4-a43d-b1cd036d1c76",
   "metadata": {},
   "outputs": [],
   "source": []
  },
  {
   "cell_type": "markdown",
   "id": "df8f6dd6-1d75-4c64-bcb0-b12ef5bda888",
   "metadata": {},
   "source": [
    "## Cantidad de letras"
   ]
  },
  {
   "cell_type": "markdown",
   "id": "30e3a2dc-9645-4c28-927f-8311ca537f89",
   "metadata": {},
   "source": [
    "Escribir un programa que pregunte el nombre del usuario en la consola y después de que el usuario lo introduzca muestre por pantalla \\<NOMBRE> tiene \\<n> letras, donde \\<NOMBRE> es el nombre de usuario en mayúsculas y \\<n> es el número de letras que tienen el nombre"
   ]
  },
  {
   "cell_type": "code",
   "execution_count": null,
   "id": "f5a3777a-06f0-4fec-bca3-ff79ffacdf15",
   "metadata": {},
   "outputs": [],
   "source": []
  },
  {
   "cell_type": "markdown",
   "id": "53b496b1-5b5b-472a-aa4d-ecec1df68290",
   "metadata": {},
   "source": [
    "## Teléfono sin prefijo ni extensión"
   ]
  },
  {
   "cell_type": "markdown",
   "id": "551953da-0218-4859-b15a-7e859f29fb44",
   "metadata": {},
   "source": [
    "Los teléfonos de una empresa tienen el siguiente formato prefijo-número-extension donde el prefijo es el código del país +54, y la extensión tiene cuatro dígitos (por ejemplo +54-9115847-1056). Escribir un programa que pregunte por un número de teléfono con este formato y muestre por pantalla el número de teléfono sin el prefijo y la extensión"
   ]
  },
  {
   "cell_type": "code",
   "execution_count": null,
   "id": "a949f8b9-ae76-47e8-8166-a46321a6b05f",
   "metadata": {},
   "outputs": [],
   "source": []
  },
  {
   "cell_type": "markdown",
   "id": "5d979f31-f532-4d0a-823c-bcdcc16e8a18",
   "metadata": {},
   "source": [
    "## Frase invertida"
   ]
  },
  {
   "cell_type": "markdown",
   "id": "4924e306-078c-4a4a-8dee-cc39d9479b23",
   "metadata": {},
   "source": [
    "Escribir un programa que pida al usuario que introduzca una frase en la consola y muestre por pantalla la frase invertida"
   ]
  },
  {
   "cell_type": "code",
   "execution_count": null,
   "id": "b19315da-1be4-4bf9-a6c8-b60676d7e958",
   "metadata": {},
   "outputs": [],
   "source": []
  },
  {
   "cell_type": "markdown",
   "id": "bbce67f3-5290-49d6-bf43-6a0c9a5c68c7",
   "metadata": {},
   "source": [
    "## Vocal MAY"
   ]
  },
  {
   "cell_type": "markdown",
   "id": "8b0aea79-5b56-406f-ad25-d51ceb962f67",
   "metadata": {},
   "source": [
    "Escribir un programa que pida al usuario que introduzca una frase en la consola y una vocal, y después muestre por pantalla la misma frase, pero con la vocal introducida en mayúscula"
   ]
  },
  {
   "cell_type": "code",
   "execution_count": null,
   "id": "786c24be-3298-4aad-aa8a-0c1196910710",
   "metadata": {},
   "outputs": [],
   "source": []
  },
  {
   "cell_type": "markdown",
   "id": "ceb51e3a-8966-4b70-af37-b324fee526fd",
   "metadata": {},
   "source": [
    "## Email"
   ]
  },
  {
   "cell_type": "markdown",
   "id": "77cf9e40-9c76-4d95-a42e-aadafb96f125",
   "metadata": {},
   "source": [
    "Escribir un programa que pregunte el correo electrónico del usuario en la consola y muestre por pantalla otro correo electrónico con el mismo nombre (la parte delante de la arroba @) pero con dominio argentina.ar"
   ]
  },
  {
   "cell_type": "code",
   "execution_count": null,
   "id": "e13aaf88-8e1a-47b8-bed7-f3573b46e3ab",
   "metadata": {},
   "outputs": [],
   "source": []
  },
  {
   "cell_type": "markdown",
   "id": "dd487fa7-4870-485e-8e09-308689b8fb08",
   "metadata": {},
   "source": [
    "## Precio"
   ]
  },
  {
   "cell_type": "markdown",
   "id": "841671e5-a205-4be7-9f31-4e5a7ea34907",
   "metadata": {},
   "source": [
    "Escribir un programa que pregunte por consola el precio de un producto en pesos con dos decimales y muestre por pantalla el número de pesos y el número de centavos del precio introducido"
   ]
  },
  {
   "cell_type": "code",
   "execution_count": null,
   "id": "e3c6172a-ad0b-4ddd-aa0c-1f6bee950ac9",
   "metadata": {},
   "outputs": [],
   "source": []
  },
  {
   "cell_type": "markdown",
   "id": "69c18a7d-6e11-41cf-9821-ce54c34a4783",
   "metadata": {},
   "source": [
    "## Fecha de nacimiento"
   ]
  },
  {
   "cell_type": "markdown",
   "id": "c1a808cf-211c-40e4-8b4c-3b0bfbfae4b6",
   "metadata": {},
   "source": [
    "Escribir un programa que pregunte al usuario la fecha de su nacimiento en formato dd/mm/aaaa y muestra por pantalla, el día, el mes y el año"
   ]
  },
  {
   "cell_type": "code",
   "execution_count": null,
   "id": "86aed427-c0fb-48dc-96c0-dcf04e15e6e8",
   "metadata": {},
   "outputs": [],
   "source": []
  },
  {
   "cell_type": "markdown",
   "id": "881aa07d-76b3-49e6-9d51-d3f9a6d46444",
   "metadata": {},
   "source": [
    "## Carrito de compras"
   ]
  },
  {
   "cell_type": "markdown",
   "id": "a85e991b-ed0e-4948-a3fd-d58bea6887bf",
   "metadata": {},
   "source": [
    "Escribir un programa que pregunte por consola por los productos de un carrito de compras, separados por comas, y muestre por pantalla cada uno de los productos en una línea distinta"
   ]
  },
  {
   "cell_type": "code",
   "execution_count": null,
   "id": "f819791c-f23e-4358-ac67-3ff01db641dd",
   "metadata": {},
   "outputs": [],
   "source": []
  },
  {
   "cell_type": "markdown",
   "id": "b6d85e51-22f3-441f-a754-0b97a386b76b",
   "metadata": {},
   "source": [
    "## Producto"
   ]
  },
  {
   "cell_type": "markdown",
   "id": "f6d34daf-bd38-4542-8df9-d09196434460",
   "metadata": {},
   "source": [
    "Escribir un programa que pregunte el nombre de un producto, su precio y un número de unidades y muestre por pantalla una cadena con el nombre del producto seguido de su precio unitario con 6 dígitos enteros y 2 decimales, el número de unidades con tres dígitos y el coste total con 8 dígitos enteros y 2 decimales"
   ]
  },
  {
   "cell_type": "code",
   "execution_count": null,
   "id": "d853ec0d-de1a-413a-9c31-da48f441318d",
   "metadata": {},
   "outputs": [],
   "source": []
  }
 ],
 "metadata": {
  "kernelspec": {
   "display_name": "Python [conda env:base] *",
   "language": "python",
   "name": "conda-base-py"
  },
  "language_info": {
   "codemirror_mode": {
    "name": "ipython",
    "version": 3
   },
   "file_extension": ".py",
   "mimetype": "text/x-python",
   "name": "python",
   "nbconvert_exporter": "python",
   "pygments_lexer": "ipython3",
   "version": "3.12.7"
  }
 },
 "nbformat": 4,
 "nbformat_minor": 5
}
