{
 "cells": [
  {
   "cell_type": "markdown",
   "id": "201251c4-aa5a-4072-b9ef-733ae7151278",
   "metadata": {},
   "source": [
    "# TP - Bucles\n",
    "---"
   ]
  },
  {
   "cell_type": "markdown",
   "id": "439168b3-0e10-4cad-9cb8-9ad4008de446",
   "metadata": {},
   "source": [
    "## Palabras x 10"
   ]
  },
  {
   "cell_type": "markdown",
   "id": "4bba2430-6448-4a70-a46c-c9eeea37b75e",
   "metadata": {},
   "source": [
    "Escribir un programa que pida al usuario una palabra y la muestre por pantalla 10 veces"
   ]
  },
  {
   "cell_type": "code",
   "execution_count": null,
   "id": "62527796-206a-483c-8d9e-7f37cbe7414d",
   "metadata": {},
   "outputs": [],
   "source": []
  },
  {
   "cell_type": "markdown",
   "id": "063f782b-27ff-4c70-ae85-ef61aba66962",
   "metadata": {},
   "source": [
    "## Edad"
   ]
  },
  {
   "cell_type": "markdown",
   "id": "88a12377-8aa9-4e71-812b-5588420c3550",
   "metadata": {},
   "source": [
    "Escribir un programa que pregunte al usuario su edad y muestre por pantalla todos los años que ha cumplido (desde 1 hasta su edad)"
   ]
  },
  {
   "cell_type": "code",
   "execution_count": null,
   "id": "a0585fa0-f3c7-46d2-845b-9cb6d1a1c544",
   "metadata": {},
   "outputs": [],
   "source": []
  },
  {
   "cell_type": "markdown",
   "id": "50b8054f-1b39-4256-8f93-76f6947f731f",
   "metadata": {},
   "source": [
    "## Sumados"
   ]
  },
  {
   "cell_type": "markdown",
   "id": "e22aa950-a3ea-4e50-926a-f99d549f5e37",
   "metadata": {},
   "source": [
    "Sumar los 10 primeros números naturales (1 + 2 + 3 + 4 + … + 10), imprimiendo por cada suma el resultado parcial obtenido"
   ]
  },
  {
   "cell_type": "code",
   "execution_count": null,
   "id": "75365545-6c9c-41ef-b34c-b641d2a27151",
   "metadata": {},
   "outputs": [],
   "source": []
  },
  {
   "cell_type": "markdown",
   "id": "b6689c5d-7e76-44d8-9439-16374224a43e",
   "metadata": {},
   "source": [
    "## Impares"
   ]
  },
  {
   "cell_type": "markdown",
   "id": "1577dbc0-831f-40e7-b269-af9243285cf9",
   "metadata": {},
   "source": [
    "Escribir un programa que pida al usuario un número entero positivo y muestre por pantalla todos los números impares desde 1 hasta ese número separados por comas"
   ]
  },
  {
   "cell_type": "code",
   "execution_count": null,
   "id": "84d2abf0-736b-4b0d-9c10-53da41e7de47",
   "metadata": {},
   "outputs": [],
   "source": []
  },
  {
   "cell_type": "markdown",
   "id": "368689f2-ed5a-4631-b870-bdfe69afd782",
   "metadata": {},
   "source": [
    "## Cuenta atras"
   ]
  },
  {
   "cell_type": "markdown",
   "id": "eb7f5f43-b7ed-4586-9868-9ff0410df43b",
   "metadata": {},
   "source": [
    "Escribir un programa que pida al usuario un número entero positivo y muestre por pantalla la cuenta atrás desde ese número hasta cero separados por comas"
   ]
  },
  {
   "cell_type": "code",
   "execution_count": null,
   "id": "6136f728-dfe4-418a-8361-6b3f2c11f93f",
   "metadata": {},
   "outputs": [],
   "source": []
  },
  {
   "cell_type": "markdown",
   "id": "696fb926-bbc9-4ec1-95cd-2e26081ba86d",
   "metadata": {},
   "source": [
    "## Capital inversión"
   ]
  },
  {
   "cell_type": "markdown",
   "id": "a3977991-f168-4fcf-a3d8-c8a28360459f",
   "metadata": {},
   "source": [
    "Escribir un programa que pregunte al usuario una cantidad a invertir, el interés anual y el número de años, y muestre por pantalla el capital obtenido en la inversión cada año que dura la inversión"
   ]
  },
  {
   "cell_type": "code",
   "execution_count": null,
   "id": "052b97b6-1f6e-43ef-9335-f8d4205ee358",
   "metadata": {},
   "outputs": [],
   "source": []
  },
  {
   "cell_type": "markdown",
   "id": "b5306219-31a2-4189-8ea2-335acfdad170",
   "metadata": {},
   "source": [
    "## Triángulo"
   ]
  },
  {
   "cell_type": "markdown",
   "id": "651f06bf-ac8b-4ffa-beaf-0076ea677870",
   "metadata": {},
   "source": [
    "Escribir un programa que pida al usuario un número entero y muestre por pantalla un triángulo rectángulo como el de más abajo, de altura el número introducido\n",
    "* \\*\n",
    "* \\**\n",
    "* \\***\n",
    "* \\****\n",
    "* \\*****"
   ]
  },
  {
   "cell_type": "code",
   "execution_count": null,
   "id": "f9e7f9b4-e463-43d5-b712-8bc1b4ce85bf",
   "metadata": {},
   "outputs": [],
   "source": []
  },
  {
   "cell_type": "markdown",
   "id": "742aaf2e-ddc5-4994-9783-05c3b87de167",
   "metadata": {},
   "source": [
    "## Tabla multiplicar"
   ]
  },
  {
   "cell_type": "markdown",
   "id": "99eb79fd-dde8-4f95-9be7-646a18d113ca",
   "metadata": {},
   "source": [
    "Escribir un programa que muestre por pantalla la tabla de multiplicar del 1 al 10"
   ]
  },
  {
   "cell_type": "code",
   "execution_count": null,
   "id": "6c5872fd-13cc-48b8-9388-639cf42babf9",
   "metadata": {},
   "outputs": [],
   "source": []
  },
  {
   "cell_type": "markdown",
   "id": "42f560fd-8241-4440-a667-ea4e5cd71323",
   "metadata": {},
   "source": [
    "## Contraseña"
   ]
  },
  {
   "cell_type": "markdown",
   "id": "41b94f5b-4d1b-40c4-8ee2-a6c3331016c2",
   "metadata": {},
   "source": [
    "Escribir un programa que almacene la cadena de caracteres contraseña en una variable, pregunte al usuario por la contraseña hasta que introduzca la contraseña correcta"
   ]
  },
  {
   "cell_type": "code",
   "execution_count": null,
   "id": "8cb33e9b-b2ae-4352-861a-8f8df9873794",
   "metadata": {},
   "outputs": [],
   "source": []
  },
  {
   "cell_type": "markdown",
   "id": "af6907fc-242f-435c-95d1-ef1c68e725e8",
   "metadata": {},
   "source": [
    "## Primo"
   ]
  },
  {
   "cell_type": "markdown",
   "id": "16427548-8ae9-4b15-a124-6228f21be99a",
   "metadata": {},
   "source": [
    "Escribir un programa que pida al usuario un número entero y muestre por pantalla si es un número primo o no"
   ]
  },
  {
   "cell_type": "code",
   "execution_count": null,
   "id": "8193df40-649b-411e-859a-b3c93224758c",
   "metadata": {},
   "outputs": [],
   "source": []
  },
  {
   "cell_type": "markdown",
   "id": "d75025d3-a727-471a-bd16-3052ccd7d1f8",
   "metadata": {},
   "source": [
    "## Letras / Palabras"
   ]
  },
  {
   "cell_type": "markdown",
   "id": "89bfa066-9311-4b34-8e9f-65f77003ebd4",
   "metadata": {},
   "source": [
    "Escribir un programa que pida al usuario una palabra y luego muestre por pantalla una a una las letras de la palabra introducida empezando por la última"
   ]
  },
  {
   "cell_type": "code",
   "execution_count": null,
   "id": "7c9f75be-33d4-464a-942b-253b98f98bad",
   "metadata": {},
   "outputs": [],
   "source": []
  },
  {
   "cell_type": "markdown",
   "id": "2186c0bb-fd54-484a-ae93-c913b7dd4d9d",
   "metadata": {},
   "source": [
    "## Veces letra en frase"
   ]
  },
  {
   "cell_type": "markdown",
   "id": "1cdef0ee-7fff-4450-910c-a8d594bfdce1",
   "metadata": {},
   "source": [
    "Escribir un programa en el que se pregunte al usuario por una frase y una letra, y muestre por pantalla el número de veces que aparece la letra en la frase"
   ]
  },
  {
   "cell_type": "code",
   "execution_count": null,
   "id": "3a336a80-37e5-4fc1-8713-23c229a11c70",
   "metadata": {},
   "outputs": [],
   "source": []
  },
  {
   "cell_type": "markdown",
   "id": "cd6dee3a-68dc-4edc-a812-45a0a335b7e2",
   "metadata": {},
   "source": [
    "## Eco"
   ]
  },
  {
   "cell_type": "markdown",
   "id": "bb6282ef-763b-4d42-99e4-6358220dad00",
   "metadata": {},
   "source": [
    "Escribir un programa que muestre el eco de todo lo que el usuario introduzca hasta que el usuario escriba \"salir\""
   ]
  },
  {
   "cell_type": "code",
   "execution_count": null,
   "id": "33ede437-c74d-45e4-9c55-c05697841aad",
   "metadata": {},
   "outputs": [],
   "source": []
  }
 ],
 "metadata": {
  "kernelspec": {
   "display_name": "Python [conda env:base] *",
   "language": "python",
   "name": "conda-base-py"
  },
  "language_info": {
   "codemirror_mode": {
    "name": "ipython",
    "version": 3
   },
   "file_extension": ".py",
   "mimetype": "text/x-python",
   "name": "python",
   "nbconvert_exporter": "python",
   "pygments_lexer": "ipython3",
   "version": "3.12.7"
  }
 },
 "nbformat": 4,
 "nbformat_minor": 5
}
